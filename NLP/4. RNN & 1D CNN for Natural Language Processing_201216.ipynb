{
 "cells": [
  {
   "cell_type": "markdown",
   "metadata": {},
   "source": [
    "- tanh 말고 relu 써도 성능 별 차이없음\n",
    "- DNN은 문서의 벡터, RNN은 단어의 벡터가 입력\n",
    "- 위로는 ht만 보냄. 옆으로는 ct, ht\n",
    "- 데이터 많으면 tf.keras.layers.LSTM 어중간하면 GRU 성능 우수(몇만개)\n",
    "- tf.keras.layers.LSTM, GRU도 기억 소실을 완전히 해결하지는 못함 -> attention 등장\n",
    "- 7:3으로 학습과정, 테스트 과정 나눔(과적합 방지)\n",
    "- Wx, Wh, b는 time step마다 달라지지 않음(고정)\n",
    "- 30 + 9 + 3\n",
    "- time step이랑 param #은 상관없음\n",
    "- 엘모 : 임베딩용 / 버트 : 임베딩 or LM 자체\n",
    "- tf.keras.layers.Bidirectional로는 LM 만들수없다(autoregressive 모델)"
   ]
  },
  {
   "cell_type": "code",
   "execution_count": 364,
   "metadata": {
    "id": "JYgSWKuLAW4D"
   },
   "outputs": [
    {
     "name": "stderr",
     "output_type": "stream",
     "text": [
      "C:\\Users\\5CG7092POZ\\Anaconda3\\envs\\tf2.3\\lib\\site-packages\\tqdm\\std.py:703: FutureWarning: The Panel class is removed from pandas. Accessing it from the top-level namespace will also be removed in the next version\n",
      "  from pandas import Panel\n"
     ]
    }
   ],
   "source": [
    "import pandas as pd\n",
    "import numpy as np\n",
    "import tensorflow as tf\n",
    "import urllib.request\n",
    "import matplotlib as mpl\n",
    "import matplotlib.pyplot as plt\n",
    "import seaborn as sb\n",
    "import string\n",
    "from hanspell import spell_checker\n",
    "from tqdm.notebook import tqdm\n",
    "from soynlp.normalizer import *\n",
    "import MeCab\n",
    "from konlpy.tag import *\n",
    "import json\n",
    "import re\n",
    "from sklearn.model_selection import train_test_split\n",
    "\n",
    "class Mecab:\n",
    "    def pos(self, text):\n",
    "        p = re.compile(\".+\\t[A-Z]+\")\n",
    "        return [tuple(p.match(line).group().split(\"\\t\")) for line in MeCab.Tagger().parse(text).splitlines()[:-1]]\n",
    "    \n",
    "    def morphs(self, text):\n",
    "        p = re.compile(\".+\\t[A-Z]+\")\n",
    "        return [p.match(line).group().split(\"\\t\")[0] for line in MeCab.Tagger().parse(text).splitlines()[:-1]]\n",
    "    \n",
    "    def nouns(self, text):\n",
    "        p = re.compile(\".+\\t[A-Z]+\")\n",
    "        temp = [tuple(p.match(line).group().split(\"\\t\")) for line in MeCab.Tagger().parse(text).splitlines()[:-1]]\n",
    "        nouns=[]\n",
    "        for word in temp:\n",
    "            if word[1] in [\"NNG\", \"NNP\", \"NNB\", \"NNBC\", \"NP\", \"NR\"]:\n",
    "                nouns.append(word[0])\n",
    "        return nouns\n",
    "    \n",
    "mcb = Mecab()\n",
    "\n",
    "tqdm.pandas()\n",
    "\n",
    "plt.style.use(\"dark_background\")"
   ]
  },
  {
   "cell_type": "markdown",
   "metadata": {
    "id": "tISU0nwyf-cf"
   },
   "source": [
    "## 1. RNN(Recurrent Neural Network)\n",
    "\n",
    "### 1-1. Numpy로 순환 신경망 구현하기\n",
    "- t 시점의 hidden state\n",
    "$$h_{t} = \\tanh(W_hh_{t-1} + W_tx_t + b)$$"
   ]
  },
  {
   "cell_type": "code",
   "execution_count": 2,
   "metadata": {
    "id": "JYgSWKuLAW4D"
   },
   "outputs": [],
   "source": [
    "#시점의 수. NLP에서는 보통 문장의 길이가 된다.\n",
    "timesteps = 10\n",
    "#입력의 차원. NLP에서는 보통 단어 벡터의 차원이 된다.\n",
    "input_dim = 4\n",
    "#은닉 상태의 크기. 메모리 셀의 용량입니다.\n",
    "hidden_size = 8\n",
    "\n",
    "#입력에 해당되는 2D 텐서\n",
    "inputs = np.random.random((timesteps, input_dim))\n",
    "\n",
    "#은닉 상태의 크기 hidden_size로 은닉 상태를 만든다.\n",
    "h_t = np.zeros((hidden_size,)) # 초기 은닉 상태는 0(벡터)로 초기화\n",
    "\n",
    "Wx = np.random.random((hidden_size, input_dim))\n",
    "Wh = np.random.random((hidden_size, hidden_size))\n",
    "b = np.random.random((hidden_size,))"
   ]
  },
  {
   "cell_type": "code",
   "execution_count": 3,
   "metadata": {
    "colab": {
     "base_uri": "https://localhost:8080/",
     "height": 574
    },
    "id": "AAVic5BiAge_",
    "outputId": "23010fa9-1799-4051-f4ac-61531a9186a1"
   },
   "outputs": [],
   "source": [
    "hidden_states = []\n",
    "for x_t in inputs: # 각 시점에 따라서 입력값이 입력됨.\n",
    "    temp = np.tanh(np.dot(Wh, h_t) + np.dot(Wx, x_t) + b)\n",
    "    hidden_states.append(temp)\n",
    "    h_t = temp\n",
    "\n",
    "#(timesteps, output_dim)의 shape로 만듭니다.\n",
    "hidden_states = np.stack(hidden_states, axis=0) "
   ]
  },
  {
   "cell_type": "markdown",
   "metadata": {
    "id": "e3fe-sgyAR8k"
   },
   "source": [
    "### 1-2. TensorFlow로 구현하기\n",
    "\n",
    "#### (1) SimpleRNN"
   ]
  },
  {
   "cell_type": "code",
   "execution_count": 4,
   "metadata": {
    "colab": {
     "base_uri": "https://localhost:8080/",
     "height": 194
    },
    "id": "LFYnTDyo_q6S",
    "outputId": "35c24995-6276-41d0-bfee-e6fe042dff1e"
   },
   "outputs": [
    {
     "name": "stdout",
     "output_type": "stream",
     "text": [
      "Model: \"sequential\"\n",
      "_________________________________________________________________\n",
      "Layer (type)                 Output Shape              Param #   \n",
      "=================================================================\n",
      "simple_rnn (SimpleRNN)       (None, 3)                 42        \n",
      "=================================================================\n",
      "Total params: 42\n",
      "Trainable params: 42\n",
      "Non-trainable params: 0\n",
      "_________________________________________________________________\n"
     ]
    }
   ],
   "source": [
    "model = tf.keras.Sequential()\n",
    "model.add(tf.keras.layers.SimpleRNN(units=3, input_shape=(2, 10)))\n",
    "\n",
    "model.summary()"
   ]
  },
  {
   "cell_type": "markdown",
   "metadata": {
    "id": "pFUpMd5F_34u"
   },
   "source": [
    "- 참고로 time_step은 파라미터 수에 전혀 영향을 주지 않습니다.  \n",
    "- 출력값이 (batch_size, output_dim) 크기의 2D 텐서일 때, output_dim은 hidden_size의 값인 3입니다. 이 경우 batch_size를 현 단계에서는 알 수 없으므로 (None, 3)이 됩니다. 이번에는 batch_size를 미리 정의해보겠습니다."
   ]
  },
  {
   "cell_type": "code",
   "execution_count": 5,
   "metadata": {
    "colab": {
     "base_uri": "https://localhost:8080/",
     "height": 194
    },
    "id": "F0adsrlU_6Mh",
    "outputId": "b51cf965-904a-46b9-f273-4bc6c16a8bc1"
   },
   "outputs": [
    {
     "name": "stdout",
     "output_type": "stream",
     "text": [
      "Model: \"sequential_1\"\n",
      "_________________________________________________________________\n",
      "Layer (type)                 Output Shape              Param #   \n",
      "=================================================================\n",
      "simple_rnn_1 (SimpleRNN)     (8, 3)                    42        \n",
      "=================================================================\n",
      "Total params: 42\n",
      "Trainable params: 42\n",
      "Non-trainable params: 0\n",
      "_________________________________________________________________\n"
     ]
    }
   ],
   "source": [
    "model = tf.keras.Sequential()\n",
    "model.add(tf.keras.layers.SimpleRNN(units=3, batch_input_shape=(8, 2, 10)))\n",
    "\n",
    "model.summary()"
   ]
  },
  {
   "cell_type": "markdown",
   "metadata": {
    "id": "PyMJG-0C_882"
   },
   "source": [
    "- batch_size를 8로 기재하자, 출력의 크기가 (8, 3)이 된 것을 볼 수 있습니다.\n",
    "- 이제 return_sequences 매개 변수에 True를 기재하여 출력값으로 (batch_size, timesteps, output_dim) 크기의 3D 텐서를 리턴하도록 모델을 만들어 보도록 하겠습니다."
   ]
  },
  {
   "cell_type": "code",
   "execution_count": 6,
   "metadata": {
    "colab": {
     "base_uri": "https://localhost:8080/",
     "height": 194
    },
    "id": "IffYIPFTAAAw",
    "outputId": "a8938f80-9afb-47e1-ad42-579cfd6ad942"
   },
   "outputs": [
    {
     "name": "stdout",
     "output_type": "stream",
     "text": [
      "Model: \"sequential_2\"\n",
      "_________________________________________________________________\n",
      "Layer (type)                 Output Shape              Param #   \n",
      "=================================================================\n",
      "simple_rnn_2 (SimpleRNN)     (8, 2, 3)                 42        \n",
      "=================================================================\n",
      "Total params: 42\n",
      "Trainable params: 42\n",
      "Non-trainable params: 0\n",
      "_________________________________________________________________\n"
     ]
    }
   ],
   "source": [
    "model = tf.keras.Sequential()\n",
    "model.add(tf.keras.layers.SimpleRNN(units=3, batch_input_shape=(8, 2, 10), return_sequences=True))\n",
    "\n",
    "model.summary()"
   ]
  },
  {
   "cell_type": "markdown",
   "metadata": {
    "id": "TI0LaKEQArI8"
   },
   "source": [
    "#### (2) Deep RNN(은닉층이 2개인 깊은 순환 신경망)"
   ]
  },
  {
   "cell_type": "code",
   "execution_count": 7,
   "metadata": {
    "id": "sS41QIGxAuQC"
   },
   "outputs": [],
   "source": [
    "model = tf.keras.Sequential()\n",
    "model.add(tf.keras.layers.SimpleRNN(units=hidden_size, return_sequences=True))\n",
    "model.add(tf.keras.layers.SimpleRNN(units=hidden_size, return_sequences=True))"
   ]
  },
  {
   "cell_type": "markdown",
   "metadata": {
    "id": "zm9KCtglA04x"
   },
   "source": [
    "#### (3) Bidirectional RNN(양방향 순환 신경망)"
   ]
  },
  {
   "cell_type": "code",
   "execution_count": 8,
   "metadata": {
    "id": "eVOz_RyLA1t7"
   },
   "outputs": [],
   "source": [
    "model = tf.keras.Sequential()\n",
    "model.add(tf.keras.layers.Bidirectional(tf.keras.layers.SimpleRNN(units=hidden_size, return_sequences=True), input_shape=(timesteps, input_dim)))"
   ]
  },
  {
   "cell_type": "markdown",
   "metadata": {
    "id": "ZVI6mRPfBLjo"
   },
   "source": [
    "#### (4) Deep Bidirecional RNN(깊은 양방향 순환 신경망)"
   ]
  },
  {
   "cell_type": "code",
   "execution_count": 9,
   "metadata": {
    "id": "t1lHo1HyBOci"
   },
   "outputs": [],
   "source": [
    "model = tf.keras.Sequential()\n",
    "model.add(tf.keras.layers.Bidirectional(tf.keras.layers.SimpleRNN(hidden_size, return_sequences=True), input_shape=(timesteps, input_dim)))\n",
    "model.add(tf.keras.layers.Bidirectional(tf.keras.layers.SimpleRNN(hidden_size, return_sequences=True)))\n",
    "model.add(tf.keras.layers.Bidirectional(tf.keras.layers.SimpleRNN(hidden_size, return_sequences=True)))\n",
    "model.add(tf.keras.layers.Bidirectional(tf.keras.layers.SimpleRNN(hidden_size, return_sequences=True)))"
   ]
  },
  {
   "cell_type": "markdown",
   "metadata": {
    "id": "Q2wie_xuBSVF"
   },
   "source": [
    "#### (5) LSTM"
   ]
  },
  {
   "cell_type": "code",
   "execution_count": 10,
   "metadata": {
    "id": "tkdVSJslBeLw"
   },
   "outputs": [],
   "source": [
    "model = tf.keras.Sequential()\n",
    "model.add(tf.keras.layers.LSTM(units=hidden_size, input_shape=(timesteps, input_dim)))"
   ]
  },
  {
   "cell_type": "markdown",
   "metadata": {
    "id": "dgJ6cjdzBaEz"
   },
   "source": [
    "#### (6) GRU 구현하기"
   ]
  },
  {
   "cell_type": "code",
   "execution_count": 11,
   "metadata": {
    "id": "us9f0EKPBU3C"
   },
   "outputs": [],
   "source": [
    "# 실제 GRU 은닉층을 추가하는 코드.\n",
    "model = tf.keras.Sequential()\n",
    "model.add(tf.keras.layers.GRU(units=hidden_size, input_shape=(timesteps, input_dim)))"
   ]
  },
  {
   "cell_type": "markdown",
   "metadata": {
    "id": "4LhRHBlLFS-t"
   },
   "source": [
    "### 1-3. 로이터 뉴스 분류하기"
   ]
  },
  {
   "cell_type": "code",
   "execution_count": 12,
   "metadata": {
    "colab": {
     "base_uri": "https://localhost:8080/"
    },
    "id": "26YkUGKHF31L",
    "outputId": "9c962666-280d-43d1-e50d-52015ce92347"
   },
   "outputs": [],
   "source": [
    "(X_train, y_train), (X_test, y_test) = tf.keras.datasets.reuters.load_data(num_words=None, test_split=0.2)"
   ]
  },
  {
   "cell_type": "code",
   "execution_count": 40,
   "metadata": {
    "colab": {
     "base_uri": "https://localhost:8080/"
    },
    "id": "eTdyI5u8F5Hb",
    "outputId": "e5ff0ac9-d87e-4ed9-acea-deb818a1f3bf"
   },
   "outputs": [
    {
     "name": "stdout",
     "output_type": "stream",
     "text": [
      "8982\n",
      "2246\n",
      "46\n"
     ]
    }
   ],
   "source": [
    "print(len(X_train))\n",
    "print(len(X_test))\n",
    "n_clss = len(set(y_train))\n",
    "print(n_clss)"
   ]
  },
  {
   "cell_type": "code",
   "execution_count": 18,
   "metadata": {},
   "outputs": [
    {
     "data": {
      "text/plain": [
       "145.5398574927633"
      ]
     },
     "execution_count": 18,
     "metadata": {},
     "output_type": "execute_result"
    }
   ],
   "source": [
    "np.mean(list(map(len, X_train)))"
   ]
  },
  {
   "cell_type": "code",
   "execution_count": 26,
   "metadata": {
    "colab": {
     "base_uri": "https://localhost:8080/",
     "height": 314
    },
    "id": "gGuG58NlF9Vr",
    "outputId": "dc9de906-b596-4f74-e5f6-80fbe1a157d9"
   },
   "outputs": [
    {
     "name": "stdout",
     "output_type": "stream",
     "text": [
      "뉴스 기사의 최대 길이 : 2376\n",
      "뉴스 기사의 평균 길이 : 145.5398574927633\n"
     ]
    },
    {
     "data": {
      "image/png": "[encoded data removed]",
      "text/plain": [
       "<Figure size 432x288 with 1 Axes>"
      ]
     },
     "metadata": {},
     "output_type": "display_data"
    }
   ],
   "source": [
    "print(f\"뉴스 기사의 최대 길이 : {max([len(doc) for doc in X_train])}\")\n",
    "print(f\"뉴스 기사의 평균 길이 : {np.mean(list(map(len, X_train)))}\")\n",
    "\n",
    "fig, ax = plt.subplots()\n",
    "\n",
    "plt.hist([len(doc) for doc in X_train], bins=50)\n",
    "\n",
    "fig.tight_layout()"
   ]
  },
  {
   "cell_type": "code",
   "execution_count": 37,
   "metadata": {
    "colab": {
     "base_uri": "https://localhost:8080/",
     "height": 393
    },
    "id": "x54uvmccF-WL",
    "outputId": "d830ef72-ebd5-45f0-ab67-77907e42c953"
   },
   "outputs": [
    {
     "name": "stderr",
     "output_type": "stream",
     "text": [
      "C:\\Users\\5CG7092POZ\\Anaconda3\\envs\\tf2.3\\lib\\site-packages\\seaborn\\_decorators.py:43: FutureWarning: Pass the following variable as a keyword arg: x. From version 0.12, the only valid positional argument will be `data`, and passing other arguments without an explicit keyword will result in an error or misinterpretation.\n",
      "  FutureWarning\n"
     ]
    },
    {
     "data": {
      "image/png": "[encoded data removed]",
      "text/plain": [
       "<Figure size 576x216 with 1 Axes>"
      ]
     },
     "metadata": {},
     "output_type": "display_data"
    }
   ],
   "source": [
    "fig, ax = plt.subplots(figsize=(8, 3))\n",
    "\n",
    "sb.countplot(y_train)\n",
    "\n",
    "fig.tight_layout()"
   ]
  },
  {
   "cell_type": "code",
   "execution_count": 42,
   "metadata": {
    "colab": {
     "base_uri": "https://localhost:8080/"
    },
    "id": "2hQflGOSGACr",
    "outputId": "7ec658b0-0df8-4e79-c8ad-ea9c3e7d2d88"
   },
   "outputs": [],
   "source": [
    "clss, counts = np.unique(y_train, return_counts=True)\n",
    "\n",
    "cls2cnt = dict(zip(unique_elements, counts_elements))"
   ]
  },
  {
   "cell_type": "code",
   "execution_count": 44,
   "metadata": {},
   "outputs": [
    {
     "name": "stdout",
     "output_type": "stream",
     "text": [
      "{0: 55, 1: 432, 2: 74, 3: 3159, 4: 1949, 5: 17, 6: 48, 7: 16, 8: 139, 9: 101, 10: 124, 11: 390, 12: 49, 13: 172, 14: 26, 15: 20, 16: 444, 17: 39, 18: 66, 19: 549, 20: 269, 21: 100, 22: 15, 23: 41, 24: 62, 25: 92, 26: 24, 27: 15, 28: 48, 29: 19, 30: 45, 31: 39, 32: 32, 33: 11, 34: 50, 35: 10, 36: 49, 37: 19, 38: 19, 39: 24, 40: 36, 41: 30, 42: 13, 43: 21, 44: 12, 45: 18}\n"
     ]
    }
   ],
   "source": [
    "print(cls2cnt)"
   ]
  },
  {
   "cell_type": "code",
   "execution_count": 54,
   "metadata": {
    "colab": {
     "base_uri": "https://localhost:8080/"
    },
    "id": "BczXeINiGBsM",
    "outputId": "298c4cfe-631a-4c2f-8d7b-4c91affcf9d9"
   },
   "outputs": [],
   "source": [
    "word2idx = tf.keras.datasets.reuters.get_word_index()\n",
    "\n",
    "idx2word = {}\n",
    "for key, value in word2idx.items():\n",
    "    idx2word[value] = key"
   ]
  },
  {
   "cell_type": "code",
   "execution_count": 55,
   "metadata": {
    "colab": {
     "base_uri": "https://localhost:8080/"
    },
    "id": "sad_6XmXGGkc",
    "outputId": "f8ccaa23-7eaa-41d7-de6a-1ac0abc085b1"
   },
   "outputs": [
    {
     "name": "stdout",
     "output_type": "stream",
     "text": [
      "the wattie nondiscriminatory mln loss for plc said at only ended said commonwealth could 1 traders now april 0 a after said from 1985 and from foreign 000 april 0 prices its account year a but in this mln home an states earlier and rise and revs vs 000 its 16 vs 000 a but 3 psbr oils several and shareholders and dividend vs 000 its all 4 vs 000 1 mln agreed largely april 0 are 2 states will billion total and against 000 pct dlrs\n"
     ]
    }
   ],
   "source": [
    "# for index, token in enumerate((\"<pad>\", \"<sos>\", \"<unk>\")):\n",
    "#     idx2word[index]=token\n",
    "\n",
    "print(\" \".join([idx2word[index] for index in X_train[0]]))"
   ]
  },
  {
   "cell_type": "markdown",
   "metadata": {
    "id": "MLp3nSAmHkdw"
   },
   "source": [
    "## 모델 설계하기"
   ]
  },
  {
   "cell_type": "code",
   "execution_count": 59,
   "metadata": {
    "id": "Sp0T0oOLHnyX"
   },
   "outputs": [],
   "source": [
    "(X_train, y_train), (X_test, y_test) = tf.keras.datasets.reuters.load_data(num_words=1000, test_split=0.2)\n",
    "\n",
    "max_len = 100\n",
    "\n",
    "X_train = tf.keras.preprocessing.sequence.pad_sequences(X_train, maxlen=max_len)\n",
    "X_test = tf.keras.preprocessing.sequence.pad_sequences(X_test, maxlen=max_len)"
   ]
  },
  {
   "cell_type": "code",
   "execution_count": 71,
   "metadata": {
    "id": "L6jiOcZnHsn4"
   },
   "outputs": [],
   "source": [
    "model = tf.keras.Sequential()\n",
    "model.add(tf.keras.layers.Embedding(input_dim=1000, output_dim=120))\n",
    "model.add(tf.keras.layers.LSTM(units=120))\n",
    "model.add(tf.keras.layers.Dense(units=46, activation=\"softmax\"))\n",
    "\n",
    "es = tf.keras.callbacks.EarlyStopping(monitor=\"val_loss\", mode=\"auto\", verbose=1, patience=4)\n",
    "filepath = \"best_model.h5\"\n",
    "mc = tf.keras.callbacks.ModelCheckpoint(filepath=filepath, monitor=\"val_acc\", mode=\"auto\", verbose=1, save_best_only=True)"
   ]
  },
  {
   "cell_type": "markdown",
   "metadata": {
    "id": "ufQI-dYLIBYh"
   },
   "source": [
    "patience는 '현재 최고 성능'을 기준으로 더 나아지지 않는 경우를 연속 n번까지는 참는다입니다. 예를 들어서 patience가 2라고 했을 때 멈추는 경우는 다음과 같습니다.  \n",
    "\n",
    "val_loss: 0.5921 < 현재 최고 성능  \n",
    "val_loss: 0.5731 < 현재 최고 성능  \n",
    "val_loss: 0.5956 < 1번 참음  \n",
    "val_loss: 0.5753 < 2번 참음 (loss가 직전 대비 줄은 것과는 상관 없음)  \n",
    "val_loss: 0.5977 < 더 이상 못 참으므로 중단"
   ]
  },
  {
   "cell_type": "code",
   "execution_count": 72,
   "metadata": {
    "id": "T3ZCxGnLHwDq",
    "scrolled": true
   },
   "outputs": [
    {
     "name": "stdout",
     "output_type": "stream",
     "text": [
      "Epoch 1/30\n",
      "71/71 [==============================] - ETA: 0s - loss: 2.6363 - sparse_categorical_accuracy: 0.3459WARNING:tensorflow:Can save best model only with val_acc available, skipping.\n",
      "71/71 [==============================] - 19s 266ms/step - loss: 2.6363 - sparse_categorical_accuracy: 0.3459 - val_loss: 2.3799 - val_sparse_categorical_accuracy: 0.3620\n",
      "Epoch 2/30\n",
      "71/71 [==============================] - ETA: 0s - loss: 2.1126 - sparse_categorical_accuracy: 0.4701WARNING:tensorflow:Can save best model only with val_acc available, skipping.\n",
      "71/71 [==============================] - 18s 256ms/step - loss: 2.1126 - sparse_categorical_accuracy: 0.4701 - val_loss: 2.0080 - val_sparse_categorical_accuracy: 0.5125\n",
      "Epoch 3/30\n",
      "71/71 [==============================] - ETA: 0s - loss: 1.9639 - sparse_categorical_accuracy: 0.5085WARNING:tensorflow:Can save best model only with val_acc available, skipping.\n",
      "71/71 [==============================] - 18s 249ms/step - loss: 1.9639 - sparse_categorical_accuracy: 0.5085 - val_loss: 1.8535 - val_sparse_categorical_accuracy: 0.5254\n",
      "Epoch 4/30\n",
      "71/71 [==============================] - ETA: 0s - loss: 1.9952 - sparse_categorical_accuracy: 0.5086WARNING:tensorflow:Can save best model only with val_acc available, skipping.\n",
      "71/71 [==============================] - 17s 245ms/step - loss: 1.9952 - sparse_categorical_accuracy: 0.5086 - val_loss: 1.9585 - val_sparse_categorical_accuracy: 0.5205\n",
      "Epoch 5/30\n",
      "71/71 [==============================] - ETA: 0s - loss: 1.7788 - sparse_categorical_accuracy: 0.5523WARNING:tensorflow:Can save best model only with val_acc available, skipping.\n",
      "71/71 [==============================] - 18s 249ms/step - loss: 1.7788 - sparse_categorical_accuracy: 0.5523 - val_loss: 1.7321 - val_sparse_categorical_accuracy: 0.5579\n",
      "Epoch 6/30\n",
      "71/71 [==============================] - ETA: 0s - loss: 1.6907 - sparse_categorical_accuracy: 0.5756WARNING:tensorflow:Can save best model only with val_acc available, skipping.\n",
      "71/71 [==============================] - 25s 358ms/step - loss: 1.6907 - sparse_categorical_accuracy: 0.5756 - val_loss: 1.7067 - val_sparse_categorical_accuracy: 0.5775\n",
      "Epoch 7/30\n",
      "71/71 [==============================] - ETA: 0s - loss: 1.6671 - sparse_categorical_accuracy: 0.5826WARNING:tensorflow:Can save best model only with val_acc available, skipping.\n",
      "71/71 [==============================] - 22s 307ms/step - loss: 1.6671 - sparse_categorical_accuracy: 0.5826 - val_loss: 1.6813 - val_sparse_categorical_accuracy: 0.5744\n",
      "Epoch 8/30\n",
      "71/71 [==============================] - ETA: 0s - loss: 1.5747 - sparse_categorical_accuracy: 0.6010WARNING:tensorflow:Can save best model only with val_acc available, skipping.\n",
      "71/71 [==============================] - 17s 243ms/step - loss: 1.5747 - sparse_categorical_accuracy: 0.6010 - val_loss: 1.6159 - val_sparse_categorical_accuracy: 0.5935\n",
      "Epoch 9/30\n",
      "71/71 [==============================] - ETA: 0s - loss: 1.4905 - sparse_categorical_accuracy: 0.6259WARNING:tensorflow:Can save best model only with val_acc available, skipping.\n",
      "71/71 [==============================] - 18s 249ms/step - loss: 1.4905 - sparse_categorical_accuracy: 0.6259 - val_loss: 1.5640 - val_sparse_categorical_accuracy: 0.6069\n",
      "Epoch 10/30\n",
      "71/71 [==============================] - ETA: 0s - loss: 1.4380 - sparse_categorical_accuracy: 0.6420WARNING:tensorflow:Can save best model only with val_acc available, skipping.\n",
      "71/71 [==============================] - 18s 252ms/step - loss: 1.4380 - sparse_categorical_accuracy: 0.6420 - val_loss: 1.5254 - val_sparse_categorical_accuracy: 0.6180\n",
      "Epoch 11/30\n",
      "71/71 [==============================] - ETA: 0s - loss: 1.3503 - sparse_categorical_accuracy: 0.6543WARNING:tensorflow:Can save best model only with val_acc available, skipping.\n",
      "71/71 [==============================] - 19s 271ms/step - loss: 1.3503 - sparse_categorical_accuracy: 0.6543 - val_loss: 1.4425 - val_sparse_categorical_accuracy: 0.6402\n",
      "Epoch 12/30\n",
      "71/71 [==============================] - ETA: 0s - loss: 1.2692 - sparse_categorical_accuracy: 0.6757WARNING:tensorflow:Can save best model only with val_acc available, skipping.\n",
      "71/71 [==============================] - 18s 255ms/step - loss: 1.2692 - sparse_categorical_accuracy: 0.6757 - val_loss: 1.3722 - val_sparse_categorical_accuracy: 0.6612\n",
      "Epoch 13/30\n",
      "71/71 [==============================] - ETA: 0s - loss: 1.2146 - sparse_categorical_accuracy: 0.6919WARNING:tensorflow:Can save best model only with val_acc available, skipping.\n",
      "71/71 [==============================] - 20s 279ms/step - loss: 1.2146 - sparse_categorical_accuracy: 0.6919 - val_loss: 1.3664 - val_sparse_categorical_accuracy: 0.6532\n",
      "Epoch 14/30\n",
      "71/71 [==============================] - ETA: 0s - loss: 1.1631 - sparse_categorical_accuracy: 0.7067WARNING:tensorflow:Can save best model only with val_acc available, skipping.\n",
      "71/71 [==============================] - 18s 248ms/step - loss: 1.1631 - sparse_categorical_accuracy: 0.7067 - val_loss: 1.2988 - val_sparse_categorical_accuracy: 0.6839\n",
      "Epoch 15/30\n",
      "71/71 [==============================] - ETA: 0s - loss: 1.0926 - sparse_categorical_accuracy: 0.7260WARNING:tensorflow:Can save best model only with val_acc available, skipping.\n",
      "71/71 [==============================] - 17s 244ms/step - loss: 1.0926 - sparse_categorical_accuracy: 0.7260 - val_loss: 1.2637 - val_sparse_categorical_accuracy: 0.6763\n",
      "Epoch 16/30\n",
      "71/71 [==============================] - ETA: 0s - loss: 1.0418 - sparse_categorical_accuracy: 0.7348WARNING:tensorflow:Can save best model only with val_acc available, skipping.\n",
      "71/71 [==============================] - 18s 249ms/step - loss: 1.0418 - sparse_categorical_accuracy: 0.7348 - val_loss: 1.2503 - val_sparse_categorical_accuracy: 0.6866\n",
      "Epoch 17/30\n",
      "71/71 [==============================] - ETA: 0s - loss: 0.9833 - sparse_categorical_accuracy: 0.7521WARNING:tensorflow:Can save best model only with val_acc available, skipping.\n",
      "71/71 [==============================] - 18s 249ms/step - loss: 0.9833 - sparse_categorical_accuracy: 0.7521 - val_loss: 1.2215 - val_sparse_categorical_accuracy: 0.6937\n",
      "Epoch 18/30\n",
      "71/71 [==============================] - ETA: 0s - loss: 0.9463 - sparse_categorical_accuracy: 0.7613WARNING:tensorflow:Can save best model only with val_acc available, skipping.\n",
      "71/71 [==============================] - 17s 246ms/step - loss: 0.9463 - sparse_categorical_accuracy: 0.7613 - val_loss: 1.2279 - val_sparse_categorical_accuracy: 0.6995\n",
      "Epoch 19/30\n",
      "71/71 [==============================] - ETA: 0s - loss: 0.9074 - sparse_categorical_accuracy: 0.7717WARNING:tensorflow:Can save best model only with val_acc available, skipping.\n",
      "71/71 [==============================] - 18s 254ms/step - loss: 0.9074 - sparse_categorical_accuracy: 0.7717 - val_loss: 1.2143 - val_sparse_categorical_accuracy: 0.6977\n",
      "Epoch 20/30\n",
      "71/71 [==============================] - ETA: 0s - loss: 0.8800 - sparse_categorical_accuracy: 0.7782WARNING:tensorflow:Can save best model only with val_acc available, skipping.\n",
      "71/71 [==============================] - 17s 242ms/step - loss: 0.8800 - sparse_categorical_accuracy: 0.7782 - val_loss: 1.2177 - val_sparse_categorical_accuracy: 0.7044\n",
      "Epoch 21/30\n",
      "71/71 [==============================] - ETA: 0s - loss: 0.8318 - sparse_categorical_accuracy: 0.7904WARNING:tensorflow:Can save best model only with val_acc available, skipping.\n",
      "71/71 [==============================] - 17s 244ms/step - loss: 0.8318 - sparse_categorical_accuracy: 0.7904 - val_loss: 1.1877 - val_sparse_categorical_accuracy: 0.7146\n",
      "Epoch 22/30\n",
      "71/71 [==============================] - ETA: 0s - loss: 0.8040 - sparse_categorical_accuracy: 0.8005WARNING:tensorflow:Can save best model only with val_acc available, skipping.\n",
      "71/71 [==============================] - 17s 239ms/step - loss: 0.8040 - sparse_categorical_accuracy: 0.8005 - val_loss: 1.1835 - val_sparse_categorical_accuracy: 0.7182\n",
      "Epoch 23/30\n",
      "71/71 [==============================] - ETA: 0s - loss: 0.7718 - sparse_categorical_accuracy: 0.8037WARNING:tensorflow:Can save best model only with val_acc available, skipping.\n",
      "71/71 [==============================] - 18s 255ms/step - loss: 0.7718 - sparse_categorical_accuracy: 0.8037 - val_loss: 1.1773 - val_sparse_categorical_accuracy: 0.7142\n"
     ]
    },
    {
     "name": "stdout",
     "output_type": "stream",
     "text": [
      "Epoch 24/30\n",
      "71/71 [==============================] - ETA: 0s - loss: 0.7610 - sparse_categorical_accuracy: 0.8086WARNING:tensorflow:Can save best model only with val_acc available, skipping.\n",
      "71/71 [==============================] - 17s 240ms/step - loss: 0.7610 - sparse_categorical_accuracy: 0.8086 - val_loss: 1.1893 - val_sparse_categorical_accuracy: 0.7182\n",
      "Epoch 25/30\n",
      "71/71 [==============================] - ETA: 0s - loss: 0.7071 - sparse_categorical_accuracy: 0.8238WARNING:tensorflow:Can save best model only with val_acc available, skipping.\n",
      "71/71 [==============================] - 17s 245ms/step - loss: 0.7071 - sparse_categorical_accuracy: 0.8238 - val_loss: 1.2038 - val_sparse_categorical_accuracy: 0.7168\n",
      "Epoch 26/30\n",
      "71/71 [==============================] - ETA: 0s - loss: 0.6925 - sparse_categorical_accuracy: 0.8264WARNING:tensorflow:Can save best model only with val_acc available, skipping.\n",
      "71/71 [==============================] - 17s 240ms/step - loss: 0.6925 - sparse_categorical_accuracy: 0.8264 - val_loss: 1.2527 - val_sparse_categorical_accuracy: 0.7102\n",
      "Epoch 27/30\n",
      "71/71 [==============================] - ETA: 0s - loss: 0.6827 - sparse_categorical_accuracy: 0.8278WARNING:tensorflow:Can save best model only with val_acc available, skipping.\n",
      "71/71 [==============================] - 17s 239ms/step - loss: 0.6827 - sparse_categorical_accuracy: 0.8278 - val_loss: 1.2166 - val_sparse_categorical_accuracy: 0.7231\n",
      "Epoch 00027: early stopping\n"
     ]
    }
   ],
   "source": [
    "model.compile(loss=\"sparse_categorical_crossentropy\", optimizer=\"adam\", metrics=[\"sparse_categorical_accuracy\"])\n",
    "\n",
    "hist = model.fit(X_train, y_train, batch_size=128, epochs=30, callbacks=[es, mc], validation_data=(X_test, y_test))"
   ]
  },
  {
   "cell_type": "code",
   "execution_count": 70,
   "metadata": {},
   "outputs": [
    {
     "ename": "OSError",
     "evalue": "Unable to open file (unable to open file: name = 'best_model.h5', errno = 2, error message = 'No such file or directory', flags = 0, o_flags = 0)",
     "output_type": "error",
     "traceback": [
      "\u001b[1;31m---------------------------------------------------------------------------\u001b[0m",
      "\u001b[1;31mOSError\u001b[0m                                   Traceback (most recent call last)",
      "\u001b[1;32m<ipython-input-70-52875efa5db9>\u001b[0m in \u001b[0;36m<module>\u001b[1;34m\u001b[0m\n\u001b[1;32m----> 1\u001b[1;33m \u001b[0mmodel\u001b[0m\u001b[1;33m.\u001b[0m\u001b[0mload_weights\u001b[0m\u001b[1;33m(\u001b[0m\u001b[0mfilepath\u001b[0m\u001b[1;33m)\u001b[0m\u001b[1;33m\u001b[0m\u001b[1;33m\u001b[0m\u001b[0m\n\u001b[0m",
      "\u001b[1;32m~\\AppData\\Roaming\\Python\\Python37\\site-packages\\tensorflow\\python\\keras\\engine\\training.py\u001b[0m in \u001b[0;36mload_weights\u001b[1;34m(self, filepath, by_name, skip_mismatch, options)\u001b[0m\n\u001b[0;32m   2202\u001b[0m           'first, then load the weights.')\n\u001b[0;32m   2203\u001b[0m     \u001b[0mself\u001b[0m\u001b[1;33m.\u001b[0m\u001b[0m_assert_weights_created\u001b[0m\u001b[1;33m(\u001b[0m\u001b[1;33m)\u001b[0m\u001b[1;33m\u001b[0m\u001b[1;33m\u001b[0m\u001b[0m\n\u001b[1;32m-> 2204\u001b[1;33m     \u001b[1;32mwith\u001b[0m \u001b[0mh5py\u001b[0m\u001b[1;33m.\u001b[0m\u001b[0mFile\u001b[0m\u001b[1;33m(\u001b[0m\u001b[0mfilepath\u001b[0m\u001b[1;33m,\u001b[0m \u001b[1;34m'r'\u001b[0m\u001b[1;33m)\u001b[0m \u001b[1;32mas\u001b[0m \u001b[0mf\u001b[0m\u001b[1;33m:\u001b[0m\u001b[1;33m\u001b[0m\u001b[1;33m\u001b[0m\u001b[0m\n\u001b[0m\u001b[0;32m   2205\u001b[0m       \u001b[1;32mif\u001b[0m \u001b[1;34m'layer_names'\u001b[0m \u001b[1;32mnot\u001b[0m \u001b[1;32min\u001b[0m \u001b[0mf\u001b[0m\u001b[1;33m.\u001b[0m\u001b[0mattrs\u001b[0m \u001b[1;32mand\u001b[0m \u001b[1;34m'model_weights'\u001b[0m \u001b[1;32min\u001b[0m \u001b[0mf\u001b[0m\u001b[1;33m:\u001b[0m\u001b[1;33m\u001b[0m\u001b[1;33m\u001b[0m\u001b[0m\n\u001b[0;32m   2206\u001b[0m         \u001b[0mf\u001b[0m \u001b[1;33m=\u001b[0m \u001b[0mf\u001b[0m\u001b[1;33m[\u001b[0m\u001b[1;34m'model_weights'\u001b[0m\u001b[1;33m]\u001b[0m\u001b[1;33m\u001b[0m\u001b[1;33m\u001b[0m\u001b[0m\n",
      "\u001b[1;32m~\\Anaconda3\\envs\\tf2.3\\lib\\site-packages\\h5py\\_hl\\files.py\u001b[0m in \u001b[0;36m__init__\u001b[1;34m(self, name, mode, driver, libver, userblock_size, swmr, rdcc_nslots, rdcc_nbytes, rdcc_w0, track_order, **kwds)\u001b[0m\n\u001b[0;32m    406\u001b[0m                 fid = make_fid(name, mode, userblock_size,\n\u001b[0;32m    407\u001b[0m                                \u001b[0mfapl\u001b[0m\u001b[1;33m,\u001b[0m \u001b[0mfcpl\u001b[0m\u001b[1;33m=\u001b[0m\u001b[0mmake_fcpl\u001b[0m\u001b[1;33m(\u001b[0m\u001b[0mtrack_order\u001b[0m\u001b[1;33m=\u001b[0m\u001b[0mtrack_order\u001b[0m\u001b[1;33m)\u001b[0m\u001b[1;33m,\u001b[0m\u001b[1;33m\u001b[0m\u001b[1;33m\u001b[0m\u001b[0m\n\u001b[1;32m--> 408\u001b[1;33m                                swmr=swmr)\n\u001b[0m\u001b[0;32m    409\u001b[0m \u001b[1;33m\u001b[0m\u001b[0m\n\u001b[0;32m    410\u001b[0m             \u001b[1;32mif\u001b[0m \u001b[0misinstance\u001b[0m\u001b[1;33m(\u001b[0m\u001b[0mlibver\u001b[0m\u001b[1;33m,\u001b[0m \u001b[0mtuple\u001b[0m\u001b[1;33m)\u001b[0m\u001b[1;33m:\u001b[0m\u001b[1;33m\u001b[0m\u001b[1;33m\u001b[0m\u001b[0m\n",
      "\u001b[1;32m~\\Anaconda3\\envs\\tf2.3\\lib\\site-packages\\h5py\\_hl\\files.py\u001b[0m in \u001b[0;36mmake_fid\u001b[1;34m(name, mode, userblock_size, fapl, fcpl, swmr)\u001b[0m\n\u001b[0;32m    171\u001b[0m         \u001b[1;32mif\u001b[0m \u001b[0mswmr\u001b[0m \u001b[1;32mand\u001b[0m \u001b[0mswmr_support\u001b[0m\u001b[1;33m:\u001b[0m\u001b[1;33m\u001b[0m\u001b[1;33m\u001b[0m\u001b[0m\n\u001b[0;32m    172\u001b[0m             \u001b[0mflags\u001b[0m \u001b[1;33m|=\u001b[0m \u001b[0mh5f\u001b[0m\u001b[1;33m.\u001b[0m\u001b[0mACC_SWMR_READ\u001b[0m\u001b[1;33m\u001b[0m\u001b[1;33m\u001b[0m\u001b[0m\n\u001b[1;32m--> 173\u001b[1;33m         \u001b[0mfid\u001b[0m \u001b[1;33m=\u001b[0m \u001b[0mh5f\u001b[0m\u001b[1;33m.\u001b[0m\u001b[0mopen\u001b[0m\u001b[1;33m(\u001b[0m\u001b[0mname\u001b[0m\u001b[1;33m,\u001b[0m \u001b[0mflags\u001b[0m\u001b[1;33m,\u001b[0m \u001b[0mfapl\u001b[0m\u001b[1;33m=\u001b[0m\u001b[0mfapl\u001b[0m\u001b[1;33m)\u001b[0m\u001b[1;33m\u001b[0m\u001b[1;33m\u001b[0m\u001b[0m\n\u001b[0m\u001b[0;32m    174\u001b[0m     \u001b[1;32melif\u001b[0m \u001b[0mmode\u001b[0m \u001b[1;33m==\u001b[0m \u001b[1;34m'r+'\u001b[0m\u001b[1;33m:\u001b[0m\u001b[1;33m\u001b[0m\u001b[1;33m\u001b[0m\u001b[0m\n\u001b[0;32m    175\u001b[0m         \u001b[0mfid\u001b[0m \u001b[1;33m=\u001b[0m \u001b[0mh5f\u001b[0m\u001b[1;33m.\u001b[0m\u001b[0mopen\u001b[0m\u001b[1;33m(\u001b[0m\u001b[0mname\u001b[0m\u001b[1;33m,\u001b[0m \u001b[0mh5f\u001b[0m\u001b[1;33m.\u001b[0m\u001b[0mACC_RDWR\u001b[0m\u001b[1;33m,\u001b[0m \u001b[0mfapl\u001b[0m\u001b[1;33m=\u001b[0m\u001b[0mfapl\u001b[0m\u001b[1;33m)\u001b[0m\u001b[1;33m\u001b[0m\u001b[1;33m\u001b[0m\u001b[0m\n",
      "\u001b[1;32mh5py\\_objects.pyx\u001b[0m in \u001b[0;36mh5py._objects.with_phil.wrapper\u001b[1;34m()\u001b[0m\n",
      "\u001b[1;32mh5py\\_objects.pyx\u001b[0m in \u001b[0;36mh5py._objects.with_phil.wrapper\u001b[1;34m()\u001b[0m\n",
      "\u001b[1;32mh5py\\h5f.pyx\u001b[0m in \u001b[0;36mh5py.h5f.open\u001b[1;34m()\u001b[0m\n",
      "\u001b[1;31mOSError\u001b[0m: Unable to open file (unable to open file: name = 'best_model.h5', errno = 2, error message = 'No such file or directory', flags = 0, o_flags = 0)"
     ]
    }
   ],
   "source": [
    "model.load_weights(filepath)"
   ]
  },
  {
   "cell_type": "code",
   "execution_count": 73,
   "metadata": {
    "colab": {
     "base_uri": "https://localhost:8080/",
     "height": 70
    },
    "id": "twc7-twdHzSe",
    "outputId": "1c1305a1-7211-4742-c652-370a2122c97f"
   },
   "outputs": [
    {
     "ename": "OSError",
     "evalue": "SavedModel file does not exist at: best_model.h5/{saved_model.pbtxt|saved_model.pb}",
     "output_type": "error",
     "traceback": [
      "\u001b[1;31m---------------------------------------------------------------------------\u001b[0m",
      "\u001b[1;31mOSError\u001b[0m                                   Traceback (most recent call last)",
      "\u001b[1;32m<ipython-input-73-97c88ec61595>\u001b[0m in \u001b[0;36m<module>\u001b[1;34m\u001b[0m\n\u001b[1;32m----> 1\u001b[1;33m \u001b[0mmodel_load\u001b[0m \u001b[1;33m=\u001b[0m \u001b[0mtf\u001b[0m\u001b[1;33m.\u001b[0m\u001b[0mkeras\u001b[0m\u001b[1;33m.\u001b[0m\u001b[0mmodels\u001b[0m\u001b[1;33m.\u001b[0m\u001b[0mload_model\u001b[0m\u001b[1;33m(\u001b[0m\u001b[0mfilepath\u001b[0m\u001b[1;33m)\u001b[0m\u001b[1;33m\u001b[0m\u001b[1;33m\u001b[0m\u001b[0m\n\u001b[0m\u001b[0;32m      2\u001b[0m \u001b[1;33m\u001b[0m\u001b[0m\n\u001b[0;32m      3\u001b[0m \u001b[0mprint\u001b[0m\u001b[1;33m(\u001b[0m\u001b[1;34m\"\\n 테스트 정확도: %.4f\"\u001b[0m \u001b[1;33m%\u001b[0m \u001b[1;33m(\u001b[0m\u001b[0mmodel_load\u001b[0m\u001b[1;33m.\u001b[0m\u001b[0mevaluate\u001b[0m\u001b[1;33m(\u001b[0m\u001b[0mX_test\u001b[0m\u001b[1;33m,\u001b[0m \u001b[0my_test\u001b[0m\u001b[1;33m)\u001b[0m\u001b[1;33m[\u001b[0m\u001b[1;36m1\u001b[0m\u001b[1;33m]\u001b[0m\u001b[1;33m)\u001b[0m\u001b[1;33m)\u001b[0m\u001b[1;33m\u001b[0m\u001b[1;33m\u001b[0m\u001b[0m\n",
      "\u001b[1;32m~\\AppData\\Roaming\\Python\\Python37\\site-packages\\tensorflow\\python\\keras\\saving\\save.py\u001b[0m in \u001b[0;36mload_model\u001b[1;34m(filepath, custom_objects, compile, options)\u001b[0m\n\u001b[0;32m    184\u001b[0m     \u001b[0mfilepath\u001b[0m \u001b[1;33m=\u001b[0m \u001b[0mpath_to_string\u001b[0m\u001b[1;33m(\u001b[0m\u001b[0mfilepath\u001b[0m\u001b[1;33m)\u001b[0m\u001b[1;33m\u001b[0m\u001b[1;33m\u001b[0m\u001b[0m\n\u001b[0;32m    185\u001b[0m     \u001b[1;32mif\u001b[0m \u001b[0misinstance\u001b[0m\u001b[1;33m(\u001b[0m\u001b[0mfilepath\u001b[0m\u001b[1;33m,\u001b[0m \u001b[0msix\u001b[0m\u001b[1;33m.\u001b[0m\u001b[0mstring_types\u001b[0m\u001b[1;33m)\u001b[0m\u001b[1;33m:\u001b[0m\u001b[1;33m\u001b[0m\u001b[1;33m\u001b[0m\u001b[0m\n\u001b[1;32m--> 186\u001b[1;33m       \u001b[0mloader_impl\u001b[0m\u001b[1;33m.\u001b[0m\u001b[0mparse_saved_model\u001b[0m\u001b[1;33m(\u001b[0m\u001b[0mfilepath\u001b[0m\u001b[1;33m)\u001b[0m\u001b[1;33m\u001b[0m\u001b[1;33m\u001b[0m\u001b[0m\n\u001b[0m\u001b[0;32m    187\u001b[0m       \u001b[1;32mreturn\u001b[0m \u001b[0msaved_model_load\u001b[0m\u001b[1;33m.\u001b[0m\u001b[0mload\u001b[0m\u001b[1;33m(\u001b[0m\u001b[0mfilepath\u001b[0m\u001b[1;33m,\u001b[0m \u001b[0mcompile\u001b[0m\u001b[1;33m,\u001b[0m \u001b[0moptions\u001b[0m\u001b[1;33m)\u001b[0m\u001b[1;33m\u001b[0m\u001b[1;33m\u001b[0m\u001b[0m\n\u001b[0;32m    188\u001b[0m \u001b[1;33m\u001b[0m\u001b[0m\n",
      "\u001b[1;32m~\\AppData\\Roaming\\Python\\Python37\\site-packages\\tensorflow\\python\\saved_model\\loader_impl.py\u001b[0m in \u001b[0;36mparse_saved_model\u001b[1;34m(export_dir)\u001b[0m\n\u001b[0;32m    111\u001b[0m                   (export_dir,\n\u001b[0;32m    112\u001b[0m                    \u001b[0mconstants\u001b[0m\u001b[1;33m.\u001b[0m\u001b[0mSAVED_MODEL_FILENAME_PBTXT\u001b[0m\u001b[1;33m,\u001b[0m\u001b[1;33m\u001b[0m\u001b[1;33m\u001b[0m\u001b[0m\n\u001b[1;32m--> 113\u001b[1;33m                    constants.SAVED_MODEL_FILENAME_PB))\n\u001b[0m\u001b[0;32m    114\u001b[0m \u001b[1;33m\u001b[0m\u001b[0m\n\u001b[0;32m    115\u001b[0m \u001b[1;33m\u001b[0m\u001b[0m\n",
      "\u001b[1;31mOSError\u001b[0m: SavedModel file does not exist at: best_model.h5/{saved_model.pbtxt|saved_model.pb}"
     ]
    }
   ],
   "source": [
    "model_load = tf.keras.models.load_model(filepath)\n",
    "\n",
    "print(\"\\n 테스트 정확도: %.4f\" % (model_load.evaluate(X_test, y_test)[1]))"
   ]
  },
  {
   "cell_type": "code",
   "execution_count": null,
   "metadata": {
    "colab": {
     "base_uri": "https://localhost:8080/",
     "height": 294
    },
    "id": "wMhAeDXUH1IX",
    "outputId": "7c98e545-ce57-4265-a9dd-fb442bba9ca6",
    "scrolled": true
   },
   "outputs": [
    {
     "data": {
      "image/png": "[encoded data removed]",
      "text/plain": [
       "<Figure size 432x288 with 1 Axes>"
      ]
     },
     "metadata": {
      "needs_background": "light",
      "tags": []
     },
     "output_type": "display_data"
    }
   ],
   "source": [
    "epochs = range(1, len(history.history[\"acc\"]) + 1)\n",
    "\n",
    "plt.plot(epochs, history.history[\"loss\"])\n",
    "plt.plot(epochs, history.history[\"val_loss\"])\n",
    "plt.title(\"model loss\")\n",
    "plt.ylabel(\"loss\")\n",
    "plt.xlabel(\"epoch\")\n",
    "plt.legend([\"train\", \"test\"], loc=\"upper left\")\n",
    "plt.show()"
   ]
  },
  {
   "cell_type": "markdown",
   "metadata": {
    "id": "_5Boe7RSIJ6H"
   },
   "source": [
    "# 4. IMDB 리뷰 분류하기"
   ]
  },
  {
   "cell_type": "code",
   "execution_count": null,
   "metadata": {
    "colab": {
     "base_uri": "https://localhost:8080/",
     "height": 52
    },
    "id": "-vdIxvSvINhg",
    "outputId": "02aff538-2fdb-488d-ef50-04de3ee7b3e1"
   },
   "outputs": [
    {
     "name": "stdout",
     "output_type": "stream",
     "text": [
      "Downloading data from https://storage.googleapis.com/tensorflow/tf-keras-datasets/imdb.npz\n",
      "17465344/17464789 [==============================] - 0s 0us/step\n"
     ]
    }
   ],
   "source": [
    "# 영화 리뷰는 X_train에, 감성 정보는 y_train에 저장된다.\n",
    "# 테스트용 리뷰는 X_test에, 테스트용 리뷰의 감성 정보는 y_test에 저장된다.\n",
    "(X_train, y_train), (X_test, y_test) = imdb.load_data()\n",
    "# (X_train, y_train), (X_test, y_test) = imdb.load_data(num_words = 10000)"
   ]
  },
  {
   "cell_type": "code",
   "execution_count": null,
   "metadata": {
    "colab": {
     "base_uri": "https://localhost:8080/",
     "height": 70
    },
    "id": "bwzQFsxpIQP2",
    "outputId": "2b37ce11-64ca-41f4-c086-bbfbba95e285"
   },
   "outputs": [
    {
     "name": "stdout",
     "output_type": "stream",
     "text": [
      "훈련용 리뷰 개수 : 25000\n",
      "테스트용 리뷰 개수 : 25000\n",
      "카테고리 : 2\n"
     ]
    }
   ],
   "source": [
    "print('훈련용 리뷰 개수 : {}'.format(len(X_train)))\n",
    "print('테스트용 리뷰 개수 : {}'.format(len(X_test)))\n",
    "num_classes = max(y_train) + 1\n",
    "print('카테고리 : {}'.format(num_classes))"
   ]
  },
  {
   "cell_type": "code",
   "execution_count": null,
   "metadata": {
    "colab": {
     "base_uri": "https://localhost:8080/",
     "height": 72
    },
    "id": "dHXdiQ1PISlC",
    "outputId": "c8f352c9-1226-4d81-ba83-831cd617d8fb"
   },
   "outputs": [
    {
     "name": "stdout",
     "output_type": "stream",
     "text": [
      "[1, 14, 22, 16, 43, 530, 973, 1622, 1385, 65, 458, 4468, 66, 3941, 4, 173, 36, 256, 5, 25, 100, 43, 838, 112, 50, 670, 22665, 9, 35, 480, 284, 5, 150, 4, 172, 112, 167, 21631, 336, 385, 39, 4, 172, 4536, 1111, 17, 546, 38, 13, 447, 4, 192, 50, 16, 6, 147, 2025, 19, 14, 22, 4, 1920, 4613, 469, 4, 22, 71, 87, 12, 16, 43, 530, 38, 76, 15, 13, 1247, 4, 22, 17, 515, 17, 12, 16, 626, 18, 19193, 5, 62, 386, 12, 8, 316, 8, 106, 5, 4, 2223, 5244, 16, 480, 66, 3785, 33, 4, 130, 12, 16, 38, 619, 5, 25, 124, 51, 36, 135, 48, 25, 1415, 33, 6, 22, 12, 215, 28, 77, 52, 5, 14, 407, 16, 82, 10311, 8, 4, 107, 117, 5952, 15, 256, 4, 31050, 7, 3766, 5, 723, 36, 71, 43, 530, 476, 26, 400, 317, 46, 7, 4, 12118, 1029, 13, 104, 88, 4, 381, 15, 297, 98, 32, 2071, 56, 26, 141, 6, 194, 7486, 18, 4, 226, 22, 21, 134, 476, 26, 480, 5, 144, 30, 5535, 18, 51, 36, 28, 224, 92, 25, 104, 4, 226, 65, 16, 38, 1334, 88, 12, 16, 283, 5, 16, 4472, 113, 103, 32, 15, 16, 5345, 19, 178, 32]\n",
      "1\n"
     ]
    }
   ],
   "source": [
    "print(X_train[0])\n",
    "print(y_train[0])"
   ]
  },
  {
   "cell_type": "code",
   "execution_count": null,
   "metadata": {
    "colab": {
     "base_uri": "https://localhost:8080/",
     "height": 300
    },
    "id": "fXZU3P9AIURb",
    "outputId": "1ab2a525-2124-47ae-a2c2-6c95b2b3877d"
   },
   "outputs": [
    {
     "name": "stdout",
     "output_type": "stream",
     "text": [
      "리뷰의 최대 길이 : 2494\n",
      "리뷰의 평균 길이 : 238.71364\n"
     ]
    },
    {
     "data": {
      "image/png": "[encoded data removed]",
      "text/plain": [
       "<Figure size 432x288 with 2 Axes>"
      ]
     },
     "metadata": {
      "needs_background": "light",
      "tags": []
     },
     "output_type": "display_data"
    }
   ],
   "source": [
    "len_result = [len(s) for s in X_train]\n",
    "\n",
    "print('리뷰의 최대 길이 : {}'.format(np.max(len_result)))\n",
    "print('리뷰의 평균 길이 : {}'.format(np.mean(len_result)))\n",
    "\n",
    "plt.subplot(1,2,1)\n",
    "plt.boxplot(len_result)\n",
    "plt.subplot(1,2,2)\n",
    "plt.hist(len_result, bins=50)\n",
    "plt.show()"
   ]
  },
  {
   "cell_type": "code",
   "execution_count": null,
   "metadata": {
    "colab": {
     "base_uri": "https://localhost:8080/",
     "height": 70
    },
    "id": "PXQUfcWfIWNr",
    "outputId": "98e01843-24d8-4311-cac8-0350770f40cd"
   },
   "outputs": [
    {
     "name": "stdout",
     "output_type": "stream",
     "text": [
      "각 레이블에 대한 빈도수:\n",
      "[[    0     1]\n",
      " [12500 12500]]\n"
     ]
    }
   ],
   "source": [
    "unique_elements, counts_elements = np.unique(y_train, return_counts=True)\n",
    "print(\"각 레이블에 대한 빈도수:\")\n",
    "print(np.asarray((unique_elements, counts_elements)))"
   ]
  },
  {
   "cell_type": "code",
   "execution_count": null,
   "metadata": {
    "colab": {
     "base_uri": "https://localhost:8080/",
     "height": 52
    },
    "id": "CciBi3PJIXyU",
    "outputId": "cdd3b33e-6408-4753-930b-accf902f226a"
   },
   "outputs": [
    {
     "name": "stdout",
     "output_type": "stream",
     "text": [
      "Downloading data from https://storage.googleapis.com/tensorflow/tf-keras-datasets/imdb_word_index.json\n",
      "1646592/1641221 [==============================] - 0s 0us/step\n"
     ]
    }
   ],
   "source": [
    "word_to_index = imdb.get_word_index()\n",
    "index_to_word={}\n",
    "for key, value in word_to_index.items():\n",
    "    index_to_word[value] = key"
   ]
  },
  {
   "cell_type": "code",
   "execution_count": null,
   "metadata": {
    "colab": {
     "base_uri": "https://localhost:8080/",
     "height": 54
    },
    "id": "n-H25RuUIb-V",
    "outputId": "48809cf0-f67c-4791-e5bd-2b88e008c6fc"
   },
   "outputs": [
    {
     "name": "stdout",
     "output_type": "stream",
     "text": [
      "<sos> as you with out themselves powerful lets loves their becomes reaching had journalist of lot from anyone to have after out atmosphere never more room titillate it so heart shows to years of every never going villaronga help moments or of every chest visual movie except her was several of enough more with is now current film as you of mine potentially unfortunately of you than him that with out themselves her get for was camp of you movie sometimes movie that with scary but pratfalls to story wonderful that in seeing in character to of 70s musicians with heart had shadows they of here that with her serious to have does when from why what have critics they is you that isn't one will very to as itself with other tricky in of seen over landed for anyone of gilmore's br show's to whether from than out themselves history he name half some br of 'n odd was two most of mean for 1 any an boat she he should is thought frog but of script you not while history he heart to real at barrel but when from one bit then have two of script their with her nobody most that with wasn't to with armed acting watch an for with heartfelt film want an\n"
     ]
    }
   ],
   "source": [
    "for index, token in enumerate((\"<pad>\", \"<sos>\", \"<unk>\")):\n",
    "  index_to_word[index]=token\n",
    "\n",
    "print(' '.join([index_to_word[index] for index in X_train[0]]))"
   ]
  },
  {
   "cell_type": "code",
   "execution_count": null,
   "metadata": {
    "id": "skFMKd3mI9AI"
   },
   "outputs": [],
   "source": [
    "(X_train, y_train), (X_test, y_test) = imdb.load_data(num_words = 5000)"
   ]
  },
  {
   "cell_type": "code",
   "execution_count": null,
   "metadata": {
    "id": "Q5Yqs7yHI-JF"
   },
   "outputs": [],
   "source": [
    "max_len = 500\n",
    "X_train = pad_sequences(X_train, maxlen=max_len)\n",
    "X_test = pad_sequences(X_test, maxlen=max_len)"
   ]
  },
  {
   "cell_type": "code",
   "execution_count": null,
   "metadata": {
    "id": "bQq_vvdgJAGs"
   },
   "outputs": [],
   "source": [
    "model = Sequential()\n",
    "model.add(Embedding(5000, 120))\n",
    "model.add(LSTM(120))\n",
    "model.add(Dense(1, activation='sigmoid'))"
   ]
  },
  {
   "cell_type": "code",
   "execution_count": null,
   "metadata": {
    "id": "7PnHzPYwJBmE"
   },
   "outputs": [],
   "source": [
    "es = EarlyStopping(monitor='val_loss', mode='min', verbose=1, patience=4)\n",
    "mc = ModelCheckpoint('best_model.h5', monitor='val_acc', mode='max', verbose=1, save_best_only=True)"
   ]
  },
  {
   "cell_type": "code",
   "execution_count": null,
   "metadata": {
    "colab": {
     "base_uri": "https://localhost:8080/",
     "height": 692
    },
    "id": "74z021ZZJDNx",
    "outputId": "5673e70f-74a3-4904-d9f4-9c4b5bb70dba"
   },
   "outputs": [
    {
     "name": "stdout",
     "output_type": "stream",
     "text": [
      "Epoch 1/10\n",
      "390/391 [============================>.] - ETA: 0s - loss: 0.4457 - acc: 0.7867\n",
      "Epoch 00001: val_acc improved from -inf to 0.85164, saving model to best_model.h5\n",
      "391/391 [==============================] - 24s 62ms/step - loss: 0.4455 - acc: 0.7868 - val_loss: 0.3473 - val_acc: 0.8516\n",
      "Epoch 2/10\n",
      "391/391 [==============================] - ETA: 0s - loss: 0.3500 - acc: 0.8530\n",
      "Epoch 00002: val_acc did not improve from 0.85164\n",
      "391/391 [==============================] - 24s 61ms/step - loss: 0.3500 - acc: 0.8530 - val_loss: 0.7200 - val_acc: 0.5554\n",
      "Epoch 3/10\n",
      "391/391 [==============================] - ETA: 0s - loss: 0.3646 - acc: 0.8420\n",
      "Epoch 00003: val_acc improved from 0.85164 to 0.86956, saving model to best_model.h5\n",
      "391/391 [==============================] - 24s 62ms/step - loss: 0.3646 - acc: 0.8420 - val_loss: 0.3250 - val_acc: 0.8696\n",
      "Epoch 4/10\n",
      "391/391 [==============================] - ETA: 0s - loss: 0.3070 - acc: 0.8748\n",
      "Epoch 00004: val_acc did not improve from 0.86956\n",
      "391/391 [==============================] - 24s 61ms/step - loss: 0.3070 - acc: 0.8748 - val_loss: 0.4291 - val_acc: 0.8133\n",
      "Epoch 5/10\n",
      "390/391 [============================>.] - ETA: 0s - loss: 0.2195 - acc: 0.9155\n",
      "Epoch 00005: val_acc did not improve from 0.86956\n",
      "391/391 [==============================] - 24s 61ms/step - loss: 0.2194 - acc: 0.9155 - val_loss: 0.3197 - val_acc: 0.8685\n",
      "Epoch 6/10\n",
      "390/391 [============================>.] - ETA: 0s - loss: 0.1863 - acc: 0.9297\n",
      "Epoch 00006: val_acc improved from 0.86956 to 0.87472, saving model to best_model.h5\n",
      "391/391 [==============================] - 24s 60ms/step - loss: 0.1861 - acc: 0.9298 - val_loss: 0.3467 - val_acc: 0.8747\n",
      "Epoch 7/10\n",
      "391/391 [==============================] - ETA: 0s - loss: 0.1550 - acc: 0.9425\n",
      "Epoch 00007: val_acc did not improve from 0.87472\n",
      "391/391 [==============================] - 24s 61ms/step - loss: 0.1550 - acc: 0.9425 - val_loss: 0.3812 - val_acc: 0.8674\n",
      "Epoch 8/10\n",
      "390/391 [============================>.] - ETA: 0s - loss: 0.1388 - acc: 0.9498\n",
      "Epoch 00008: val_acc did not improve from 0.87472\n",
      "391/391 [==============================] - 24s 61ms/step - loss: 0.1389 - acc: 0.9497 - val_loss: 0.4016 - val_acc: 0.8578\n",
      "Epoch 9/10\n",
      "390/391 [============================>.] - ETA: 0s - loss: 0.1311 - acc: 0.9536\n",
      "Epoch 00009: val_acc did not improve from 0.87472\n",
      "391/391 [==============================] - 23s 60ms/step - loss: 0.1313 - acc: 0.9535 - val_loss: 0.4597 - val_acc: 0.8379\n",
      "Epoch 00009: early stopping\n"
     ]
    },
    {
     "data": {
      "text/plain": [
       "<tensorflow.python.keras.callbacks.History at 0x7f57e7b190b8>"
      ]
     },
     "execution_count": 128,
     "metadata": {
      "tags": []
     },
     "output_type": "execute_result"
    }
   ],
   "source": [
    "model.compile(loss='binary_crossentropy', optimizer='adam', metrics=['acc'])\n",
    "model.fit(X_train, y_train, validation_data=(X_test, y_test), epochs=10, batch_size=64, callbacks=[es, mc])"
   ]
  },
  {
   "cell_type": "code",
   "execution_count": null,
   "metadata": {
    "colab": {
     "base_uri": "https://localhost:8080/",
     "height": 70
    },
    "id": "s4LdppllJFZh",
    "outputId": "c5d9337d-1479-48b6-b12d-2eb397dc01f2"
   },
   "outputs": [
    {
     "name": "stdout",
     "output_type": "stream",
     "text": [
      "782/782 [==============================] - 10s 13ms/step - loss: 0.3467 - acc: 0.8747\n",
      "\n",
      " 테스트 정확도: 0.8747\n"
     ]
    }
   ],
   "source": [
    "loaded_model = load_model('best_model.h5')\n",
    "print(\"\\n 테스트 정확도: %.4f\" % (loaded_model.evaluate(X_test, y_test)[1]))"
   ]
  },
  {
   "cell_type": "markdown",
   "metadata": {
    "id": "ZhdbChZu_e8V"
   },
   "source": [
    "## 5. 네이버 영화 리뷰 데이터 감성 분류\n",
    "\n",
    "### 5-1. LSTM 사용하기"
   ]
  },
  {
   "cell_type": "code",
   "execution_count": 19,
   "metadata": {
    "colab": {
     "base_uri": "https://localhost:8080/",
     "height": 34
    },
    "id": "VpZGqFEhgBzv",
    "outputId": "a3e843db-9db7-4608-a2ee-b98cd7ee5673"
   },
   "outputs": [
    {
     "data": {
      "text/plain": [
       "('ratings_test.txt', <http.client.HTTPMessage at 0x19fbf575748>)"
      ]
     },
     "execution_count": 19,
     "metadata": {},
     "output_type": "execute_result"
    }
   ],
   "source": [
    "urllib.request.urlretrieve(\"https://raw.githubusercontent.com/e9t/nsmc/master/ratings_train.txt\", filename=\"ratings_train.txt\")\n",
    "urllib.request.urlretrieve(\"https://raw.githubusercontent.com/e9t/nsmc/master/ratings_test.txt\", filename=\"ratings_test.txt\")"
   ]
  },
  {
   "cell_type": "code",
   "execution_count": 62,
   "metadata": {
    "colab": {
     "base_uri": "https://localhost:8080/",
     "height": 34
    },
    "id": "VpZGqFEhgBzv",
    "outputId": "a3e843db-9db7-4608-a2ee-b98cd7ee5673"
   },
   "outputs": [],
   "source": [
    "train_data = pd.read_table(\"ratings_train.txt\")\n",
    "test_data = pd.read_table(\"ratings_test.txt\")\n",
    "\n",
    "train_data[\"document\"] = train_data[\"document\"].str.replace(f\"[{string.punctuation}]\", \" \")\n",
    "train_data[\"document\"] = train_data[\"document\"].str.replace(r\" +\", \" \")\n",
    "train_data = train_data[train_data[\"document\"]!=\" \"]\n",
    "train_data = train_data.dropna(axis=0)\n",
    "\n",
    "test_data[\"document\"] = test_data[\"document\"].str.replace(f\"[{string.punctuation}]\", \" \")\n",
    "test_data[\"document\"] = test_data[\"document\"].str.replace(r\" +\", \" \")\n",
    "test_data = test_data[test_data[\"document\"]!=\" \"]\n",
    "test_data = test_data.dropna(axis=0)"
   ]
  },
  {
   "cell_type": "code",
   "execution_count": 63,
   "metadata": {
    "scrolled": true
   },
   "outputs": [
    {
     "data": {
      "text/plain": [
       "<AxesSubplot:>"
      ]
     },
     "execution_count": 63,
     "metadata": {},
     "output_type": "execute_result"
    },
    {
     "data": {
      "image/png": "[encoded data removed]",
      "text/plain": [
       "<Figure size 432x288 with 1 Axes>"
      ]
     },
     "metadata": {},
     "output_type": "display_data"
    }
   ],
   "source": [
    "train_data[\"label\"].value_counts().plot(kind=\"bar\")"
   ]
  },
  {
   "cell_type": "code",
   "execution_count": 68,
   "metadata": {},
   "outputs": [
    {
     "data": {
      "application/vnd.jupyter.widget-view+json": {
       "model_id": "eb9e12b9350643fc9709907fb3dae312",
       "version_major": 2,
       "version_minor": 0
      },
      "text/plain": [
       "HBox(children=(HTML(value=''), FloatProgress(value=0.0, max=149752.0), HTML(value='')))"
      ]
     },
     "metadata": {},
     "output_type": "display_data"
    },
    {
     "name": "stdout",
     "output_type": "stream",
     "text": [
      "\n"
     ]
    },
    {
     "data": {
      "application/vnd.jupyter.widget-view+json": {
       "model_id": "4d66b5954de44dbb9ff29d404136a035",
       "version_major": 2,
       "version_minor": 0
      },
      "text/plain": [
       "HBox(children=(HTML(value=''), FloatProgress(value=0.0, max=49934.0), HTML(value='')))"
      ]
     },
     "metadata": {},
     "output_type": "display_data"
    },
    {
     "name": "stdout",
     "output_type": "stream",
     "text": [
      "\n"
     ]
    }
   ],
   "source": [
    "train_docs = train_data[\"document\"].tolist()\n",
    "test_docs = test_data[\"document\"].tolist()\n",
    "\n",
    "train_corp = []\n",
    "for doc in tqdm(train_docs):\n",
    "    train_corp.append(mcb.morphs(doc))\n",
    "    \n",
    "test_corp = []\n",
    "for doc in tqdm(test_docs):\n",
    "    test_corp.append(mcb.morphs(doc))"
   ]
  },
  {
   "cell_type": "code",
   "execution_count": 34,
   "metadata": {},
   "outputs": [],
   "source": [
    "# path = \"imdb_okt\"\n",
    "# with open(path, \"w\", encoding=\"utf-8\") as f:\t\t\n",
    "#     json.dump(X_train, f, ensure_ascii=False, indent=\"\\t\")\t"
   ]
  },
  {
   "cell_type": "markdown",
   "metadata": {
    "id": "m5hVBbeDEzbT"
   },
   "source": [
    "### TF-IDF를 이용한 벡터화 (선택적)"
   ]
  },
  {
   "cell_type": "code",
   "execution_count": null,
   "metadata": {
    "id": "slPSrJNiGPfm"
   },
   "outputs": [],
   "source": [
    "# vocab_size = 5000\n",
    "\n",
    "# tokenizer = Tokenizer(num_words = vocab_size)\n",
    "# tokenizer.fit_on_texts(X_train)\n",
    "\n",
    "# tfidf_train = tokenizer.texts_to_matrix(X_train, mode='tfidf') # 샘플 수 × vocab_size 크기의 행렬 생성\n",
    "# tfidf_test = tokenizer.texts_to_matrix(X_test, mode='tfidf') # 샘플 수 × vocab_size 크기의 행렬 생성\n",
    "\n",
    "# y_train = np.array(train_data['label'])\n",
    "# y_test = np.array(test_data['label'])\n",
    "\n",
    "# print('훈련 샘플 본문의 크기 : {}'.format(tfidf_train.shape))\n",
    "# print('훈련 샘플 레이블의 크기 : {}'.format(tfidf_test.shape))\n",
    "# print('테스트 샘플 본문의 크기 : {}'.format(len(X_train)))\n",
    "# p rint('테스트 샘플 레이블의 크기 : {}'.format(len(y_test)))"
   ]
  },
  {
   "cell_type": "markdown",
   "metadata": {
    "id": "EoHe-powGBOp"
   },
   "source": [
    "## 다층 퍼셉트론으로 네이버 영화 리뷰 분류하기 (선택적)"
   ]
  },
  {
   "cell_type": "code",
   "execution_count": 100,
   "metadata": {
    "colab": {
     "base_uri": "https://localhost:8080/",
     "height": 70
    },
    "id": "8UEWy2w8GMW7",
    "outputId": "8879f936-7816-46e3-c7dd-e9db72b01302"
   },
   "outputs": [],
   "source": [
    "# model = Sequential()\n",
    "# model.add(Dense(256, input_shape=(vocab_size,), activation='relu'))\n",
    "# model.add(Dropout(0.5))\n",
    "# model.add(Dense(128, activation='relu'))\n",
    "# model.add(Dropout(0.5))\n",
    "# model.add(Dense(2, activation='softmax'))\n",
    "\n",
    "# model.compile(loss='categorical_crossentropy', optimizer='adam', metrics=['accuracy'])\n",
    "# model.fit(tfidf_train, y_train, batch_size=128, epochs=5, verbose=1, validation_split=0.1)\n",
    "# score = model.evaluate(tfidf_test, y_test, batch_size=128, verbose=0)"
   ]
  },
  {
   "cell_type": "code",
   "execution_count": 176,
   "metadata": {},
   "outputs": [
    {
     "name": "stdout",
     "output_type": "stream",
     "text": [
      "28,379개의 단어 사용 시 전체 문장의 99%를 나타낼 수 있습니다.\n",
      "이는 전체 단어 갯수의 54.6%에 해당합니다.\n",
      "28,379번째 단어의 등장 횟수는 2회입니다.\n"
     ]
    }
   ],
   "source": [
    "X_train = train_corp\n",
    "X_test = test_corp\n",
    "\n",
    "tkn = tf.keras.preprocessing.text.Tokenizer()\n",
    "tkn.fit_on_texts(X_train)\n",
    "\n",
    "word2idx = tkn.word_index\n",
    "word2cnt = sorted(tkn.word_counts.items(), key=lambda x:x[1], reverse=True)\n",
    "\n",
    "cnts = [value for key, value in word2cnt]\n",
    "tot_cnts = sum(cnts)\n",
    "ratio = 0.99\n",
    "\n",
    "temp = 0\n",
    "for idx, cnt in enumerate(cnts):\n",
    "    temp += cnt\n",
    "    if temp >= tot_cnts * ratio:\n",
    "        break\n",
    "vocab_size = idx\n",
    "\n",
    "print(f\"{vocab_size:,}개의 단어 사용 시 전체 문장의 {ratio:.0%}를 나타낼 수 있습니다.\")\n",
    "print(f\"이는 전체 단어 갯수의 {idx/len(word2idx):.1%}에 해당합니다.\")\n",
    "print(f\"{vocab_size:,}번째 단어의 등장 횟수는 {cnt}회입니다.\")"
   ]
  },
  {
   "cell_type": "code",
   "execution_count": 177,
   "metadata": {
    "id": "4Is5u2y0h5yb"
   },
   "outputs": [],
   "source": [
    "tkn = tf.keras.preprocessing.text.Tokenizer(num_words=vocab_size+2, oov_token=\"OOV\") \n",
    "tkn.fit_on_texts(X_train)\n",
    "\n",
    "X_train = tkn.texts_to_sequences(X_train)\n",
    "X_test = tkn.texts_to_sequences(X_test)\n",
    "\n",
    "y_train = np.array(train_data[\"label\"])\n",
    "y_test = np.array(test_data[\"label\"])\n",
    "\n",
    "# 빈 샘플들을 제거\n",
    "idx_drop = [idx for idx, doc in enumerate(X_train) if len(doc) == 0]\n",
    "\n",
    "X_train = np.delete(X_train, idx_drop, axis=0)\n",
    "y_train = np.delete(y_train, idx_drop, axis=0)"
   ]
  },
  {
   "cell_type": "code",
   "execution_count": 99,
   "metadata": {
    "colab": {
     "base_uri": "https://localhost:8080/",
     "height": 316
    },
    "id": "0cS8_W5fkGFd",
    "outputId": "7505f437-f01f-475a-db12-f72f01bc344e"
   },
   "outputs": [
    {
     "data": {
      "image/png": "[encoded data removed]",
      "text/plain": [
       "<Figure size 432x288 with 1 Axes>"
      ]
     },
     "metadata": {},
     "output_type": "display_data"
    }
   ],
   "source": [
    "lens = [len(doc) for doc in X_train]\n",
    "\n",
    "fig, ax = plt.subplots()\n",
    "\n",
    "ax.hist(lens, bins=50)\n",
    "\n",
    "fig.tight_layout()"
   ]
  },
  {
   "cell_type": "code",
   "execution_count": 157,
   "metadata": {},
   "outputs": [
    {
     "name": "stdout",
     "output_type": "stream",
     "text": [
      "최대 길이 : 103\n",
      "평균 길이 : 16.47760964795128\n"
     ]
    }
   ],
   "source": [
    "print(f\"최대 길이 : {max(lens)}\")\n",
    "print(f\"평균 길이 : {np.mean(lens)}\")"
   ]
  },
  {
   "cell_type": "code",
   "execution_count": 178,
   "metadata": {},
   "outputs": [
    {
     "name": "stdout",
     "output_type": "stream",
     "text": [
      "67\n"
     ]
    }
   ],
   "source": [
    "ratio = 0.99\n",
    "for max_len in range(max(lens)):\n",
    "    if len([len for len in lens if len <= max_len]) >= len(lens)*ratio:\n",
    "        break\n",
    "print(max_len)"
   ]
  },
  {
   "cell_type": "markdown",
   "metadata": {},
   "source": [
    "- 길이가 67 이하인 샘플이 99%를 차지합니다."
   ]
  },
  {
   "cell_type": "code",
   "execution_count": 179,
   "metadata": {
    "id": "PCGkfInSkMLt"
   },
   "outputs": [],
   "source": [
    "X_train = tf.keras.preprocessing.sequence.pad_sequences(X_train, maxlen=max_len)\n",
    "X_test = tf.keras.preprocessing.sequence.pad_sequences(X_test, maxlen=max_len)"
   ]
  },
  {
   "cell_type": "markdown",
   "metadata": {
    "id": "NiAmJpa0kO9C"
   },
   "source": [
    "### 5-?. LSTM"
   ]
  },
  {
   "cell_type": "code",
   "execution_count": 182,
   "metadata": {
    "id": "exmXhBRekR5W"
   },
   "outputs": [
    {
     "name": "stdout",
     "output_type": "stream",
     "text": [
      "Epoch 1/15\n",
      "936/936 [==============================] - ETA: 0s - loss: 0.3882 - binary_accuracy: 0.8277\n",
      "Epoch 00001: val_binary_accuracy improved from -inf to 0.85289, saving model to Naver_movie_LSTM.h5\n",
      "936/936 [==============================] - 205s 219ms/step - loss: 0.3882 - binary_accuracy: 0.8277 - val_loss: 0.3450 - val_binary_accuracy: 0.8529\n",
      "Epoch 2/15\n",
      "936/936 [==============================] - ETA: 0s - loss: 0.3109 - binary_accuracy: 0.8678\n",
      "Epoch 00002: val_binary_accuracy improved from 0.85289 to 0.86528, saving model to Naver_movie_LSTM.h5\n",
      "936/936 [==============================] - 218s 232ms/step - loss: 0.3109 - binary_accuracy: 0.8678 - val_loss: 0.3142 - val_binary_accuracy: 0.8653\n",
      "Epoch 3/15\n",
      "936/936 [==============================] - ETA: 0s - loss: 0.2799 - binary_accuracy: 0.8833\n",
      "Epoch 00003: val_binary_accuracy did not improve from 0.86528\n",
      "936/936 [==============================] - 209s 224ms/step - loss: 0.2799 - binary_accuracy: 0.8833 - val_loss: 0.3190 - val_binary_accuracy: 0.8621\n",
      "Epoch 4/15\n",
      "936/936 [==============================] - ETA: 0s - loss: 0.2563 - binary_accuracy: 0.8949\n",
      "Epoch 00004: val_binary_accuracy improved from 0.86528 to 0.87253, saving model to Naver_movie_LSTM.h5\n",
      "936/936 [==============================] - 206s 220ms/step - loss: 0.2563 - binary_accuracy: 0.8949 - val_loss: 0.3017 - val_binary_accuracy: 0.8725\n",
      "Epoch 5/15\n",
      "936/936 [==============================] - ETA: 0s - loss: 0.2369 - binary_accuracy: 0.9055\n",
      "Epoch 00005: val_binary_accuracy improved from 0.87253 to 0.87596, saving model to Naver_movie_LSTM.h5\n",
      "936/936 [==============================] - 211s 226ms/step - loss: 0.2369 - binary_accuracy: 0.9055 - val_loss: 0.2954 - val_binary_accuracy: 0.8760\n",
      "Epoch 6/15\n",
      "550/936 [================>.............] - ETA: 1:22 - loss: 0.2168 - binary_accuracy: 0.9151"
     ]
    },
    {
     "ename": "KeyboardInterrupt",
     "evalue": "",
     "output_type": "error",
     "traceback": [
      "\u001b[1;31m---------------------------------------------------------------------------\u001b[0m",
      "\u001b[1;31mKeyboardInterrupt\u001b[0m                         Traceback (most recent call last)",
      "\u001b[1;32m<ipython-input-182-3c153eaca6c7>\u001b[0m in \u001b[0;36m<module>\u001b[1;34m\u001b[0m\n\u001b[0;32m     12\u001b[0m \u001b[0mmodel\u001b[0m\u001b[1;33m.\u001b[0m\u001b[0mcompile\u001b[0m\u001b[1;33m(\u001b[0m\u001b[0moptimizer\u001b[0m\u001b[1;33m=\u001b[0m\u001b[1;34m\"rmsprop\"\u001b[0m\u001b[1;33m,\u001b[0m \u001b[0mloss\u001b[0m\u001b[1;33m=\u001b[0m\u001b[1;34m\"binary_crossentropy\"\u001b[0m\u001b[1;33m,\u001b[0m \u001b[0mmetrics\u001b[0m\u001b[1;33m=\u001b[0m\u001b[1;33m[\u001b[0m\u001b[1;34m\"binary_accuracy\"\u001b[0m\u001b[1;33m]\u001b[0m\u001b[1;33m)\u001b[0m\u001b[1;33m\u001b[0m\u001b[1;33m\u001b[0m\u001b[0m\n\u001b[0;32m     13\u001b[0m \u001b[1;33m\u001b[0m\u001b[0m\n\u001b[1;32m---> 14\u001b[1;33m \u001b[0mhist\u001b[0m \u001b[1;33m=\u001b[0m \u001b[0mmodel\u001b[0m\u001b[1;33m.\u001b[0m\u001b[0mfit\u001b[0m\u001b[1;33m(\u001b[0m\u001b[0mx\u001b[0m\u001b[1;33m=\u001b[0m\u001b[0mX_train\u001b[0m\u001b[1;33m,\u001b[0m \u001b[0my\u001b[0m\u001b[1;33m=\u001b[0m\u001b[0my_train\u001b[0m\u001b[1;33m,\u001b[0m \u001b[0mcallbacks\u001b[0m\u001b[1;33m=\u001b[0m\u001b[1;33m[\u001b[0m\u001b[0mes\u001b[0m\u001b[1;33m,\u001b[0m \u001b[0mmc\u001b[0m\u001b[1;33m]\u001b[0m\u001b[1;33m,\u001b[0m \u001b[0mbatch_size\u001b[0m\u001b[1;33m=\u001b[0m\u001b[1;36m128\u001b[0m\u001b[1;33m,\u001b[0m \u001b[0mepochs\u001b[0m\u001b[1;33m=\u001b[0m\u001b[1;36m15\u001b[0m\u001b[1;33m,\u001b[0m \u001b[0mvalidation_split\u001b[0m\u001b[1;33m=\u001b[0m\u001b[1;36m0.2\u001b[0m\u001b[1;33m,\u001b[0m \u001b[0mverbose\u001b[0m\u001b[1;33m=\u001b[0m\u001b[1;36m1\u001b[0m\u001b[1;33m)\u001b[0m\u001b[1;33m\u001b[0m\u001b[1;33m\u001b[0m\u001b[0m\n\u001b[0m",
      "\u001b[1;32m~\\AppData\\Roaming\\Python\\Python37\\site-packages\\tensorflow\\python\\keras\\engine\\training.py\u001b[0m in \u001b[0;36m_method_wrapper\u001b[1;34m(self, *args, **kwargs)\u001b[0m\n\u001b[0;32m    106\u001b[0m   \u001b[1;32mdef\u001b[0m \u001b[0m_method_wrapper\u001b[0m\u001b[1;33m(\u001b[0m\u001b[0mself\u001b[0m\u001b[1;33m,\u001b[0m \u001b[1;33m*\u001b[0m\u001b[0margs\u001b[0m\u001b[1;33m,\u001b[0m \u001b[1;33m**\u001b[0m\u001b[0mkwargs\u001b[0m\u001b[1;33m)\u001b[0m\u001b[1;33m:\u001b[0m\u001b[1;33m\u001b[0m\u001b[1;33m\u001b[0m\u001b[0m\n\u001b[0;32m    107\u001b[0m     \u001b[1;32mif\u001b[0m \u001b[1;32mnot\u001b[0m \u001b[0mself\u001b[0m\u001b[1;33m.\u001b[0m\u001b[0m_in_multi_worker_mode\u001b[0m\u001b[1;33m(\u001b[0m\u001b[1;33m)\u001b[0m\u001b[1;33m:\u001b[0m  \u001b[1;31m# pylint: disable=protected-access\u001b[0m\u001b[1;33m\u001b[0m\u001b[1;33m\u001b[0m\u001b[0m\n\u001b[1;32m--> 108\u001b[1;33m       \u001b[1;32mreturn\u001b[0m \u001b[0mmethod\u001b[0m\u001b[1;33m(\u001b[0m\u001b[0mself\u001b[0m\u001b[1;33m,\u001b[0m \u001b[1;33m*\u001b[0m\u001b[0margs\u001b[0m\u001b[1;33m,\u001b[0m \u001b[1;33m**\u001b[0m\u001b[0mkwargs\u001b[0m\u001b[1;33m)\u001b[0m\u001b[1;33m\u001b[0m\u001b[1;33m\u001b[0m\u001b[0m\n\u001b[0m\u001b[0;32m    109\u001b[0m \u001b[1;33m\u001b[0m\u001b[0m\n\u001b[0;32m    110\u001b[0m     \u001b[1;31m# Running inside `run_distribute_coordinator` already.\u001b[0m\u001b[1;33m\u001b[0m\u001b[1;33m\u001b[0m\u001b[1;33m\u001b[0m\u001b[0m\n",
      "\u001b[1;32m~\\AppData\\Roaming\\Python\\Python37\\site-packages\\tensorflow\\python\\keras\\engine\\training.py\u001b[0m in \u001b[0;36mfit\u001b[1;34m(self, x, y, batch_size, epochs, verbose, callbacks, validation_split, validation_data, shuffle, class_weight, sample_weight, initial_epoch, steps_per_epoch, validation_steps, validation_batch_size, validation_freq, max_queue_size, workers, use_multiprocessing)\u001b[0m\n\u001b[0;32m   1096\u001b[0m                 batch_size=batch_size):\n\u001b[0;32m   1097\u001b[0m               \u001b[0mcallbacks\u001b[0m\u001b[1;33m.\u001b[0m\u001b[0mon_train_batch_begin\u001b[0m\u001b[1;33m(\u001b[0m\u001b[0mstep\u001b[0m\u001b[1;33m)\u001b[0m\u001b[1;33m\u001b[0m\u001b[1;33m\u001b[0m\u001b[0m\n\u001b[1;32m-> 1098\u001b[1;33m               \u001b[0mtmp_logs\u001b[0m \u001b[1;33m=\u001b[0m \u001b[0mtrain_function\u001b[0m\u001b[1;33m(\u001b[0m\u001b[0miterator\u001b[0m\u001b[1;33m)\u001b[0m\u001b[1;33m\u001b[0m\u001b[1;33m\u001b[0m\u001b[0m\n\u001b[0m\u001b[0;32m   1099\u001b[0m               \u001b[1;32mif\u001b[0m \u001b[0mdata_handler\u001b[0m\u001b[1;33m.\u001b[0m\u001b[0mshould_sync\u001b[0m\u001b[1;33m:\u001b[0m\u001b[1;33m\u001b[0m\u001b[1;33m\u001b[0m\u001b[0m\n\u001b[0;32m   1100\u001b[0m                 \u001b[0mcontext\u001b[0m\u001b[1;33m.\u001b[0m\u001b[0masync_wait\u001b[0m\u001b[1;33m(\u001b[0m\u001b[1;33m)\u001b[0m\u001b[1;33m\u001b[0m\u001b[1;33m\u001b[0m\u001b[0m\n",
      "\u001b[1;32m~\\AppData\\Roaming\\Python\\Python37\\site-packages\\tensorflow\\python\\eager\\def_function.py\u001b[0m in \u001b[0;36m__call__\u001b[1;34m(self, *args, **kwds)\u001b[0m\n\u001b[0;32m    778\u001b[0m       \u001b[1;32melse\u001b[0m\u001b[1;33m:\u001b[0m\u001b[1;33m\u001b[0m\u001b[1;33m\u001b[0m\u001b[0m\n\u001b[0;32m    779\u001b[0m         \u001b[0mcompiler\u001b[0m \u001b[1;33m=\u001b[0m \u001b[1;34m\"nonXla\"\u001b[0m\u001b[1;33m\u001b[0m\u001b[1;33m\u001b[0m\u001b[0m\n\u001b[1;32m--> 780\u001b[1;33m         \u001b[0mresult\u001b[0m \u001b[1;33m=\u001b[0m \u001b[0mself\u001b[0m\u001b[1;33m.\u001b[0m\u001b[0m_call\u001b[0m\u001b[1;33m(\u001b[0m\u001b[1;33m*\u001b[0m\u001b[0margs\u001b[0m\u001b[1;33m,\u001b[0m \u001b[1;33m**\u001b[0m\u001b[0mkwds\u001b[0m\u001b[1;33m)\u001b[0m\u001b[1;33m\u001b[0m\u001b[1;33m\u001b[0m\u001b[0m\n\u001b[0m\u001b[0;32m    781\u001b[0m \u001b[1;33m\u001b[0m\u001b[0m\n\u001b[0;32m    782\u001b[0m       \u001b[0mnew_tracing_count\u001b[0m \u001b[1;33m=\u001b[0m \u001b[0mself\u001b[0m\u001b[1;33m.\u001b[0m\u001b[0m_get_tracing_count\u001b[0m\u001b[1;33m(\u001b[0m\u001b[1;33m)\u001b[0m\u001b[1;33m\u001b[0m\u001b[1;33m\u001b[0m\u001b[0m\n",
      "\u001b[1;32m~\\AppData\\Roaming\\Python\\Python37\\site-packages\\tensorflow\\python\\eager\\def_function.py\u001b[0m in \u001b[0;36m_call\u001b[1;34m(self, *args, **kwds)\u001b[0m\n\u001b[0;32m    805\u001b[0m       \u001b[1;31m# In this case we have created variables on the first call, so we run the\u001b[0m\u001b[1;33m\u001b[0m\u001b[1;33m\u001b[0m\u001b[1;33m\u001b[0m\u001b[0m\n\u001b[0;32m    806\u001b[0m       \u001b[1;31m# defunned version which is guaranteed to never create variables.\u001b[0m\u001b[1;33m\u001b[0m\u001b[1;33m\u001b[0m\u001b[1;33m\u001b[0m\u001b[0m\n\u001b[1;32m--> 807\u001b[1;33m       \u001b[1;32mreturn\u001b[0m \u001b[0mself\u001b[0m\u001b[1;33m.\u001b[0m\u001b[0m_stateless_fn\u001b[0m\u001b[1;33m(\u001b[0m\u001b[1;33m*\u001b[0m\u001b[0margs\u001b[0m\u001b[1;33m,\u001b[0m \u001b[1;33m**\u001b[0m\u001b[0mkwds\u001b[0m\u001b[1;33m)\u001b[0m  \u001b[1;31m# pylint: disable=not-callable\u001b[0m\u001b[1;33m\u001b[0m\u001b[1;33m\u001b[0m\u001b[0m\n\u001b[0m\u001b[0;32m    808\u001b[0m     \u001b[1;32melif\u001b[0m \u001b[0mself\u001b[0m\u001b[1;33m.\u001b[0m\u001b[0m_stateful_fn\u001b[0m \u001b[1;32mis\u001b[0m \u001b[1;32mnot\u001b[0m \u001b[1;32mNone\u001b[0m\u001b[1;33m:\u001b[0m\u001b[1;33m\u001b[0m\u001b[1;33m\u001b[0m\u001b[0m\n\u001b[0;32m    809\u001b[0m       \u001b[1;31m# Release the lock early so that multiple threads can perform the call\u001b[0m\u001b[1;33m\u001b[0m\u001b[1;33m\u001b[0m\u001b[1;33m\u001b[0m\u001b[0m\n",
      "\u001b[1;32m~\\AppData\\Roaming\\Python\\Python37\\site-packages\\tensorflow\\python\\eager\\function.py\u001b[0m in \u001b[0;36m__call__\u001b[1;34m(self, *args, **kwargs)\u001b[0m\n\u001b[0;32m   2827\u001b[0m     \u001b[1;32mwith\u001b[0m \u001b[0mself\u001b[0m\u001b[1;33m.\u001b[0m\u001b[0m_lock\u001b[0m\u001b[1;33m:\u001b[0m\u001b[1;33m\u001b[0m\u001b[1;33m\u001b[0m\u001b[0m\n\u001b[0;32m   2828\u001b[0m       \u001b[0mgraph_function\u001b[0m\u001b[1;33m,\u001b[0m \u001b[0margs\u001b[0m\u001b[1;33m,\u001b[0m \u001b[0mkwargs\u001b[0m \u001b[1;33m=\u001b[0m \u001b[0mself\u001b[0m\u001b[1;33m.\u001b[0m\u001b[0m_maybe_define_function\u001b[0m\u001b[1;33m(\u001b[0m\u001b[0margs\u001b[0m\u001b[1;33m,\u001b[0m \u001b[0mkwargs\u001b[0m\u001b[1;33m)\u001b[0m\u001b[1;33m\u001b[0m\u001b[1;33m\u001b[0m\u001b[0m\n\u001b[1;32m-> 2829\u001b[1;33m     \u001b[1;32mreturn\u001b[0m \u001b[0mgraph_function\u001b[0m\u001b[1;33m.\u001b[0m\u001b[0m_filtered_call\u001b[0m\u001b[1;33m(\u001b[0m\u001b[0margs\u001b[0m\u001b[1;33m,\u001b[0m \u001b[0mkwargs\u001b[0m\u001b[1;33m)\u001b[0m  \u001b[1;31m# pylint: disable=protected-access\u001b[0m\u001b[1;33m\u001b[0m\u001b[1;33m\u001b[0m\u001b[0m\n\u001b[0m\u001b[0;32m   2830\u001b[0m \u001b[1;33m\u001b[0m\u001b[0m\n\u001b[0;32m   2831\u001b[0m   \u001b[1;33m@\u001b[0m\u001b[0mproperty\u001b[0m\u001b[1;33m\u001b[0m\u001b[1;33m\u001b[0m\u001b[0m\n",
      "\u001b[1;32m~\\AppData\\Roaming\\Python\\Python37\\site-packages\\tensorflow\\python\\eager\\function.py\u001b[0m in \u001b[0;36m_filtered_call\u001b[1;34m(self, args, kwargs, cancellation_manager)\u001b[0m\n\u001b[0;32m   1846\u001b[0m                            resource_variable_ops.BaseResourceVariable))],\n\u001b[0;32m   1847\u001b[0m         \u001b[0mcaptured_inputs\u001b[0m\u001b[1;33m=\u001b[0m\u001b[0mself\u001b[0m\u001b[1;33m.\u001b[0m\u001b[0mcaptured_inputs\u001b[0m\u001b[1;33m,\u001b[0m\u001b[1;33m\u001b[0m\u001b[1;33m\u001b[0m\u001b[0m\n\u001b[1;32m-> 1848\u001b[1;33m         cancellation_manager=cancellation_manager)\n\u001b[0m\u001b[0;32m   1849\u001b[0m \u001b[1;33m\u001b[0m\u001b[0m\n\u001b[0;32m   1850\u001b[0m   \u001b[1;32mdef\u001b[0m \u001b[0m_call_flat\u001b[0m\u001b[1;33m(\u001b[0m\u001b[0mself\u001b[0m\u001b[1;33m,\u001b[0m \u001b[0margs\u001b[0m\u001b[1;33m,\u001b[0m \u001b[0mcaptured_inputs\u001b[0m\u001b[1;33m,\u001b[0m \u001b[0mcancellation_manager\u001b[0m\u001b[1;33m=\u001b[0m\u001b[1;32mNone\u001b[0m\u001b[1;33m)\u001b[0m\u001b[1;33m:\u001b[0m\u001b[1;33m\u001b[0m\u001b[1;33m\u001b[0m\u001b[0m\n",
      "\u001b[1;32m~\\AppData\\Roaming\\Python\\Python37\\site-packages\\tensorflow\\python\\eager\\function.py\u001b[0m in \u001b[0;36m_call_flat\u001b[1;34m(self, args, captured_inputs, cancellation_manager)\u001b[0m\n\u001b[0;32m   1922\u001b[0m       \u001b[1;31m# No tape is watching; skip to running the function.\u001b[0m\u001b[1;33m\u001b[0m\u001b[1;33m\u001b[0m\u001b[1;33m\u001b[0m\u001b[0m\n\u001b[0;32m   1923\u001b[0m       return self._build_call_outputs(self._inference_function.call(\n\u001b[1;32m-> 1924\u001b[1;33m           ctx, args, cancellation_manager=cancellation_manager))\n\u001b[0m\u001b[0;32m   1925\u001b[0m     forward_backward = self._select_forward_and_backward_functions(\n\u001b[0;32m   1926\u001b[0m         \u001b[0margs\u001b[0m\u001b[1;33m,\u001b[0m\u001b[1;33m\u001b[0m\u001b[1;33m\u001b[0m\u001b[0m\n",
      "\u001b[1;32m~\\AppData\\Roaming\\Python\\Python37\\site-packages\\tensorflow\\python\\eager\\function.py\u001b[0m in \u001b[0;36mcall\u001b[1;34m(self, ctx, args, cancellation_manager)\u001b[0m\n\u001b[0;32m    548\u001b[0m               \u001b[0minputs\u001b[0m\u001b[1;33m=\u001b[0m\u001b[0margs\u001b[0m\u001b[1;33m,\u001b[0m\u001b[1;33m\u001b[0m\u001b[1;33m\u001b[0m\u001b[0m\n\u001b[0;32m    549\u001b[0m               \u001b[0mattrs\u001b[0m\u001b[1;33m=\u001b[0m\u001b[0mattrs\u001b[0m\u001b[1;33m,\u001b[0m\u001b[1;33m\u001b[0m\u001b[1;33m\u001b[0m\u001b[0m\n\u001b[1;32m--> 550\u001b[1;33m               ctx=ctx)\n\u001b[0m\u001b[0;32m    551\u001b[0m         \u001b[1;32melse\u001b[0m\u001b[1;33m:\u001b[0m\u001b[1;33m\u001b[0m\u001b[1;33m\u001b[0m\u001b[0m\n\u001b[0;32m    552\u001b[0m           outputs = execute.execute_with_cancellation(\n",
      "\u001b[1;32m~\\AppData\\Roaming\\Python\\Python37\\site-packages\\tensorflow\\python\\eager\\execute.py\u001b[0m in \u001b[0;36mquick_execute\u001b[1;34m(op_name, num_outputs, inputs, attrs, ctx, name)\u001b[0m\n\u001b[0;32m     58\u001b[0m     \u001b[0mctx\u001b[0m\u001b[1;33m.\u001b[0m\u001b[0mensure_initialized\u001b[0m\u001b[1;33m(\u001b[0m\u001b[1;33m)\u001b[0m\u001b[1;33m\u001b[0m\u001b[1;33m\u001b[0m\u001b[0m\n\u001b[0;32m     59\u001b[0m     tensors = pywrap_tfe.TFE_Py_Execute(ctx._handle, device_name, op_name,\n\u001b[1;32m---> 60\u001b[1;33m                                         inputs, attrs, num_outputs)\n\u001b[0m\u001b[0;32m     61\u001b[0m   \u001b[1;32mexcept\u001b[0m \u001b[0mcore\u001b[0m\u001b[1;33m.\u001b[0m\u001b[0m_NotOkStatusException\u001b[0m \u001b[1;32mas\u001b[0m \u001b[0me\u001b[0m\u001b[1;33m:\u001b[0m\u001b[1;33m\u001b[0m\u001b[1;33m\u001b[0m\u001b[0m\n\u001b[0;32m     62\u001b[0m     \u001b[1;32mif\u001b[0m \u001b[0mname\u001b[0m \u001b[1;32mis\u001b[0m \u001b[1;32mnot\u001b[0m \u001b[1;32mNone\u001b[0m\u001b[1;33m:\u001b[0m\u001b[1;33m\u001b[0m\u001b[1;33m\u001b[0m\u001b[0m\n",
      "\u001b[1;31mKeyboardInterrupt\u001b[0m: "
     ]
    }
   ],
   "source": [
    "model = tf.keras.Sequential()\n",
    "emb_dim = 100\n",
    "model.add(tf.keras.layers.Embedding(input_dim=vocab_size+2, output_dim=emb_dim))\n",
    "hidden_size = 128\n",
    "# model.add(tf.keras.layers.LSTM(units=hidden_size))\n",
    "model.add(tf.keras.layers.LSTM(units=hidden_size, input_shape=(max_len, emb_dim)))\n",
    "model.add(tf.keras.layers.Dense(units=1, activation=\"sigmoid\"))\n",
    "\n",
    "es = tf.keras.callbacks.EarlyStopping(monitor=\"val_loss\", mode=\"auto\", verbose=1, patience=4)\n",
    "model_path = \"Naver_movie_LSTM.h5\"\n",
    "mc = tf.keras.callbacks.ModelCheckpoint(model_path, monitor=\"val_binary_accuracy\", mode=\"auto\", verbose=1, save_best_only=True)\n",
    "\n",
    "model.compile(optimizer=\"rmsprop\", loss=\"binary_crossentropy\", metrics=[\"binary_accuracy\"])\n",
    "\n",
    "batch_size = 128\n",
    "hist = model.fit(x=X_train, y=y_train, callbacks=[es, mc], batch_size=batch_size, epochs=15, validation_split=0.2, verbose=1)"
   ]
  },
  {
   "cell_type": "code",
   "execution_count": 189,
   "metadata": {
    "colab": {
     "base_uri": "https://localhost:8080/",
     "height": 70
    },
    "id": "Zj0S-2cFkU2W",
    "outputId": "b164f290-daa8-4d87-bcd1-8aab0a9a3277"
   },
   "outputs": [
    {
     "name": "stdout",
     "output_type": "stream",
     "text": [
      "1561/1561 [==============================] - 39s 25ms/step - loss: 0.3005 - binary_accuracy: 0.8731\n"
     ]
    },
    {
     "data": {
      "text/plain": [
       "[0.3005322217941284, 0.8730924725532532]"
      ]
     },
     "execution_count": 189,
     "metadata": {},
     "output_type": "execute_result"
    }
   ],
   "source": [
    "model = tf.keras.models.load_model(model_path)\n",
    "\n",
    "model.evaluate(x=X_test, y=y_test, batch_size=batch_size, verbose=1)"
   ]
  },
  {
   "cell_type": "code",
   "execution_count": 241,
   "metadata": {
    "id": "nA_TgCOlkZAW"
   },
   "outputs": [],
   "source": [
    "def sentiment_predict(sent):\n",
    "    sent = mcb.morphs(sent)\n",
    "    seq = tkn.texts_to_sequences([sent])\n",
    "    pad = tf.keras.preprocessing.sequence.pad_sequences(seq, maxlen=max_len)\n",
    "    score = float(model.predict(pad))\n",
    "    print(f\"이 문장의 긍정도는 {score:.1%}입니다.\")"
   ]
  },
  {
   "cell_type": "code",
   "execution_count": 245,
   "metadata": {
    "colab": {
     "base_uri": "https://localhost:8080/",
     "height": 52
    },
    "id": "sXmfdfgirz0t",
    "outputId": "6c25013e-6fc5-479e-ab4b-4b049dd27059"
   },
   "outputs": [
    {
     "name": "stdout",
     "output_type": "stream",
     "text": [
      "이 문장의 긍정도는 9.1%입니다.\n"
     ]
    }
   ],
   "source": [
    "sentiment_predict(\"이런거 왜보냐\")"
   ]
  },
  {
   "cell_type": "code",
   "execution_count": 246,
   "metadata": {
    "colab": {
     "base_uri": "https://localhost:8080/",
     "height": 52
    },
    "id": "-dI7rk18r_MO",
    "outputId": "ed0bbbab-15dc-45ea-f874-fea1164bf495"
   },
   "outputs": [
    {
     "name": "stdout",
     "output_type": "stream",
     "text": [
      "이 문장의 긍정도는 11.3%입니다.\n"
     ]
    }
   ],
   "source": [
    "sentiment_predict(\"감독 뭐하는 놈이냐?\")"
   ]
  },
  {
   "cell_type": "code",
   "execution_count": 247,
   "metadata": {
    "colab": {
     "base_uri": "https://localhost:8080/",
     "height": 52
    },
    "id": "LI03j7KJsCfl",
    "outputId": "e7c5e047-a855-4f34-a167-450716bca1c2"
   },
   "outputs": [
    {
     "name": "stdout",
     "output_type": "stream",
     "text": [
      "이 문장의 긍정도는 56.9%입니다.\n"
     ]
    }
   ],
   "source": [
    "sentiment_predict(\"와 개쩐다 정말 세계관 최강자들의 영화다\")"
   ]
  },
  {
   "cell_type": "markdown",
   "metadata": {
    "id": "dqHiEdHqbWcw"
   },
   "source": [
    "### 5-2. 1D CNN 사용하기"
   ]
  },
  {
   "cell_type": "code",
   "execution_count": 316,
   "metadata": {
    "colab": {
     "base_uri": "https://localhost:8080/",
     "height": 241
    },
    "id": "RkCvWPHUbhNH",
    "outputId": "2bbca33b-36f6-4ba8-9b0c-78b27d16660d"
   },
   "outputs": [],
   "source": [
    "dropout_rate = (0.5, 0.8)\n",
    "n_filters = 128\n",
    "emb_dim = 64\n",
    "max_len=67\n",
    "\n",
    "inputs = tf.keras.Input(shape=(max_len,))\n",
    "z = tf.keras.layers.Embedding(input_dim=vocab_size+2, output_dim=emb_dim, input_length=max_len)(inputs)\n",
    "# z = tf.keras.layers.Dropout(dropout_rate[0])(z)\n",
    "\n",
    "conv_blocks = []\n",
    "for kernel_size in [3, 4, 5]:\n",
    "    z2 = tf.keras.layers.Conv1D(filters=n_filters, kernel_size=kernel_size, padding=\"same\", activation=\"relu\", strides=1)(z)\n",
    "    z2 = tf.keras.layers.GlobalMaxPooling1D()(z2)\n",
    "#     z2 = tf.keras.layers.Flatten()(z2)\n",
    "    conv_blocks.append(z2)\n",
    "\n",
    "z3 = tf.keras.layers.Concatenate(axis=1)(conv_blocks)\n",
    "# z3 = tf.keras.layers.Dropout(dropout_rate[1])(z3)\n",
    "z3 = tf.keras.layers.Dense(units=128, activation=\"relu\")(z3)\n",
    "outputs = tf.keras.layers.Dense(units=1, activation=\"sigmoid\")(z3)\n",
    "\n",
    "model = tf.keras.Model(inputs, outputs)"
   ]
  },
  {
   "cell_type": "code",
   "execution_count": 317,
   "metadata": {
    "id": "6JatuxFQdEpF",
    "scrolled": true
   },
   "outputs": [
    {
     "name": "stdout",
     "output_type": "stream",
     "text": [
      "Model: \"functional_20\"\n",
      "__________________________________________________________________________________________________\n",
      "Layer (type)                    Output Shape         Param #     Connected to                     \n",
      "==================================================================================================\n",
      "input_23 (InputLayer)           [(None, 67)]         0                                            \n",
      "__________________________________________________________________________________________________\n",
      "embedding_40 (Embedding)        (None, 67, 64)       1816384     input_23[0][0]                   \n",
      "__________________________________________________________________________________________________\n",
      "conv1d_44 (Conv1D)              (None, 67, 128)      24704       embedding_40[0][0]               \n",
      "__________________________________________________________________________________________________\n",
      "conv1d_45 (Conv1D)              (None, 67, 128)      32896       embedding_40[0][0]               \n",
      "__________________________________________________________________________________________________\n",
      "conv1d_46 (Conv1D)              (None, 67, 128)      41088       embedding_40[0][0]               \n",
      "__________________________________________________________________________________________________\n",
      "global_max_pooling1d_58 (Global (None, 128)          0           conv1d_44[0][0]                  \n",
      "__________________________________________________________________________________________________\n",
      "global_max_pooling1d_59 (Global (None, 128)          0           conv1d_45[0][0]                  \n",
      "__________________________________________________________________________________________________\n",
      "global_max_pooling1d_60 (Global (None, 128)          0           conv1d_46[0][0]                  \n",
      "__________________________________________________________________________________________________\n",
      "concatenate_20 (Concatenate)    (None, 384)          0           global_max_pooling1d_58[0][0]    \n",
      "                                                                 global_max_pooling1d_59[0][0]    \n",
      "                                                                 global_max_pooling1d_60[0][0]    \n",
      "__________________________________________________________________________________________________\n",
      "dense_41 (Dense)                (None, 128)          49280       concatenate_20[0][0]             \n",
      "__________________________________________________________________________________________________\n",
      "dense_42 (Dense)                (None, 1)            129         dense_41[0][0]                   \n",
      "==================================================================================================\n",
      "Total params: 1,964,481\n",
      "Trainable params: 1,964,481\n",
      "Non-trainable params: 0\n",
      "__________________________________________________________________________________________________\n"
     ]
    }
   ],
   "source": [
    "model.summary()"
   ]
  },
  {
   "cell_type": "markdown",
   "metadata": {
    "id": "6JQ9L5lihdNF"
   },
   "source": [
    "- Conv1d를 이해했는지 테스트하는 가장 좋은 방법은 파라미터의 개수를 이해할 수 있느냐를 점검해보는 것입니다. Conv1d의 커널 크기 3짜리의 총 파라미터수는 49,280입니다. 이는 3 * 128 * 128 + 128의 결과입니다. 왜 이런 계산이 나오는지 생각해봅시다."
   ]
  },
  {
   "cell_type": "code",
   "execution_count": 319,
   "metadata": {
    "id": "SvXDMluxeIjw"
   },
   "outputs": [
    {
     "name": "stdout",
     "output_type": "stream",
     "text": [
      "Epoch 1/10\n",
      "1872/1872 [==============================] - ETA: 0s - loss: 0.3404 - binary_accuracy: 0.8502\n",
      "Epoch 00001: val_binary_accuracy improved from -inf to 0.87092, saving model to Naver_movie_CNN.h5\n",
      "1872/1872 [==============================] - 192s 103ms/step - loss: 0.3404 - binary_accuracy: 0.8502 - val_loss: 0.3061 - val_binary_accuracy: 0.8709\n",
      "Epoch 2/10\n",
      "1872/1872 [==============================] - ETA: 0s - loss: 0.2249 - binary_accuracy: 0.9107\n",
      "Epoch 00002: val_binary_accuracy did not improve from 0.87092\n",
      "1872/1872 [==============================] - 192s 102ms/step - loss: 0.2249 - binary_accuracy: 0.9107 - val_loss: 0.3124 - val_binary_accuracy: 0.8684\n",
      "Epoch 3/10\n",
      "1872/1872 [==============================] - ETA: 0s - loss: 0.1275 - binary_accuracy: 0.9539\n",
      "Epoch 00003: val_binary_accuracy did not improve from 0.87092\n",
      "1872/1872 [==============================] - 185s 99ms/step - loss: 0.1275 - binary_accuracy: 0.9539 - val_loss: 0.3996 - val_binary_accuracy: 0.8592\n",
      "Epoch 4/10\n",
      "1872/1872 [==============================] - ETA: 0s - loss: 0.0721 - binary_accuracy: 0.9748\n",
      "Epoch 00004: val_binary_accuracy did not improve from 0.87092\n",
      "1872/1872 [==============================] - 185s 99ms/step - loss: 0.0721 - binary_accuracy: 0.9748 - val_loss: 0.5111 - val_binary_accuracy: 0.8567\n",
      "Epoch 5/10\n",
      "1872/1872 [==============================] - ETA: 0s - loss: 0.0502 - binary_accuracy: 0.9817\n",
      "Epoch 00005: val_binary_accuracy did not improve from 0.87092\n",
      "1872/1872 [==============================] - 187s 100ms/step - loss: 0.0502 - binary_accuracy: 0.9817 - val_loss: 0.6352 - val_binary_accuracy: 0.8504\n",
      "Epoch 00005: early stopping\n"
     ]
    }
   ],
   "source": [
    "model.compile(optimizer=\"adam\", loss=\"binary_crossentropy\", metrics=[\"binary_accuracy\"])\n",
    "\n",
    "model_path = \"Naver_movie_CNN.h5\"\n",
    "es = tf.keras.callbacks.EarlyStopping(monitor=\"val_loss\", mode=\"auto\", verbose=1, patience=4)\n",
    "mc = tf.keras.callbacks.ModelCheckpoint(model_path, monitor=\"val_binary_accuracy\", mode=\"auto\", verbose=1, save_best_only=True)\n",
    "\n",
    "hist = model.fit(x=X_train, y=y_train, validation_split=0.2, batch_size=64, epochs=10, verbose=1, callbacks=[es, mc])"
   ]
  },
  {
   "cell_type": "code",
   "execution_count": 320,
   "metadata": {
    "colab": {
     "base_uri": "https://localhost:8080/",
     "height": 70
    },
    "id": "i9Xw_2SoeMP-",
    "outputId": "d0b95f38-30ad-433c-dbe6-4cecb169d51d"
   },
   "outputs": [
    {
     "name": "stdout",
     "output_type": "stream",
     "text": [
      "391/391 [==============================] - 10s 26ms/step - loss: 0.3155 - binary_accuracy: 0.8638\n"
     ]
    },
    {
     "data": {
      "text/plain": [
       "[0.315510630607605, 0.8638402819633484]"
      ]
     },
     "execution_count": 320,
     "metadata": {},
     "output_type": "execute_result"
    }
   ],
   "source": [
    "model = tf.keras.models.load_model(model_path)\n",
    "\n",
    "model.evaluate(x=X_test, y=y_test, batch_size=batch_size, verbose=1)"
   ]
  },
  {
   "cell_type": "code",
   "execution_count": 321,
   "metadata": {},
   "outputs": [],
   "source": [
    "def sentiment_predict(sent):\n",
    "    sent = mcb.morphs(sent)\n",
    "    seq = tkn.texts_to_sequences([sent])\n",
    "    pad = tf.keras.preprocessing.sequence.pad_sequences(seq, maxlen=max_len)\n",
    "    score = float(model.predict(pad))\n",
    "    print(f\"이 문장의 긍정도는 {score:.1%}입니다.\")"
   ]
  },
  {
   "cell_type": "code",
   "execution_count": 322,
   "metadata": {
    "colab": {
     "base_uri": "https://localhost:8080/",
     "height": 52
    },
    "id": "sXmfdfgirz0t",
    "outputId": "6c25013e-6fc5-479e-ab4b-4b049dd27059"
   },
   "outputs": [
    {
     "name": "stdout",
     "output_type": "stream",
     "text": [
      "이 문장의 긍정도는 8.7%입니다.\n"
     ]
    }
   ],
   "source": [
    "sentiment_predict(\"이런거 왜보냐\")"
   ]
  },
  {
   "cell_type": "code",
   "execution_count": 323,
   "metadata": {
    "colab": {
     "base_uri": "https://localhost:8080/",
     "height": 52
    },
    "id": "-dI7rk18r_MO",
    "outputId": "ed0bbbab-15dc-45ea-f874-fea1164bf495"
   },
   "outputs": [
    {
     "name": "stdout",
     "output_type": "stream",
     "text": [
      "이 문장의 긍정도는 2.2%입니다.\n"
     ]
    }
   ],
   "source": [
    "sentiment_predict(\"감독 뭐하는 놈이냐?\")"
   ]
  },
  {
   "cell_type": "code",
   "execution_count": 324,
   "metadata": {
    "colab": {
     "base_uri": "https://localhost:8080/",
     "height": 52
    },
    "id": "LI03j7KJsCfl",
    "outputId": "e7c5e047-a855-4f34-a167-450716bca1c2"
   },
   "outputs": [
    {
     "name": "stdout",
     "output_type": "stream",
     "text": [
      "이 문장의 긍정도는 88.1%입니다.\n"
     ]
    }
   ],
   "source": [
    "sentiment_predict(\"와 개쩐다 정말 세계관 최강자들의 영화다\")"
   ]
  },
  {
   "cell_type": "markdown",
   "metadata": {},
   "source": [
    "## 6. 스팀 리뷰 데이터 감성 분류"
   ]
  },
  {
   "cell_type": "code",
   "execution_count": 325,
   "metadata": {},
   "outputs": [
    {
     "data": {
      "text/plain": [
       "('steam.txt', <http.client.HTTPMessage at 0x19f95705848>)"
      ]
     },
     "execution_count": 325,
     "metadata": {},
     "output_type": "execute_result"
    }
   ],
   "source": [
    "urllib.request.urlretrieve(\"https://raw.githubusercontent.com/bab2min/corpus/master/sentiment/steam.txt\", filename=\"steam.txt\")"
   ]
  },
  {
   "cell_type": "code",
   "execution_count": 355,
   "metadata": {},
   "outputs": [],
   "source": [
    "data = pd.read_table(\"steam.txt\", names=[\"label\", \"review\"])"
   ]
  },
  {
   "cell_type": "code",
   "execution_count": 356,
   "metadata": {},
   "outputs": [],
   "source": [
    "data[\"review\"] = data[\"review\"].str.replace(f\"[{string.punctuation}]\", \" \")\n",
    "data[\"review\"] = data[\"review\"].str.replace(r\" +\", \" \")\n",
    "data = data[data[\"review\"]!=\" \"]\n",
    "data = data.dropna(axis=0)\n",
    "data = data.drop_duplicates([\"review\"], keep=\"first\")"
   ]
  },
  {
   "cell_type": "code",
   "execution_count": 345,
   "metadata": {},
   "outputs": [
    {
     "name": "stderr",
     "output_type": "stream",
     "text": [
      "C:\\Users\\5CG7092POZ\\Anaconda3\\envs\\tf2.3\\lib\\site-packages\\seaborn\\_decorators.py:43: FutureWarning: Pass the following variable as a keyword arg: x. From version 0.12, the only valid positional argument will be `data`, and passing other arguments without an explicit keyword will result in an error or misinterpretation.\n",
      "  FutureWarning\n"
     ]
    },
    {
     "data": {
      "image/png": "[encoded data removed]",
      "text/plain": [
       "<Figure size 432x288 with 1 Axes>"
      ]
     },
     "metadata": {},
     "output_type": "display_data"
    }
   ],
   "source": [
    "fig, ax = plt.subplots()\n",
    "\n",
    "sb.countplot(data[\"label\"])\n",
    "\n",
    "fig.tight_layout()"
   ]
  },
  {
   "cell_type": "code",
   "execution_count": 367,
   "metadata": {},
   "outputs": [
    {
     "data": {
      "application/vnd.jupyter.widget-view+json": {
       "model_id": "f8bbba24f9974a468f9d6fb01f278be8",
       "version_major": 2,
       "version_minor": 0
      },
      "text/plain": [
       "HBox(children=(HTML(value=''), FloatProgress(value=0.0, max=99755.0), HTML(value='')))"
      ]
     },
     "metadata": {},
     "output_type": "display_data"
    },
    {
     "name": "stdout",
     "output_type": "stream",
     "text": [
      "\n"
     ]
    }
   ],
   "source": [
    "data[\"morphs\"] = data[\"review\"].progress_apply(mcb.morphs)\n",
    "# data[\"pos\"] = data[\"review\"].progress_apply(mcb.pos)\n",
    "\n",
    "train, test = train_test_split(data, train_size=0.8, shuffle=True, random_state=231)\n",
    "\n",
    "train_X = train[\"morphs\"].tolist()\n",
    "train_y = np.array(train[\"label\"])\n",
    "\n",
    "test_X = test[\"morphs\"].tolist()\n",
    "test_y = np.array(test[\"label\"])\n",
    "\n",
    "tkn = tf.keras.preprocessing.text.Tokenizer()\n",
    "tkn.fit_on_texts(train_X)\n",
    "word2idx = tkn.word_index\n",
    "word2cnts = dict(sorted(tkn.word_counts.items(), key=lambda x:x[1], reverse=True))\n",
    "\n",
    "cnts = list(word2cnts.values())\n",
    "ratio = 0.99\n",
    "for vocab_size, value in enumerate(np.cumsum(cnts)/np.sum(cnts)):\n",
    "    if value >= ratio:\n",
    "        break\n",
    "\n",
    "print(f\"{vocab_size:,}개의 단어로 전체 data의 {ratio:.0%}를 표현할 수 있습니다.\")\n",
    "print(f\"{len(word2idx):,}개의 단어 중 {vocab_size/len(word2idx):.1%}에 해당합니다.\")"
   ]
  },
  {
   "cell_type": "code",
   "execution_count": 513,
   "metadata": {},
   "outputs": [],
   "source": [
    "tkn = tf.keras.preprocessing.text.Tokenizer(num_words=vocab_size+2, oov_token=\"OOV\")\n",
    "tkn.fit_on_texts(train_X)\n",
    "\n",
    "train_X = tkn.texts_to_sequences(train_X)\n",
    "test_X = tkn.texts_to_sequences(test_X)\n",
    "\n",
    "lens = sorted([len(doc) for doc in train_X])\n",
    "for idx, max_len in enumerate(lens):\n",
    "    if idx/len(lens) >= ratio:\n",
    "        break\n",
    "print(f\"길이가 {max_len} 이하인 리뷰가 전체의 {ratio:.0%}를 차지합니다.\")"
   ]
  },
  {
   "cell_type": "code",
   "execution_count": 516,
   "metadata": {},
   "outputs": [],
   "source": [
    "train_X = tf.keras.preprocessing.sequence.pad_sequences(train_X, maxlen=max_len)\n",
    "test_X = tf.keras.preprocessing.sequence.pad_sequences(test_X, maxlen=max_len)\n",
    "\n",
    "model = tf.keras.Sequential()\n",
    "model.add(tf.keras.layers.Embedding(input_dim=vocab_size+2, output_dim=64))\n",
    "hidden_size = 128\n",
    "model.add(tf.keras.layers.Bidirectional(tf.keras.layers.LSTM(units=hidden_size)))\n",
    "model.add(tf.keras.layers.Dense(units=1, activation=\"sigmoid\"))\n",
    "\n",
    "es = tf.keras.callbacks.EarlyStopping(monitor=\"val_loss\", mode=\"auto\", verbose=1, patience=2)\n",
    "model_path = \"steam_review_bidirectional_lstm.h5\"\n",
    "mc = tf.keras.callbacks.ModelCheckpoint(filepath=model_path, monitor=\"val_binary_accuracy\", mode=\"auto\", verbose=1, save_best_only=True)\n",
    "\n",
    "model.compile(optimizer=\"rmsprop\", loss=\"binary_crossentropy\", metrics=[\"binary_accuracy\"])\n",
    "\n",
    "batch_size = 256\n",
    "hist = model.fit(x=train_X, y=train_y, validation_split=0.2, batch_size=batch_size, epochs=10, verbose=1, callbacks=[es, mc])"
   ]
  },
  {
   "cell_type": "code",
   "execution_count": 517,
   "metadata": {},
   "outputs": [
    {
     "name": "stdout",
     "output_type": "stream",
     "text": [
      "78/78 [==============================] - 17s 220ms/step - loss: 0.4575 - binary_accuracy: 0.7931\n"
     ]
    },
    {
     "data": {
      "text/plain": [
       "[0.4575434923171997, 0.7930930852890015]"
      ]
     },
     "execution_count": 517,
     "metadata": {},
     "output_type": "execute_result"
    }
   ],
   "source": [
    "model = tf.keras.models.load_model(model_path)\n",
    "\n",
    "model.evaluate(x=test_X, y=test_y, batch_size=batch_size, verbose=1)"
   ]
  },
  {
   "cell_type": "code",
   "execution_count": 518,
   "metadata": {},
   "outputs": [],
   "source": [
    "def sentiment_predict(sent):\n",
    "    sent = mcb.morphs(sent)\n",
    "    seq = tkn.texts_to_sequences([sent])\n",
    "    pad = tf.keras.preprocessing.sequence.pad_sequences(seq, maxlen=max_len)\n",
    "    score = float(model.predict(pad))\n",
    "    print(f\"이 문장의 긍정도는 {score:.1%}입니다.\")"
   ]
  },
  {
   "cell_type": "code",
   "execution_count": 520,
   "metadata": {},
   "outputs": [
    {
     "name": "stdout",
     "output_type": "stream",
     "text": [
      "이 문장의 긍정도는 3.4%입니다.\n"
     ]
    }
   ],
   "source": [
    "sentiment_predict(\"노잼 ..완전 재미 없음 ㅉㅉ\")"
   ]
  },
  {
   "cell_type": "code",
   "execution_count": 521,
   "metadata": {},
   "outputs": [
    {
     "name": "stdout",
     "output_type": "stream",
     "text": [
      "이 문장의 긍정도는 98.7%입니다.\n"
     ]
    }
   ],
   "source": [
    "sentiment_predict(\"조금 어렵지만 재밌음ㅋㅋ\")"
   ]
  },
  {
   "cell_type": "code",
   "execution_count": 527,
   "metadata": {},
   "outputs": [
    {
     "name": "stdout",
     "output_type": "stream",
     "text": [
      "이 문장의 긍정도는 34.1%입니다.\n"
     ]
    }
   ],
   "source": [
    "sentiment_predict(\"케릭터가 예뻐고 재밌기도 합니다만 애매하네요\")"
   ]
  },
  {
   "cell_type": "code",
   "execution_count": null,
   "metadata": {},
   "outputs": [],
   "source": []
  }
 ],
 "metadata": {
  "accelerator": "GPU",
  "colab": {
   "name": "learning spoons 4강.ipynb의 사본",
   "provenance": [],
   "toc_visible": true
  },
  "kernelspec": {
   "display_name": "Python 3",
   "language": "python",
   "name": "python3"
  },
  "language_info": {
   "codemirror_mode": {
    "name": "ipython",
    "version": 3
   },
   "file_extension": ".py",
   "mimetype": "text/x-python",
   "name": "python",
   "nbconvert_exporter": "python",
   "pygments_lexer": "ipython3",
   "version": "3.7.9"
  }
 },
 "nbformat": 4,
 "nbformat_minor": 1
}
