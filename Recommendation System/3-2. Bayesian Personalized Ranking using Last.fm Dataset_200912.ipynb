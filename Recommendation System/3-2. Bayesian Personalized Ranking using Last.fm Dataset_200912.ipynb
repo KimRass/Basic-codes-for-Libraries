{
 "cells": [
  {
   "cell_type": "markdown",
   "metadata": {},
   "source": [
    "# Matrix Factorization - BRP(Bayesian Personalized Ranking)\n",
    "- BPR은 implicit data에 사용 가능한 matrix factorization 알고리즘 중 하나입니다."
   ]
  },
  {
   "cell_type": "code",
   "execution_count": 1,
   "metadata": {
    "scrolled": true
   },
   "outputs": [],
   "source": [
    "import os\n",
    "import random\n",
    "import numpy as np\n",
    "import pandas as pd\n",
    "import tensorflow as tf\n",
    "from tqdm import tqdm\n",
    "import matplotlib.pyplot as plt\n",
    "import seaborn as sb\n",
    "from scipy.sparse import csr_matrix\n",
    "import sys\n",
    "from implicit.bpr import BayesianPersonalizedRanking as BPR\n",
    "import pickle as pk\n",
    "from sklearn.decomposition import PCA\n",
    "from annoy import AnnoyIndex\n",
    "\n",
    "np.set_printoptions(3)"
   ]
  },
  {
   "cell_type": "code",
   "execution_count": 2,
   "metadata": {},
   "outputs": [],
   "source": [
    "plays_df = pd.read_csv(\"plays.csv\")\n",
    "arts_df = pd.read_csv(\"artists.csv\")\n",
    "users_df = pd.read_csv(\"users.csv\")"
   ]
  },
  {
   "cell_type": "markdown",
   "metadata": {},
   "source": [
    "### Implicit Data 해석하기\n",
    "- 재생 횟수를 별점으로 해석하면 안 됩니다.\n",
    "- 그 이유는 데뷔한 지 오래되거나 발표한 곡이 많을수록 해당 아티스트의 재생 횟수는 일반적으로 많을 수밖에 없기 때문입니다.\n",
    "- BPR에서는 재생 횟수를 그대로 사용하는 것이 아니라 재생 여부만을 봅니다.\n",
    "- 이때 재생한 적 있는 아티스트를 재생한 적 없는 아티스트보다 선호한다는 가정을 깔고 갑니다.\n",
    "- BPR은 긍정 아이템과 부정 아이템 간의 랭킹의 차이를 objective function으로 하여 그 값이 커지도록 embedding합니다."
   ]
  },
  {
   "cell_type": "code",
   "execution_count": 3,
   "metadata": {},
   "outputs": [
    {
     "data": {
      "text/html": [
       "<div>\n",
       "<style scoped>\n",
       "    .dataframe tbody tr th:only-of-type {\n",
       "        vertical-align: middle;\n",
       "    }\n",
       "\n",
       "    .dataframe tbody tr th {\n",
       "        vertical-align: top;\n",
       "    }\n",
       "\n",
       "    .dataframe thead th {\n",
       "        text-align: right;\n",
       "    }\n",
       "</style>\n",
       "<table border=\"1\" class=\"dataframe\">\n",
       "  <thead>\n",
       "    <tr style=\"text-align: right;\">\n",
       "      <th></th>\n",
       "      <th>user_id</th>\n",
       "      <th>artist_id</th>\n",
       "      <th>plays</th>\n",
       "    </tr>\n",
       "  </thead>\n",
       "  <tbody>\n",
       "    <tr>\n",
       "      <th>0</th>\n",
       "      <td>0</td>\n",
       "      <td>0</td>\n",
       "      <td>2137</td>\n",
       "    </tr>\n",
       "    <tr>\n",
       "      <th>1</th>\n",
       "      <td>0</td>\n",
       "      <td>1</td>\n",
       "      <td>1099</td>\n",
       "    </tr>\n",
       "    <tr>\n",
       "      <th>2</th>\n",
       "      <td>0</td>\n",
       "      <td>2</td>\n",
       "      <td>897</td>\n",
       "    </tr>\n",
       "    <tr>\n",
       "      <th>3</th>\n",
       "      <td>0</td>\n",
       "      <td>3</td>\n",
       "      <td>717</td>\n",
       "    </tr>\n",
       "    <tr>\n",
       "      <th>4</th>\n",
       "      <td>0</td>\n",
       "      <td>4</td>\n",
       "      <td>706</td>\n",
       "    </tr>\n",
       "    <tr>\n",
       "      <th>...</th>\n",
       "      <td>...</td>\n",
       "      <td>...</td>\n",
       "      <td>...</td>\n",
       "    </tr>\n",
       "    <tr>\n",
       "      <th>17302618</th>\n",
       "      <td>359346</td>\n",
       "      <td>193</td>\n",
       "      <td>61</td>\n",
       "    </tr>\n",
       "    <tr>\n",
       "      <th>17302619</th>\n",
       "      <td>359346</td>\n",
       "      <td>9965</td>\n",
       "      <td>61</td>\n",
       "    </tr>\n",
       "    <tr>\n",
       "      <th>17302620</th>\n",
       "      <td>359346</td>\n",
       "      <td>1549</td>\n",
       "      <td>59</td>\n",
       "    </tr>\n",
       "    <tr>\n",
       "      <th>17302621</th>\n",
       "      <td>359346</td>\n",
       "      <td>806</td>\n",
       "      <td>58</td>\n",
       "    </tr>\n",
       "    <tr>\n",
       "      <th>17302622</th>\n",
       "      <td>359346</td>\n",
       "      <td>177</td>\n",
       "      <td>57</td>\n",
       "    </tr>\n",
       "  </tbody>\n",
       "</table>\n",
       "<p>17302623 rows × 3 columns</p>\n",
       "</div>"
      ],
      "text/plain": [
       "          user_id  artist_id  plays\n",
       "0               0          0   2137\n",
       "1               0          1   1099\n",
       "2               0          2    897\n",
       "3               0          3    717\n",
       "4               0          4    706\n",
       "...           ...        ...    ...\n",
       "17302618   359346        193     61\n",
       "17302619   359346       9965     61\n",
       "17302620   359346       1549     59\n",
       "17302621   359346        806     58\n",
       "17302622   359346        177     57\n",
       "\n",
       "[17302623 rows x 3 columns]"
      ]
     },
     "execution_count": 3,
     "metadata": {},
     "output_type": "execute_result"
    }
   ],
   "source": [
    "plays_df"
   ]
  },
  {
   "cell_type": "code",
   "execution_count": 4,
   "metadata": {},
   "outputs": [],
   "source": [
    "# 사용자별 플레이한 적이 있는 아피스트의 집합\n",
    "in_plays = plays_df.groupby([\"user_id\"])[\"artist_id\"].apply(frozenset)"
   ]
  },
  {
   "cell_type": "code",
   "execution_count": 5,
   "metadata": {},
   "outputs": [
    {
     "data": {
      "text/plain": [
       "user_id\n",
       "0         (0, 1, 2, 3, 4, 5, 6, 7, 8, 9, 10, 11, 12, 13,...\n",
       "1         (49, 50, 51, 52, 53, 54, 55, 56, 57, 58, 59, 6...\n",
       "2         (128, 129, 130, 131, 132, 133, 134, 135, 136, ...\n",
       "3         (146, 147, 148, 149, 150, 151, 152, 153, 154, ...\n",
       "4         (12, 51, 194, 195, 196, 197, 198, 199, 200, 20...\n",
       "                                ...                        \n",
       "359342    (5, 1415, 264, 6923, 1679, 527, 5519, 2070, 20...\n",
       "359343    (515, 260, 7943, 17675, 783, 276, 2580, 790, 2...\n",
       "359344    (8704, 3713, 8066, 1155, 2432, 3717, 8070, 233...\n",
       "359345    (3328, 5, 2062, 281, 132638, 928, 426, 1199, 1...\n",
       "359346    (12675, 10244, 4484, 266, 8074, 1549, 10127, 1...\n",
       "Name: artist_id, Length: 358856, dtype: object"
      ]
     },
     "execution_count": 5,
     "metadata": {},
     "output_type": "execute_result"
    }
   ],
   "source": [
    "in_plays"
   ]
  },
  {
   "cell_type": "code",
   "execution_count": 41,
   "metadata": {},
   "outputs": [],
   "source": [
    "all_arts = set(plays_df[\"artist_id\"])"
   ]
  },
  {
   "cell_type": "code",
   "execution_count": 42,
   "metadata": {},
   "outputs": [],
   "source": [
    "top_users = plays_df[\"user_id\"].value_counts()[:100].index\n",
    "top_arts = plays_df[\"artist_id\"].value_counts()[:100].index\n",
    "\n",
    "top100 = plays_df[(plays_df[\"user_id\"].isin(top_users)) & (plays_df[\"artist_id\"].isin(top_arts))]"
   ]
  },
  {
   "cell_type": "code",
   "execution_count": 43,
   "metadata": {},
   "outputs": [
    {
     "data": {
      "text/html": [
       "<div>\n",
       "<style scoped>\n",
       "    .dataframe tbody tr th:only-of-type {\n",
       "        vertical-align: middle;\n",
       "    }\n",
       "\n",
       "    .dataframe tbody tr th {\n",
       "        vertical-align: top;\n",
       "    }\n",
       "\n",
       "    .dataframe thead th {\n",
       "        text-align: right;\n",
       "    }\n",
       "</style>\n",
       "<table border=\"1\" class=\"dataframe\">\n",
       "  <thead>\n",
       "    <tr style=\"text-align: right;\">\n",
       "      <th></th>\n",
       "      <th>user_id</th>\n",
       "      <th>artist_id</th>\n",
       "      <th>plays</th>\n",
       "    </tr>\n",
       "  </thead>\n",
       "  <tbody>\n",
       "    <tr>\n",
       "      <th>260488</th>\n",
       "      <td>5401</td>\n",
       "      <td>485</td>\n",
       "      <td>1677</td>\n",
       "    </tr>\n",
       "    <tr>\n",
       "      <th>260489</th>\n",
       "      <td>5401</td>\n",
       "      <td>216</td>\n",
       "      <td>1287</td>\n",
       "    </tr>\n",
       "    <tr>\n",
       "      <th>260493</th>\n",
       "      <td>5401</td>\n",
       "      <td>789</td>\n",
       "      <td>517</td>\n",
       "    </tr>\n",
       "    <tr>\n",
       "      <th>260496</th>\n",
       "      <td>5401</td>\n",
       "      <td>2724</td>\n",
       "      <td>356</td>\n",
       "    </tr>\n",
       "    <tr>\n",
       "      <th>260500</th>\n",
       "      <td>5401</td>\n",
       "      <td>245</td>\n",
       "      <td>265</td>\n",
       "    </tr>\n",
       "    <tr>\n",
       "      <th>...</th>\n",
       "      <td>...</td>\n",
       "      <td>...</td>\n",
       "      <td>...</td>\n",
       "    </tr>\n",
       "    <tr>\n",
       "      <th>16852093</th>\n",
       "      <td>349949</td>\n",
       "      <td>995</td>\n",
       "      <td>121</td>\n",
       "    </tr>\n",
       "    <tr>\n",
       "      <th>16852100</th>\n",
       "      <td>349949</td>\n",
       "      <td>707</td>\n",
       "      <td>79</td>\n",
       "    </tr>\n",
       "    <tr>\n",
       "      <th>16852112</th>\n",
       "      <td>349949</td>\n",
       "      <td>245</td>\n",
       "      <td>51</td>\n",
       "    </tr>\n",
       "    <tr>\n",
       "      <th>16852129</th>\n",
       "      <td>349949</td>\n",
       "      <td>992</td>\n",
       "      <td>39</td>\n",
       "    </tr>\n",
       "    <tr>\n",
       "      <th>16852144</th>\n",
       "      <td>349949</td>\n",
       "      <td>1205</td>\n",
       "      <td>32</td>\n",
       "    </tr>\n",
       "  </tbody>\n",
       "</table>\n",
       "<p>824 rows × 3 columns</p>\n",
       "</div>"
      ],
      "text/plain": [
       "          user_id  artist_id  plays\n",
       "260488       5401        485   1677\n",
       "260489       5401        216   1287\n",
       "260493       5401        789    517\n",
       "260496       5401       2724    356\n",
       "260500       5401        245    265\n",
       "...           ...        ...    ...\n",
       "16852093   349949        995    121\n",
       "16852100   349949        707     79\n",
       "16852112   349949        245     51\n",
       "16852129   349949        992     39\n",
       "16852144   349949       1205     32\n",
       "\n",
       "[824 rows x 3 columns]"
      ]
     },
     "execution_count": 43,
     "metadata": {},
     "output_type": "execute_result"
    }
   ],
   "source": [
    "top100"
   ]
  },
  {
   "cell_type": "markdown",
   "metadata": {},
   "source": [
    "## numpy로 BPR 구현하기"
   ]
  },
  {
   "cell_type": "code",
   "execution_count": 44,
   "metadata": {},
   "outputs": [
    {
     "data": {
      "text/html": [
       "<div>\n",
       "<style scoped>\n",
       "    .dataframe tbody tr th:only-of-type {\n",
       "        vertical-align: middle;\n",
       "    }\n",
       "\n",
       "    .dataframe tbody tr th {\n",
       "        vertical-align: top;\n",
       "    }\n",
       "\n",
       "    .dataframe thead th {\n",
       "        text-align: right;\n",
       "    }\n",
       "</style>\n",
       "<table border=\"1\" class=\"dataframe\">\n",
       "  <thead>\n",
       "    <tr style=\"text-align: right;\">\n",
       "      <th></th>\n",
       "      <th>user_id</th>\n",
       "      <th>gender</th>\n",
       "      <th>age</th>\n",
       "      <th>country</th>\n",
       "    </tr>\n",
       "  </thead>\n",
       "  <tbody>\n",
       "    <tr>\n",
       "      <th>155667</th>\n",
       "      <td>155667</td>\n",
       "      <td>m</td>\n",
       "      <td>15</td>\n",
       "      <td>Brazil</td>\n",
       "    </tr>\n",
       "    <tr>\n",
       "      <th>206423</th>\n",
       "      <td>206423</td>\n",
       "      <td>m</td>\n",
       "      <td>21</td>\n",
       "      <td>Russian Federation</td>\n",
       "    </tr>\n",
       "    <tr>\n",
       "      <th>2515</th>\n",
       "      <td>2515</td>\n",
       "      <td>m</td>\n",
       "      <td>20</td>\n",
       "      <td>New Zealand</td>\n",
       "    </tr>\n",
       "    <tr>\n",
       "      <th>271267</th>\n",
       "      <td>271267</td>\n",
       "      <td>m</td>\n",
       "      <td>16</td>\n",
       "      <td>Russian Federation</td>\n",
       "    </tr>\n",
       "    <tr>\n",
       "      <th>162146</th>\n",
       "      <td>162146</td>\n",
       "      <td>m</td>\n",
       "      <td>28</td>\n",
       "      <td>Italy</td>\n",
       "    </tr>\n",
       "  </tbody>\n",
       "</table>\n",
       "</div>"
      ],
      "text/plain": [
       "        user_id gender  age             country\n",
       "155667   155667      m   15              Brazil\n",
       "206423   206423      m   21  Russian Federation\n",
       "2515       2515      m   20         New Zealand\n",
       "271267   271267      m   16  Russian Federation\n",
       "162146   162146      m   28               Italy"
      ]
     },
     "execution_count": 44,
     "metadata": {},
     "output_type": "execute_result"
    }
   ],
   "source": [
    "users_df.sample(5)"
   ]
  },
  {
   "cell_type": "code",
   "execution_count": 45,
   "metadata": {},
   "outputs": [
    {
     "data": {
      "text/html": [
       "<div>\n",
       "<style scoped>\n",
       "    .dataframe tbody tr th:only-of-type {\n",
       "        vertical-align: middle;\n",
       "    }\n",
       "\n",
       "    .dataframe tbody tr th {\n",
       "        vertical-align: top;\n",
       "    }\n",
       "\n",
       "    .dataframe thead th {\n",
       "        text-align: right;\n",
       "    }\n",
       "</style>\n",
       "<table border=\"1\" class=\"dataframe\">\n",
       "  <thead>\n",
       "    <tr style=\"text-align: right;\">\n",
       "      <th></th>\n",
       "      <th>artist_id</th>\n",
       "      <th>artist_name</th>\n",
       "    </tr>\n",
       "  </thead>\n",
       "  <tbody>\n",
       "    <tr>\n",
       "      <th>0</th>\n",
       "      <td>0</td>\n",
       "      <td>betty blowtorch</td>\n",
       "    </tr>\n",
       "    <tr>\n",
       "      <th>1</th>\n",
       "      <td>1</td>\n",
       "      <td>die Ärzte</td>\n",
       "    </tr>\n",
       "    <tr>\n",
       "      <th>2</th>\n",
       "      <td>2</td>\n",
       "      <td>melissa etheridge</td>\n",
       "    </tr>\n",
       "    <tr>\n",
       "      <th>3</th>\n",
       "      <td>3</td>\n",
       "      <td>elvenking</td>\n",
       "    </tr>\n",
       "    <tr>\n",
       "      <th>4</th>\n",
       "      <td>4</td>\n",
       "      <td>juliette &amp; the licks</td>\n",
       "    </tr>\n",
       "    <tr>\n",
       "      <th>...</th>\n",
       "      <td>...</td>\n",
       "      <td>...</td>\n",
       "    </tr>\n",
       "    <tr>\n",
       "      <th>160105</th>\n",
       "      <td>160105</td>\n",
       "      <td>ronny elliott</td>\n",
       "    </tr>\n",
       "    <tr>\n",
       "      <th>160106</th>\n",
       "      <td>160106</td>\n",
       "      <td>magenta broken</td>\n",
       "    </tr>\n",
       "    <tr>\n",
       "      <th>160107</th>\n",
       "      <td>160107</td>\n",
       "      <td>bound for attack</td>\n",
       "    </tr>\n",
       "    <tr>\n",
       "      <th>160108</th>\n",
       "      <td>160108</td>\n",
       "      <td>sacred buddha</td>\n",
       "    </tr>\n",
       "    <tr>\n",
       "      <th>160109</th>\n",
       "      <td>160109</td>\n",
       "      <td>cat lunette</td>\n",
       "    </tr>\n",
       "  </tbody>\n",
       "</table>\n",
       "<p>160110 rows × 2 columns</p>\n",
       "</div>"
      ],
      "text/plain": [
       "        artist_id           artist_name\n",
       "0               0       betty blowtorch\n",
       "1               1             die Ärzte\n",
       "2               2     melissa etheridge\n",
       "3               3             elvenking\n",
       "4               4  juliette & the licks\n",
       "...           ...                   ...\n",
       "160105     160105         ronny elliott\n",
       "160106     160106        magenta broken\n",
       "160107     160107      bound for attack\n",
       "160108     160108         sacred buddha\n",
       "160109     160109           cat lunette\n",
       "\n",
       "[160110 rows x 2 columns]"
      ]
     },
     "execution_count": 45,
     "metadata": {},
     "output_type": "execute_result"
    }
   ],
   "source": [
    "arts_df"
   ]
  },
  {
   "cell_type": "code",
   "execution_count": 46,
   "metadata": {},
   "outputs": [
    {
     "name": "stderr",
     "output_type": "stream",
     "text": [
      " 10%|████████▎                                                                          | 1/10 [00:11<01:43, 11.47s/it]"
     ]
    },
    {
     "name": "stdout",
     "output_type": "stream",
     "text": [
      "epoch : 1 | acc : 56.068%\n"
     ]
    },
    {
     "name": "stderr",
     "output_type": "stream",
     "text": [
      "\r",
      " 20%|████████████████▌                                                                  | 2/10 [00:22<01:31, 11.46s/it]"
     ]
    },
    {
     "name": "stdout",
     "output_type": "stream",
     "text": [
      "epoch : 2 | acc : 65.049%\n"
     ]
    },
    {
     "name": "stderr",
     "output_type": "stream",
     "text": [
      " 20%|████████████████▌                                                                  | 2/10 [00:32<02:09, 16.24s/it]\n"
     ]
    },
    {
     "ename": "KeyboardInterrupt",
     "evalue": "",
     "output_type": "error",
     "traceback": [
      "\u001b[1;31m---------------------------------------------------------------------------\u001b[0m",
      "\u001b[1;31mKeyboardInterrupt\u001b[0m                         Traceback (most recent call last)",
      "\u001b[1;32m<ipython-input-46-b9769490487b>\u001b[0m in \u001b[0;36m<module>\u001b[1;34m\u001b[0m\n\u001b[0;32m     27\u001b[0m \u001b[1;33m\u001b[0m\u001b[0m\n\u001b[0;32m     28\u001b[0m         \u001b[1;31m#사용자가 들어본 적 없는 아티스트 중 랜덤으로 1개 샘플링, 해당 아티스트의 임베딩 벡터 가져오기\u001b[0m\u001b[1;33m\u001b[0m\u001b[1;33m\u001b[0m\u001b[1;33m\u001b[0m\u001b[0m\n\u001b[1;32m---> 29\u001b[1;33m         \u001b[0mnotin_plays\u001b[0m \u001b[1;33m=\u001b[0m \u001b[0mall_arts\u001b[0m \u001b[1;33m-\u001b[0m \u001b[0min_plays\u001b[0m\u001b[1;33m[\u001b[0m\u001b[0muser\u001b[0m\u001b[1;33m]\u001b[0m\u001b[1;33m\u001b[0m\u001b[1;33m\u001b[0m\u001b[0m\n\u001b[0m\u001b[0;32m     30\u001b[0m         \u001b[0mneg_art\u001b[0m \u001b[1;33m=\u001b[0m \u001b[0mrandom\u001b[0m\u001b[1;33m.\u001b[0m\u001b[0mchoice\u001b[0m\u001b[1;33m(\u001b[0m\u001b[0mlist\u001b[0m\u001b[1;33m(\u001b[0m\u001b[0mnotin_plays\u001b[0m\u001b[1;33m)\u001b[0m\u001b[1;33m)\u001b[0m\u001b[1;33m\u001b[0m\u001b[1;33m\u001b[0m\u001b[0m\n\u001b[0;32m     31\u001b[0m         \u001b[0mneg_art_emb\u001b[0m \u001b[1;33m=\u001b[0m \u001b[0mart_embs\u001b[0m\u001b[1;33m[\u001b[0m\u001b[0mneg_art\u001b[0m\u001b[1;33m]\u001b[0m\u001b[1;33m\u001b[0m\u001b[1;33m\u001b[0m\u001b[0m\n",
      "\u001b[1;31mKeyboardInterrupt\u001b[0m: "
     ]
    }
   ],
   "source": [
    "n_facts = 10 # 임베딩 변수의 갯수\n",
    "\n",
    "user_embs = np.random.normal(size=(len(users_df), n_facts))\n",
    "art_embs = np.random.normal(size=(len(arts_df), n_facts))\n",
    "bias_embs = np.random.normal(size=(len(arts_df), ))\n",
    "\n",
    "def sig(x):\n",
    "    return 1 / (1 + np.exp(-x))\n",
    "\n",
    "lr = 2\n",
    "reg = 0.01 # 정규화\n",
    "n_epochs = 10 # 총 학습 수\n",
    "\n",
    "hist = []\n",
    "for epoch in tqdm(range(1, n_epochs+1)):\n",
    "    history = []\n",
    "    for c, (idx, row) in enumerate(top100.iterrows()):\n",
    "        # 각 행에 대한 n회차의 학습\n",
    "        \n",
    "        user = row[\"user_id\"]\n",
    "        user_emb = user_embs[user]\n",
    "        \n",
    "        # 사용자가 들어본 적 있는 아티스트에 대해서 해당 아티스트의 임베딩 벡터 가져오기\n",
    "        pos_art = row[\"artist_id\"]\n",
    "        pos_art_emb = art_embs[pos_art]\n",
    "        pos_bias = bias_embs[pos_art]\n",
    "        \n",
    "        #사용자가 들어본 적 없는 아티스트 중 랜덤으로 1개 샘플링, 해당 아티스트의 임베딩 벡터 가져오기\n",
    "        notin_plays = all_arts - in_plays[user]\n",
    "        neg_art = random.choice(list(notin_plays))\n",
    "        neg_art_emb = art_embs[neg_art]\n",
    "        neg_bias = bias_embs[neg_art]\n",
    "        \n",
    "        pos_score = np.dot(user_emb, pos_art_emb) + pos_bias\n",
    "        neg_score = np.dot(user_emb, neg_art_emb) + neg_bias\n",
    "        \n",
    "        diff = pos_score - neg_score\n",
    "        loss = sig(diff)\n",
    "        \n",
    "        user_embs[user] -= lr*(loss*(loss-1)*(pos_art_emb-neg_art_emb) - reg*user_emb)\n",
    "        art_embs[pos_art] -= lr*(loss*(loss-1)*user_emb - reg*pos_art_emb)\n",
    "        art_embs[neg_art] -= lr*(-loss*(loss-1)*user_emb - reg*neg_art_emb)\n",
    "        \n",
    "        bias_embs[pos_art] -= lr*(loss*(loss-1) - reg*pos_bias)\n",
    "        bias_embs[neg_art] -= lr*(-loss*(loss-1) - reg*neg_bias)\n",
    "        \n",
    "        correct = (loss>=0.5)\n",
    "        hist.append(correct)\n",
    "    acc = sum(hist)/len(hist)\n",
    "    print(f\"epoch : {epoch} | acc : {acc:2.3%}\")"
   ]
  },
  {
   "cell_type": "markdown",
   "metadata": {},
   "source": [
    "- user_emb = [u1, u2, ...]\n",
    "- pos_art_emb = [p1, p2, ...]\n",
    "- neg_art_emb = [n1, n2, ...]\n",
    "- pos_bias = [b1, b2, ...]\n",
    "- neg_bias = [b1', b2', ...]\n",
    "라 하면\n",
    "\n",
    "- diff = [u1(p1-n1)+(b1-b1'), u2(p2-n2)+(b2-b2'), ...]\n",
    "- d(loss)/d(user_emb) = d(loss)/d(diff) * d(diff)/d(user_emb) = loss(1-loss) * (pos_art_emb-neg_art_emb)"
   ]
  },
  {
   "cell_type": "markdown",
   "metadata": {},
   "source": [
    "### K-Core Pruning\n",
    "- 모든 유저의 재생 횟수 데이터를 이용해서 추천 시스템을 만든다고 좋은 것은 아닙니다. 2명에서 3명의 아티스트만 고집해서 듣는 유저와, 2명에서 3명의 유저만이 듣는 아티스트의 재생 정보는 Matrix Factorization을 통해 올바르게 임베딩을 하기 어렵습니다. 이렇게 적은 정보를 가진 유저와 아티스트들은 특정 값으로 편향될 우려가 있기 때문에, 모델의 학습이 일반화되지 못할 우려가 있습니다. 따라서 적절한 기준을 가지고 편향을 발생시킬 우려가 있는 샘플은 제거해야 합니다.\n",
    "- 이때 사용할 수 있는 샘플링 방법 중 하나가 K-core Pruning 기법입니다. K-core Pruning은 K개 이상의 데이터가 보장된 샘플들만 추출하는 샘플링 기법입니다.\n",
    "- Last.fm 데이터에 적용한다면, K명 이상의 유저가 들은 아티스트만 남기고, K명 이상의 아티스트의 음악을 들은 유저만 남기는 것이죠.\n"
   ]
  },
  {
   "cell_type": "code",
   "execution_count": 47,
   "metadata": {},
   "outputs": [
    {
     "data": {
      "text/html": [
       "<div>\n",
       "<style scoped>\n",
       "    .dataframe tbody tr th:only-of-type {\n",
       "        vertical-align: middle;\n",
       "    }\n",
       "\n",
       "    .dataframe tbody tr th {\n",
       "        vertical-align: top;\n",
       "    }\n",
       "\n",
       "    .dataframe thead th {\n",
       "        text-align: right;\n",
       "    }\n",
       "</style>\n",
       "<table border=\"1\" class=\"dataframe\">\n",
       "  <thead>\n",
       "    <tr style=\"text-align: right;\">\n",
       "      <th></th>\n",
       "      <th>user_id</th>\n",
       "      <th>artist_id</th>\n",
       "      <th>plays</th>\n",
       "    </tr>\n",
       "  </thead>\n",
       "  <tbody>\n",
       "    <tr>\n",
       "      <th>0</th>\n",
       "      <td>0</td>\n",
       "      <td>0</td>\n",
       "      <td>2137</td>\n",
       "    </tr>\n",
       "    <tr>\n",
       "      <th>1</th>\n",
       "      <td>0</td>\n",
       "      <td>1</td>\n",
       "      <td>1099</td>\n",
       "    </tr>\n",
       "    <tr>\n",
       "      <th>2</th>\n",
       "      <td>0</td>\n",
       "      <td>2</td>\n",
       "      <td>897</td>\n",
       "    </tr>\n",
       "    <tr>\n",
       "      <th>3</th>\n",
       "      <td>0</td>\n",
       "      <td>3</td>\n",
       "      <td>717</td>\n",
       "    </tr>\n",
       "    <tr>\n",
       "      <th>4</th>\n",
       "      <td>0</td>\n",
       "      <td>4</td>\n",
       "      <td>706</td>\n",
       "    </tr>\n",
       "    <tr>\n",
       "      <th>...</th>\n",
       "      <td>...</td>\n",
       "      <td>...</td>\n",
       "      <td>...</td>\n",
       "    </tr>\n",
       "    <tr>\n",
       "      <th>17302618</th>\n",
       "      <td>359346</td>\n",
       "      <td>193</td>\n",
       "      <td>61</td>\n",
       "    </tr>\n",
       "    <tr>\n",
       "      <th>17302619</th>\n",
       "      <td>359346</td>\n",
       "      <td>9965</td>\n",
       "      <td>61</td>\n",
       "    </tr>\n",
       "    <tr>\n",
       "      <th>17302620</th>\n",
       "      <td>359346</td>\n",
       "      <td>1549</td>\n",
       "      <td>59</td>\n",
       "    </tr>\n",
       "    <tr>\n",
       "      <th>17302621</th>\n",
       "      <td>359346</td>\n",
       "      <td>806</td>\n",
       "      <td>58</td>\n",
       "    </tr>\n",
       "    <tr>\n",
       "      <th>17302622</th>\n",
       "      <td>359346</td>\n",
       "      <td>177</td>\n",
       "      <td>57</td>\n",
       "    </tr>\n",
       "  </tbody>\n",
       "</table>\n",
       "<p>17302623 rows × 3 columns</p>\n",
       "</div>"
      ],
      "text/plain": [
       "          user_id  artist_id  plays\n",
       "0               0          0   2137\n",
       "1               0          1   1099\n",
       "2               0          2    897\n",
       "3               0          3    717\n",
       "4               0          4    706\n",
       "...           ...        ...    ...\n",
       "17302618   359346        193     61\n",
       "17302619   359346       9965     61\n",
       "17302620   359346       1549     59\n",
       "17302621   359346        806     58\n",
       "17302622   359346        177     57\n",
       "\n",
       "[17302623 rows x 3 columns]"
      ]
     },
     "execution_count": 47,
     "metadata": {},
     "output_type": "execute_result"
    }
   ],
   "source": [
    "plays_df"
   ]
  },
  {
   "cell_type": "code",
   "execution_count": 48,
   "metadata": {},
   "outputs": [
    {
     "name": "stdout",
     "output_type": "stream",
     "text": [
      "len(likes_df) : 15,494,436\n",
      "len(likes_df) : 15,306,742\n",
      "len(likes_df) : 15,305,394\n",
      "len(likes_df) : 15,305,294\n",
      "finished!\n"
     ]
    }
   ],
   "source": [
    "#어떤 사용자가 어떤 아티스트의 음악을 재생한 횟수가 특정 값 이상인 경우에만 그 아티스트의 음악을 좋아한다고 가정합니다.\n",
    "#여기서는 그 특정 값을 사용자 및 아티스트별 재생 횟수의 전체 하위 10퍼센트로 합니다. \n",
    "likes_df = plays_df[plays_df[\"plays\"]>plays_df[\"plays\"].quantile(0.1)]\n",
    "\n",
    "thrsd = 5\n",
    "cnt = 0\n",
    "while True:\n",
    "    cnt += 1\n",
    "    len_before = len(likes_df)\n",
    "    print(f\"len(likes_df) : {len(likes_df):,}\")\n",
    "    #thrsd 이상의 아티스트의 음악을 들은 사용자들의 리스트\n",
    "    n_arts_per_user = likes_df[\"user_id\"].value_counts()\n",
    "    exec(f\"users_over{thrsd}arts = n_arts_per_user[n_arts_per_user>thrsd].index\")\n",
    "\n",
    "    #thrsd 이상의 사용자를 확보한 아티스트들의 리스트\n",
    "    n_users_per_art = likes_df[\"artist_id\"].value_counts()\n",
    "    exec(f\"arts_over{thrsd}users = n_users_per_art[n_users_per_art>thrsd].index\")\n",
    "\n",
    "    likes_df = likes_df[(likes_df[\"user_id\"].isin(eval(f\"users_over{thrsd}arts\")) & likes_df[\"artist_id\"].isin(eval(f\"arts_over{thrsd}users\")))]\n",
    "    len_after = len(likes_df)\n",
    "    #더 이상 갯수의 변화가 없으면 종료합니다.\n",
    "    if len_after == len_before:\n",
    "        break\n",
    "print(\"finished!\")"
   ]
  },
  {
   "cell_type": "code",
   "execution_count": 49,
   "metadata": {},
   "outputs": [
    {
     "name": "stdout",
     "output_type": "stream",
     "text": [
      "사용자 수의 변화 : 358,856 -> 342,852(95.5%)\n",
      "아티스트 수의 변화 : 160,110 -> 73,556(45.9%)\n"
     ]
    }
   ],
   "source": [
    "all_users = list(set(plays_df[\"user_id\"]))\n",
    "users_likes_df = list(set(likes_df[\"user_id\"]))\n",
    "\n",
    "print(f\"사용자 수의 변화 : {len(all_users):,} -> {len(users_likes_df):,}({len(users_likes_df)/len(all_users):.1%})\")\n",
    "\n",
    "all_arts = list(set(plays_df[\"artist_id\"]))\n",
    "arts_likes_df = list(set(likes_df[\"artist_id\"]))\n",
    "\n",
    "print(f\"아티스트 수의 변화 : {len(all_arts):,} -> {len(arts_likes_df):,}({len(arts_likes_df)/len(all_arts):.1%})\")"
   ]
  },
  {
   "cell_type": "markdown",
   "metadata": {},
   "source": [
    "- likes_df에 포함되지 않은 사용자와 아티스트는 추천 시스템을 만들기 위한 Matrix Factorization 대상에서 제외됩니다.\n",
    "- 이처럼 초기 정보가 부족해서 추천 시스템을 제공하지 못하는 사용자와 아티스트가 발생하는 문제를 Cold Start라 합니다.\n",
    "- 이러한 사용자 또는 아티스트에게는 다른 추천 시스템을 제공해야 합니다."
   ]
  },
  {
   "cell_type": "markdown",
   "metadata": {},
   "source": [
    "### Convert User-Item Matrix of Dense Matrix to Sparse Matrix\n",
    "- sparse representation으로 표현된 dense matrix를 그대로 ndarray로 변환하면 메모리의 낭비가 극심하므로 sparse matrix로 변환하는 것이 필요합니다.\n",
    "- scipy.sparse의 csr_matrix는 데이터와 인덱스를 따로 저장함으로써 그것을 실현하는 방법입니다."
   ]
  },
  {
   "cell_type": "code",
   "execution_count": 50,
   "metadata": {},
   "outputs": [],
   "source": [
    "#example\n",
    "vals = [2, 4, 3, 4, 1, 1, 2]\n",
    "rows = [0, 1, 2, 2, 3, 4, 4]\n",
    "cols = [0, 2, 5, 6, 14, 0, 1]\n",
    "\n",
    "sparse_mat = csr_matrix((vals,  (rows,  cols)))"
   ]
  },
  {
   "cell_type": "code",
   "execution_count": 51,
   "metadata": {},
   "outputs": [
    {
     "data": {
      "text/plain": [
       "matrix([[2, 0, 0, 0, 0, 0, 0, 0, 0, 0, 0, 0, 0, 0, 0],\n",
       "        [0, 0, 4, 0, 0, 0, 0, 0, 0, 0, 0, 0, 0, 0, 0],\n",
       "        [0, 0, 0, 0, 0, 3, 4, 0, 0, 0, 0, 0, 0, 0, 0],\n",
       "        [0, 0, 0, 0, 0, 0, 0, 0, 0, 0, 0, 0, 0, 0, 1],\n",
       "        [1, 2, 0, 0, 0, 0, 0, 0, 0, 0, 0, 0, 0, 0, 0]], dtype=int32)"
      ]
     },
     "execution_count": 51,
     "metadata": {},
     "output_type": "execute_result"
    }
   ],
   "source": [
    "sparse_mat.todense()"
   ]
  },
  {
   "cell_type": "code",
   "execution_count": 52,
   "metadata": {},
   "outputs": [
    {
     "data": {
      "text/html": [
       "<div>\n",
       "<style scoped>\n",
       "    .dataframe tbody tr th:only-of-type {\n",
       "        vertical-align: middle;\n",
       "    }\n",
       "\n",
       "    .dataframe tbody tr th {\n",
       "        vertical-align: top;\n",
       "    }\n",
       "\n",
       "    .dataframe thead th {\n",
       "        text-align: right;\n",
       "    }\n",
       "</style>\n",
       "<table border=\"1\" class=\"dataframe\">\n",
       "  <thead>\n",
       "    <tr style=\"text-align: right;\">\n",
       "      <th></th>\n",
       "      <th>user_id</th>\n",
       "      <th>artist_id</th>\n",
       "      <th>plays</th>\n",
       "    </tr>\n",
       "  </thead>\n",
       "  <tbody>\n",
       "    <tr>\n",
       "      <th>0</th>\n",
       "      <td>0</td>\n",
       "      <td>0</td>\n",
       "      <td>2137</td>\n",
       "    </tr>\n",
       "    <tr>\n",
       "      <th>1</th>\n",
       "      <td>0</td>\n",
       "      <td>1</td>\n",
       "      <td>1099</td>\n",
       "    </tr>\n",
       "    <tr>\n",
       "      <th>2</th>\n",
       "      <td>0</td>\n",
       "      <td>2</td>\n",
       "      <td>897</td>\n",
       "    </tr>\n",
       "    <tr>\n",
       "      <th>3</th>\n",
       "      <td>0</td>\n",
       "      <td>3</td>\n",
       "      <td>717</td>\n",
       "    </tr>\n",
       "    <tr>\n",
       "      <th>4</th>\n",
       "      <td>0</td>\n",
       "      <td>4</td>\n",
       "      <td>706</td>\n",
       "    </tr>\n",
       "    <tr>\n",
       "      <th>...</th>\n",
       "      <td>...</td>\n",
       "      <td>...</td>\n",
       "      <td>...</td>\n",
       "    </tr>\n",
       "    <tr>\n",
       "      <th>17302618</th>\n",
       "      <td>359346</td>\n",
       "      <td>193</td>\n",
       "      <td>61</td>\n",
       "    </tr>\n",
       "    <tr>\n",
       "      <th>17302619</th>\n",
       "      <td>359346</td>\n",
       "      <td>9965</td>\n",
       "      <td>61</td>\n",
       "    </tr>\n",
       "    <tr>\n",
       "      <th>17302620</th>\n",
       "      <td>359346</td>\n",
       "      <td>1549</td>\n",
       "      <td>59</td>\n",
       "    </tr>\n",
       "    <tr>\n",
       "      <th>17302621</th>\n",
       "      <td>359346</td>\n",
       "      <td>806</td>\n",
       "      <td>58</td>\n",
       "    </tr>\n",
       "    <tr>\n",
       "      <th>17302622</th>\n",
       "      <td>359346</td>\n",
       "      <td>177</td>\n",
       "      <td>57</td>\n",
       "    </tr>\n",
       "  </tbody>\n",
       "</table>\n",
       "<p>15305294 rows × 3 columns</p>\n",
       "</div>"
      ],
      "text/plain": [
       "          user_id  artist_id  plays\n",
       "0               0          0   2137\n",
       "1               0          1   1099\n",
       "2               0          2    897\n",
       "3               0          3    717\n",
       "4               0          4    706\n",
       "...           ...        ...    ...\n",
       "17302618   359346        193     61\n",
       "17302619   359346       9965     61\n",
       "17302620   359346       1549     59\n",
       "17302621   359346        806     58\n",
       "17302622   359346        177     57\n",
       "\n",
       "[15305294 rows x 3 columns]"
      ]
     },
     "execution_count": 52,
     "metadata": {},
     "output_type": "execute_result"
    }
   ],
   "source": [
    "likes_df"
   ]
  },
  {
   "cell_type": "code",
   "execution_count": 53,
   "metadata": {},
   "outputs": [],
   "source": [
    "#user_id와 artist_id의 dtype을 category로 변환합니다.\n",
    "likes_df[\"user_id\"] = pd.Categorical(likes_df[\"user_id\"])\n",
    "likes_df[\"artist_id\"] = pd.Categorical(likes_df[\"artist_id\"])\n",
    "\n",
    "#변환된 각 값의 0부터 새롭게 부여된 index를 rows, cols로 정의합니다.\n",
    "vals = likes_df[\"plays\"]\n",
    "rows = likes_df[\"artist_id\"].cat.codes.values\n",
    "cols = likes_df[\"user_id\"].cat.codes.values\n",
    "\n",
    "inputs = csr_matrix((vals, (rows, cols)))"
   ]
  },
  {
   "cell_type": "code",
   "execution_count": 54,
   "metadata": {},
   "outputs": [
    {
     "name": "stdout",
     "output_type": "stream",
     "text": [
      "inputs.todense() : 187.89GB\n",
      "inputs : 0.11GB\n"
     ]
    }
   ],
   "source": [
    "print(f\"inputs.todense() : {inputs.shape[0]*inputs.shape[1]*8/2**30:,.2f}GB\")\n",
    "print(f\"inputs : {inputs.data.nbytes/2**30:,.2f}GB\")"
   ]
  },
  {
   "cell_type": "markdown",
   "metadata": {},
   "source": [
    "## implicit libarary BRP 구현하기\n",
    "\n",
    "- implicit은 파이썬으로 implicit data를 이용한 협업 필터링 추천 시스템을 만들 때 사용하는 패키지로, 앞서 의사코드로 작성한 코드보다 최적화가 되어있기 때문에 빠릅니다.\n",
    "- 설치\n",
    "````shell\n",
    "pip install implicit\n",
    "conda install -c conda-forge implicit\n",
    "````"
   ]
  },
  {
   "cell_type": "code",
   "execution_count": 57,
   "metadata": {},
   "outputs": [],
   "source": [
    "#model을 .pk로 저장한 파일이 있으면 불러오고 없으면 저장합니다.\n",
    "file = \"implicit_bpr_model.pk\"\n",
    "if os.path.exists(file):\n",
    "    with open(file, \"rb\") as f:\n",
    "        model = pk.load(f)\n",
    "else:\n",
    "    with open(file, \"wb\") as f:\n",
    "        model = BPR(factors=60)\n",
    "        \n",
    "        model.fit(inputs)\n",
    "        \n",
    "        pk.dump(model, f)"
   ]
  },
  {
   "cell_type": "code",
   "execution_count": 58,
   "metadata": {},
   "outputs": [],
   "source": [
    "user_embs = model.user_factors\n",
    "art_embs = model.item_factors"
   ]
  },
  {
   "cell_type": "code",
   "execution_count": 59,
   "metadata": {},
   "outputs": [
    {
     "data": {
      "text/plain": [
       "(73556, 61)"
      ]
     },
     "execution_count": 59,
     "metadata": {},
     "output_type": "execute_result"
    }
   ],
   "source": [
    "#embedding vector에는 마지막에 bias가 하나씩 붙어서 크기가 factors+1이 됩니다.\n",
    "art_embs.shape"
   ]
  },
  {
   "cell_type": "code",
   "execution_count": 60,
   "metadata": {},
   "outputs": [
    {
     "data": {
      "text/plain": [
       "array([[ 0.109,  0.252,  0.289, ..., -0.027, -0.131, -0.165],\n",
       "       [ 0.23 , -0.086,  0.038, ...,  0.386, -0.514,  0.009],\n",
       "       [-0.407,  0.111,  0.226, ..., -0.561, -0.285, -0.069],\n",
       "       ...,\n",
       "       [-0.119,  0.02 , -0.179, ..., -0.111,  0.103,  0.299],\n",
       "       [-0.079,  0.099, -0.081, ...,  0.073,  0.204,  0.294],\n",
       "       [-0.073,  0.054, -0.045, ..., -0.156, -0.05 ,  0.413]],\n",
       "      dtype=float32)"
      ]
     },
     "execution_count": 60,
     "metadata": {},
     "output_type": "execute_result"
    }
   ],
   "source": [
    "art_embs"
   ]
  },
  {
   "cell_type": "markdown",
   "metadata": {},
   "source": [
    "좀 더 가독성을 높이기 위해서 각 임베딩 행 별로 아티스트의 이름과 유저의 id를 매칭시켜 데이터프레임(dataframe)을 구성하도록 하겠습니다."
   ]
  },
  {
   "cell_type": "code",
   "execution_count": 61,
   "metadata": {},
   "outputs": [],
   "source": [
    "art_id2name = {key:value for key, value in zip(arts_df[\"artist_id\"], arts_df[\"artist_name\"])}\n",
    "idxes = [art_id2name[art_id] for art_id in likes_df[\"artist_id\"].cat.categories]\n",
    "\n",
    "art_embs_df = pd.DataFrame(art_embs, index=idxes)"
   ]
  },
  {
   "cell_type": "code",
   "execution_count": 62,
   "metadata": {},
   "outputs": [
    {
     "data": {
      "text/html": [
       "<div>\n",
       "<style scoped>\n",
       "    .dataframe tbody tr th:only-of-type {\n",
       "        vertical-align: middle;\n",
       "    }\n",
       "\n",
       "    .dataframe tbody tr th {\n",
       "        vertical-align: top;\n",
       "    }\n",
       "\n",
       "    .dataframe thead th {\n",
       "        text-align: right;\n",
       "    }\n",
       "</style>\n",
       "<table border=\"1\" class=\"dataframe\">\n",
       "  <thead>\n",
       "    <tr style=\"text-align: right;\">\n",
       "      <th></th>\n",
       "      <th>0</th>\n",
       "      <th>1</th>\n",
       "      <th>2</th>\n",
       "      <th>3</th>\n",
       "      <th>4</th>\n",
       "      <th>5</th>\n",
       "      <th>6</th>\n",
       "      <th>7</th>\n",
       "      <th>8</th>\n",
       "      <th>9</th>\n",
       "      <th>...</th>\n",
       "      <th>51</th>\n",
       "      <th>52</th>\n",
       "      <th>53</th>\n",
       "      <th>54</th>\n",
       "      <th>55</th>\n",
       "      <th>56</th>\n",
       "      <th>57</th>\n",
       "      <th>58</th>\n",
       "      <th>59</th>\n",
       "      <th>60</th>\n",
       "    </tr>\n",
       "  </thead>\n",
       "  <tbody>\n",
       "    <tr>\n",
       "      <th>huevos rancheros</th>\n",
       "      <td>-0.128699</td>\n",
       "      <td>0.311649</td>\n",
       "      <td>-0.374715</td>\n",
       "      <td>-0.355780</td>\n",
       "      <td>-0.063657</td>\n",
       "      <td>-0.185944</td>\n",
       "      <td>-0.444533</td>\n",
       "      <td>0.127571</td>\n",
       "      <td>-0.222756</td>\n",
       "      <td>0.366999</td>\n",
       "      <td>...</td>\n",
       "      <td>-0.396194</td>\n",
       "      <td>-0.208720</td>\n",
       "      <td>0.115938</td>\n",
       "      <td>-0.096317</td>\n",
       "      <td>0.536716</td>\n",
       "      <td>-0.277599</td>\n",
       "      <td>0.151901</td>\n",
       "      <td>-0.319879</td>\n",
       "      <td>0.438018</td>\n",
       "      <td>0.297204</td>\n",
       "    </tr>\n",
       "    <tr>\n",
       "      <th>drop alive</th>\n",
       "      <td>-0.093337</td>\n",
       "      <td>0.066834</td>\n",
       "      <td>0.009173</td>\n",
       "      <td>-0.031366</td>\n",
       "      <td>0.184667</td>\n",
       "      <td>-0.042522</td>\n",
       "      <td>-0.300300</td>\n",
       "      <td>0.006049</td>\n",
       "      <td>-0.204772</td>\n",
       "      <td>0.033760</td>\n",
       "      <td>...</td>\n",
       "      <td>-0.030654</td>\n",
       "      <td>0.182847</td>\n",
       "      <td>0.026871</td>\n",
       "      <td>-0.042572</td>\n",
       "      <td>-0.066415</td>\n",
       "      <td>0.003014</td>\n",
       "      <td>-0.082323</td>\n",
       "      <td>-0.061317</td>\n",
       "      <td>0.151675</td>\n",
       "      <td>0.570283</td>\n",
       "    </tr>\n",
       "    <tr>\n",
       "      <th>lobo</th>\n",
       "      <td>-0.379092</td>\n",
       "      <td>-0.125619</td>\n",
       "      <td>-0.367632</td>\n",
       "      <td>-0.263959</td>\n",
       "      <td>0.063918</td>\n",
       "      <td>-0.146741</td>\n",
       "      <td>-0.314746</td>\n",
       "      <td>-0.025037</td>\n",
       "      <td>0.277174</td>\n",
       "      <td>-0.096047</td>\n",
       "      <td>...</td>\n",
       "      <td>0.284975</td>\n",
       "      <td>0.053466</td>\n",
       "      <td>0.319176</td>\n",
       "      <td>0.151117</td>\n",
       "      <td>-0.236929</td>\n",
       "      <td>0.049413</td>\n",
       "      <td>0.194379</td>\n",
       "      <td>-0.404312</td>\n",
       "      <td>-0.021392</td>\n",
       "      <td>-0.150015</td>\n",
       "    </tr>\n",
       "    <tr>\n",
       "      <th>füsun Önal</th>\n",
       "      <td>-0.066290</td>\n",
       "      <td>-0.231581</td>\n",
       "      <td>0.184301</td>\n",
       "      <td>0.126819</td>\n",
       "      <td>0.202142</td>\n",
       "      <td>-0.142408</td>\n",
       "      <td>-0.176541</td>\n",
       "      <td>0.273579</td>\n",
       "      <td>0.331233</td>\n",
       "      <td>-0.221754</td>\n",
       "      <td>...</td>\n",
       "      <td>-0.063479</td>\n",
       "      <td>0.266539</td>\n",
       "      <td>0.130209</td>\n",
       "      <td>-0.209151</td>\n",
       "      <td>-0.404720</td>\n",
       "      <td>0.030549</td>\n",
       "      <td>-0.081505</td>\n",
       "      <td>-0.487093</td>\n",
       "      <td>0.007383</td>\n",
       "      <td>0.192278</td>\n",
       "    </tr>\n",
       "    <tr>\n",
       "      <th>steve allen</th>\n",
       "      <td>-0.142022</td>\n",
       "      <td>0.073846</td>\n",
       "      <td>-0.221967</td>\n",
       "      <td>-0.313085</td>\n",
       "      <td>0.251768</td>\n",
       "      <td>-0.279772</td>\n",
       "      <td>-0.283878</td>\n",
       "      <td>0.179852</td>\n",
       "      <td>0.375138</td>\n",
       "      <td>-0.012432</td>\n",
       "      <td>...</td>\n",
       "      <td>-0.025183</td>\n",
       "      <td>-0.086294</td>\n",
       "      <td>0.316019</td>\n",
       "      <td>-0.001279</td>\n",
       "      <td>-0.159714</td>\n",
       "      <td>0.014732</td>\n",
       "      <td>-0.244191</td>\n",
       "      <td>-0.106353</td>\n",
       "      <td>0.146192</td>\n",
       "      <td>0.506568</td>\n",
       "    </tr>\n",
       "  </tbody>\n",
       "</table>\n",
       "<p>5 rows × 61 columns</p>\n",
       "</div>"
      ],
      "text/plain": [
       "                        0         1         2         3         4         5   \\\n",
       "huevos rancheros -0.128699  0.311649 -0.374715 -0.355780 -0.063657 -0.185944   \n",
       "drop alive       -0.093337  0.066834  0.009173 -0.031366  0.184667 -0.042522   \n",
       "lobo             -0.379092 -0.125619 -0.367632 -0.263959  0.063918 -0.146741   \n",
       "füsun Önal       -0.066290 -0.231581  0.184301  0.126819  0.202142 -0.142408   \n",
       "steve allen      -0.142022  0.073846 -0.221967 -0.313085  0.251768 -0.279772   \n",
       "\n",
       "                        6         7         8         9   ...        51  \\\n",
       "huevos rancheros -0.444533  0.127571 -0.222756  0.366999  ... -0.396194   \n",
       "drop alive       -0.300300  0.006049 -0.204772  0.033760  ... -0.030654   \n",
       "lobo             -0.314746 -0.025037  0.277174 -0.096047  ...  0.284975   \n",
       "füsun Önal       -0.176541  0.273579  0.331233 -0.221754  ... -0.063479   \n",
       "steve allen      -0.283878  0.179852  0.375138 -0.012432  ... -0.025183   \n",
       "\n",
       "                        52        53        54        55        56        57  \\\n",
       "huevos rancheros -0.208720  0.115938 -0.096317  0.536716 -0.277599  0.151901   \n",
       "drop alive        0.182847  0.026871 -0.042572 -0.066415  0.003014 -0.082323   \n",
       "lobo              0.053466  0.319176  0.151117 -0.236929  0.049413  0.194379   \n",
       "füsun Önal        0.266539  0.130209 -0.209151 -0.404720  0.030549 -0.081505   \n",
       "steve allen      -0.086294  0.316019 -0.001279 -0.159714  0.014732 -0.244191   \n",
       "\n",
       "                        58        59        60  \n",
       "huevos rancheros -0.319879  0.438018  0.297204  \n",
       "drop alive       -0.061317  0.151675  0.570283  \n",
       "lobo             -0.404312 -0.021392 -0.150015  \n",
       "füsun Önal       -0.487093  0.007383  0.192278  \n",
       "steve allen      -0.106353  0.146192  0.506568  \n",
       "\n",
       "[5 rows x 61 columns]"
      ]
     },
     "execution_count": 62,
     "metadata": {},
     "output_type": "execute_result"
    }
   ],
   "source": [
    "art_embs_df.sample(5)"
   ]
  },
  {
   "cell_type": "code",
   "execution_count": 63,
   "metadata": {},
   "outputs": [],
   "source": [
    "user_embs_df = pd.DataFrame(user_embs, index=likes_df[\"user_id\"].cat.categories)"
   ]
  },
  {
   "cell_type": "code",
   "execution_count": 64,
   "metadata": {},
   "outputs": [
    {
     "data": {
      "text/html": [
       "<div>\n",
       "<style scoped>\n",
       "    .dataframe tbody tr th:only-of-type {\n",
       "        vertical-align: middle;\n",
       "    }\n",
       "\n",
       "    .dataframe tbody tr th {\n",
       "        vertical-align: top;\n",
       "    }\n",
       "\n",
       "    .dataframe thead th {\n",
       "        text-align: right;\n",
       "    }\n",
       "</style>\n",
       "<table border=\"1\" class=\"dataframe\">\n",
       "  <thead>\n",
       "    <tr style=\"text-align: right;\">\n",
       "      <th></th>\n",
       "      <th>0</th>\n",
       "      <th>1</th>\n",
       "      <th>2</th>\n",
       "      <th>3</th>\n",
       "      <th>4</th>\n",
       "      <th>5</th>\n",
       "      <th>6</th>\n",
       "      <th>7</th>\n",
       "      <th>8</th>\n",
       "      <th>9</th>\n",
       "      <th>...</th>\n",
       "      <th>51</th>\n",
       "      <th>52</th>\n",
       "      <th>53</th>\n",
       "      <th>54</th>\n",
       "      <th>55</th>\n",
       "      <th>56</th>\n",
       "      <th>57</th>\n",
       "      <th>58</th>\n",
       "      <th>59</th>\n",
       "      <th>60</th>\n",
       "    </tr>\n",
       "  </thead>\n",
       "  <tbody>\n",
       "    <tr>\n",
       "      <th>293753</th>\n",
       "      <td>0.183880</td>\n",
       "      <td>-0.123787</td>\n",
       "      <td>0.131343</td>\n",
       "      <td>-0.242225</td>\n",
       "      <td>0.857163</td>\n",
       "      <td>-0.406753</td>\n",
       "      <td>-0.072917</td>\n",
       "      <td>-0.331580</td>\n",
       "      <td>0.196037</td>\n",
       "      <td>-0.186362</td>\n",
       "      <td>...</td>\n",
       "      <td>0.255680</td>\n",
       "      <td>0.308144</td>\n",
       "      <td>0.094511</td>\n",
       "      <td>0.461413</td>\n",
       "      <td>-0.176588</td>\n",
       "      <td>0.199080</td>\n",
       "      <td>-0.161310</td>\n",
       "      <td>0.559454</td>\n",
       "      <td>-0.444640</td>\n",
       "      <td>1.0</td>\n",
       "    </tr>\n",
       "    <tr>\n",
       "      <th>227839</th>\n",
       "      <td>-0.355870</td>\n",
       "      <td>-0.321303</td>\n",
       "      <td>-0.089576</td>\n",
       "      <td>-0.264149</td>\n",
       "      <td>0.232885</td>\n",
       "      <td>0.149644</td>\n",
       "      <td>-0.111460</td>\n",
       "      <td>-0.072513</td>\n",
       "      <td>0.417461</td>\n",
       "      <td>-0.540774</td>\n",
       "      <td>...</td>\n",
       "      <td>0.399392</td>\n",
       "      <td>0.330673</td>\n",
       "      <td>-0.477788</td>\n",
       "      <td>0.146596</td>\n",
       "      <td>-0.177143</td>\n",
       "      <td>0.467442</td>\n",
       "      <td>0.050947</td>\n",
       "      <td>-0.082464</td>\n",
       "      <td>-0.611169</td>\n",
       "      <td>1.0</td>\n",
       "    </tr>\n",
       "    <tr>\n",
       "      <th>19190</th>\n",
       "      <td>0.034988</td>\n",
       "      <td>0.022122</td>\n",
       "      <td>-0.474046</td>\n",
       "      <td>-0.257562</td>\n",
       "      <td>0.260446</td>\n",
       "      <td>-0.172892</td>\n",
       "      <td>-0.065179</td>\n",
       "      <td>0.399391</td>\n",
       "      <td>0.224344</td>\n",
       "      <td>-0.094946</td>\n",
       "      <td>...</td>\n",
       "      <td>-0.137385</td>\n",
       "      <td>-0.093471</td>\n",
       "      <td>0.240009</td>\n",
       "      <td>-0.252805</td>\n",
       "      <td>-0.124705</td>\n",
       "      <td>0.197823</td>\n",
       "      <td>-0.305211</td>\n",
       "      <td>0.128390</td>\n",
       "      <td>0.233130</td>\n",
       "      <td>1.0</td>\n",
       "    </tr>\n",
       "    <tr>\n",
       "      <th>11821</th>\n",
       "      <td>0.175607</td>\n",
       "      <td>-0.025159</td>\n",
       "      <td>0.022882</td>\n",
       "      <td>-0.047607</td>\n",
       "      <td>-0.300889</td>\n",
       "      <td>0.556049</td>\n",
       "      <td>0.182738</td>\n",
       "      <td>-0.138923</td>\n",
       "      <td>0.203091</td>\n",
       "      <td>-0.097054</td>\n",
       "      <td>...</td>\n",
       "      <td>0.416218</td>\n",
       "      <td>-0.200041</td>\n",
       "      <td>-0.418654</td>\n",
       "      <td>0.382311</td>\n",
       "      <td>-0.099579</td>\n",
       "      <td>0.201069</td>\n",
       "      <td>-0.043523</td>\n",
       "      <td>0.202142</td>\n",
       "      <td>-0.166547</td>\n",
       "      <td>1.0</td>\n",
       "    </tr>\n",
       "    <tr>\n",
       "      <th>149175</th>\n",
       "      <td>-0.183554</td>\n",
       "      <td>0.257524</td>\n",
       "      <td>0.112144</td>\n",
       "      <td>0.201169</td>\n",
       "      <td>-0.622288</td>\n",
       "      <td>-0.039700</td>\n",
       "      <td>0.268850</td>\n",
       "      <td>-0.179444</td>\n",
       "      <td>0.267655</td>\n",
       "      <td>-0.159785</td>\n",
       "      <td>...</td>\n",
       "      <td>0.327291</td>\n",
       "      <td>-0.138160</td>\n",
       "      <td>0.151876</td>\n",
       "      <td>0.572370</td>\n",
       "      <td>0.054791</td>\n",
       "      <td>-0.509320</td>\n",
       "      <td>0.318751</td>\n",
       "      <td>-0.462765</td>\n",
       "      <td>0.130175</td>\n",
       "      <td>1.0</td>\n",
       "    </tr>\n",
       "  </tbody>\n",
       "</table>\n",
       "<p>5 rows × 61 columns</p>\n",
       "</div>"
      ],
      "text/plain": [
       "              0         1         2         3         4         5         6   \\\n",
       "293753  0.183880 -0.123787  0.131343 -0.242225  0.857163 -0.406753 -0.072917   \n",
       "227839 -0.355870 -0.321303 -0.089576 -0.264149  0.232885  0.149644 -0.111460   \n",
       "19190   0.034988  0.022122 -0.474046 -0.257562  0.260446 -0.172892 -0.065179   \n",
       "11821   0.175607 -0.025159  0.022882 -0.047607 -0.300889  0.556049  0.182738   \n",
       "149175 -0.183554  0.257524  0.112144  0.201169 -0.622288 -0.039700  0.268850   \n",
       "\n",
       "              7         8         9   ...        51        52        53  \\\n",
       "293753 -0.331580  0.196037 -0.186362  ...  0.255680  0.308144  0.094511   \n",
       "227839 -0.072513  0.417461 -0.540774  ...  0.399392  0.330673 -0.477788   \n",
       "19190   0.399391  0.224344 -0.094946  ... -0.137385 -0.093471  0.240009   \n",
       "11821  -0.138923  0.203091 -0.097054  ...  0.416218 -0.200041 -0.418654   \n",
       "149175 -0.179444  0.267655 -0.159785  ...  0.327291 -0.138160  0.151876   \n",
       "\n",
       "              54        55        56        57        58        59   60  \n",
       "293753  0.461413 -0.176588  0.199080 -0.161310  0.559454 -0.444640  1.0  \n",
       "227839  0.146596 -0.177143  0.467442  0.050947 -0.082464 -0.611169  1.0  \n",
       "19190  -0.252805 -0.124705  0.197823 -0.305211  0.128390  0.233130  1.0  \n",
       "11821   0.382311 -0.099579  0.201069 -0.043523  0.202142 -0.166547  1.0  \n",
       "149175  0.572370  0.054791 -0.509320  0.318751 -0.462765  0.130175  1.0  \n",
       "\n",
       "[5 rows x 61 columns]"
      ]
     },
     "execution_count": 64,
     "metadata": {},
     "output_type": "execute_result"
    }
   ],
   "source": [
    "user_embs_df.sample(5)"
   ]
  },
  {
   "cell_type": "markdown",
   "metadata": {},
   "source": [
    "- user_embs_df와 art_embs_df를 이용해 3가지 추천 알고리즘을 구현할 수 있습니다.\n",
    "    1. 좋아하는 아티스트와 유사한 아티스트 추천\n",
    "    2. 사용자와 유사한 취향을 가진 사용자가 좋아하는 아티스트 추천\n",
    "    3. 사용자의 취향과 유사한 특성을 가진 아티스트 추천"
   ]
  },
  {
   "cell_type": "markdown",
   "metadata": {},
   "source": [
    "### 1. 좋아하는 아티스트와 유사한 아티스트 추천"
   ]
  },
  {
   "cell_type": "code",
   "execution_count": 65,
   "metadata": {},
   "outputs": [],
   "source": [
    "def cos_sim(x, y):\n",
    "    return x.dot(y)/(np.linalg.norm(x, axis=1, ord=2)*np.linalg.norm(y, ord=2))"
   ]
  },
  {
   "cell_type": "code",
   "execution_count": 66,
   "metadata": {},
   "outputs": [
    {
     "data": {
      "text/plain": [
       "rihanna               1.000000\n",
       "fergie                0.959289\n",
       "the pussycat dolls    0.958751\n",
       "beyoncé               0.939941\n",
       "rhianna               0.930461\n",
       "britney spears        0.919116\n",
       "kat deluna            0.917435\n",
       "ashley roberts        0.914866\n",
       "jessie malakouti      0.912610\n",
       "lady gaga             0.907357\n",
       "dtype: float32"
      ]
     },
     "execution_count": 66,
     "metadata": {},
     "output_type": "execute_result"
    }
   ],
   "source": [
    "#리한나와 유사한 아티스트 10명\n",
    "target = art_embs_df.loc[\"rihanna\"].values\n",
    "\n",
    "cos_sim(art_embs_df, target).sort_values(ascending=False)[:10]"
   ]
  },
  {
   "cell_type": "code",
   "execution_count": 67,
   "metadata": {},
   "outputs": [
    {
     "data": {
      "text/plain": [
       "jason mraz                      1.000000\n",
       "gavin degraw                    0.901576\n",
       "joshua radin & schuyler fisk    0.883766\n",
       "matt white band                 0.882751\n",
       "justin nozuka                   0.873454\n",
       "colbie caillat                  0.865914\n",
       "matt white                      0.865277\n",
       "teddy geiger                    0.863368\n",
       "matt white                      0.858855\n",
       "john mayer                      0.854577\n",
       "dtype: float32"
      ]
     },
     "execution_count": 67,
     "metadata": {},
     "output_type": "execute_result"
    }
   ],
   "source": [
    "#제이슨 므라즈와 유사한 아티스트 10명\n",
    "target = art_embs_df.loc[\"jason mraz\"].values\n",
    "\n",
    "cos_sim(art_embs_df, target).sort_values(ascending=False)[:10]"
   ]
  },
  {
   "cell_type": "code",
   "execution_count": 68,
   "metadata": {},
   "outputs": [
    {
     "data": {
      "text/plain": [
       "eminem             1.000000\n",
       "d12                0.912591\n",
       "50 cent            0.881810\n",
       "dmx                0.860071\n",
       "2pac               0.853796\n",
       "ying yang twins    0.827247\n",
       "obie trice         0.818008\n",
       "xzibit             0.812668\n",
       "coolio             0.808042\n",
       "sans pression      0.805561\n",
       "dtype: float32"
      ]
     },
     "execution_count": 68,
     "metadata": {},
     "output_type": "execute_result"
    }
   ],
   "source": [
    "#에미넴과 유사한 아티스트 10명\n",
    "target = art_embs_df.loc[\"eminem\"].values\n",
    "\n",
    "cos_sim(art_embs_df, target).sort_values(ascending=False)[:10]"
   ]
  },
  {
   "cell_type": "markdown",
   "metadata": {},
   "source": [
    "### 2. 사용자와 유사한 취향을 가진 사용자가 좋아하는 아티스트 추천\n",
    "- 유저 취향 임베딩 행렬과 유저의 정보 데이터(연령, 성별 등)를 같이 활용하면, 유저의 특성별(연령대별, 세대별, 성별 등) 음악적 취향이 어떻게 차이가 나는지를 시각화하여 분석할 수 있습니다.\n",
    "- 유저 임베딩 데이터를 이용해 유저군을 분석해봅시다. 임베딩 행렬을 시각화하기 위해서 임베딩 행렬의 차원을 2차원으로 줄이는 작업이 필요합니다. 데이터가 2차원을 넘어가면 시각화가 쉽지 않기 때문입니다. 데이터의 차원을 줄이기 위한 방법 중 하나가 바로 주성분 분석(PCA, Principal Component Analysis)입니다. 주성분 분석은 원본 데이터의 가장 정보를 덜 손상시키는 방향으로 주성분 N개를 추출하여 N개의 차원으로 데이터를 줄여줍니다. PCA는 파이썬의 대표적인 머신러닝 패키지 중 하나인 scikit-learn에서 제공됩니다."
   ]
  },
  {
   "cell_type": "code",
   "execution_count": 69,
   "metadata": {},
   "outputs": [],
   "source": [
    "pca = PCA(n_components=2)\n",
    "pca_mat = pca.fit_transform(user_embs_df)\n",
    "pca_mat_df = pd.DataFrame(pca_mat, index=user_embs_df.index, columns=[\"comp1\", \"comp2\"])"
   ]
  },
  {
   "cell_type": "code",
   "execution_count": 70,
   "metadata": {},
   "outputs": [
    {
     "data": {
      "text/html": [
       "<div>\n",
       "<style scoped>\n",
       "    .dataframe tbody tr th:only-of-type {\n",
       "        vertical-align: middle;\n",
       "    }\n",
       "\n",
       "    .dataframe tbody tr th {\n",
       "        vertical-align: top;\n",
       "    }\n",
       "\n",
       "    .dataframe thead th {\n",
       "        text-align: right;\n",
       "    }\n",
       "</style>\n",
       "<table border=\"1\" class=\"dataframe\">\n",
       "  <thead>\n",
       "    <tr style=\"text-align: right;\">\n",
       "      <th></th>\n",
       "      <th>comp1</th>\n",
       "      <th>comp2</th>\n",
       "    </tr>\n",
       "  </thead>\n",
       "  <tbody>\n",
       "    <tr>\n",
       "      <th>0</th>\n",
       "      <td>0.831985</td>\n",
       "      <td>0.107288</td>\n",
       "    </tr>\n",
       "    <tr>\n",
       "      <th>1</th>\n",
       "      <td>-0.926918</td>\n",
       "      <td>0.078855</td>\n",
       "    </tr>\n",
       "    <tr>\n",
       "      <th>2</th>\n",
       "      <td>-1.101584</td>\n",
       "      <td>1.585894</td>\n",
       "    </tr>\n",
       "    <tr>\n",
       "      <th>3</th>\n",
       "      <td>1.284887</td>\n",
       "      <td>0.851557</td>\n",
       "    </tr>\n",
       "    <tr>\n",
       "      <th>4</th>\n",
       "      <td>-1.876118</td>\n",
       "      <td>0.797699</td>\n",
       "    </tr>\n",
       "    <tr>\n",
       "      <th>...</th>\n",
       "      <td>...</td>\n",
       "      <td>...</td>\n",
       "    </tr>\n",
       "    <tr>\n",
       "      <th>359342</th>\n",
       "      <td>0.048937</td>\n",
       "      <td>-0.823796</td>\n",
       "    </tr>\n",
       "    <tr>\n",
       "      <th>359343</th>\n",
       "      <td>-1.219771</td>\n",
       "      <td>-0.294600</td>\n",
       "    </tr>\n",
       "    <tr>\n",
       "      <th>359344</th>\n",
       "      <td>0.494300</td>\n",
       "      <td>1.429064</td>\n",
       "    </tr>\n",
       "    <tr>\n",
       "      <th>359345</th>\n",
       "      <td>1.168618</td>\n",
       "      <td>0.756548</td>\n",
       "    </tr>\n",
       "    <tr>\n",
       "      <th>359346</th>\n",
       "      <td>1.684081</td>\n",
       "      <td>1.160298</td>\n",
       "    </tr>\n",
       "  </tbody>\n",
       "</table>\n",
       "<p>342852 rows × 2 columns</p>\n",
       "</div>"
      ],
      "text/plain": [
       "           comp1     comp2\n",
       "0       0.831985  0.107288\n",
       "1      -0.926918  0.078855\n",
       "2      -1.101584  1.585894\n",
       "3       1.284887  0.851557\n",
       "4      -1.876118  0.797699\n",
       "...          ...       ...\n",
       "359342  0.048937 -0.823796\n",
       "359343 -1.219771 -0.294600\n",
       "359344  0.494300  1.429064\n",
       "359345  1.168618  0.756548\n",
       "359346  1.684081  1.160298\n",
       "\n",
       "[342852 rows x 2 columns]"
      ]
     },
     "execution_count": 70,
     "metadata": {},
     "output_type": "execute_result"
    }
   ],
   "source": [
    "pca_mat_df"
   ]
  },
  {
   "cell_type": "markdown",
   "metadata": {},
   "source": [
    "#### 성별에 따른 취향\n",
    "- 사용자들의 성별에 따른 취향의 차이를 시각화 해보겠습니다."
   ]
  },
  {
   "cell_type": "code",
   "execution_count": 71,
   "metadata": {},
   "outputs": [
    {
     "data": {
      "text/html": [
       "<div>\n",
       "<style scoped>\n",
       "    .dataframe tbody tr th:only-of-type {\n",
       "        vertical-align: middle;\n",
       "    }\n",
       "\n",
       "    .dataframe tbody tr th {\n",
       "        vertical-align: top;\n",
       "    }\n",
       "\n",
       "    .dataframe thead th {\n",
       "        text-align: right;\n",
       "    }\n",
       "</style>\n",
       "<table border=\"1\" class=\"dataframe\">\n",
       "  <thead>\n",
       "    <tr style=\"text-align: right;\">\n",
       "      <th></th>\n",
       "      <th>user_id</th>\n",
       "      <th>gender</th>\n",
       "      <th>age</th>\n",
       "      <th>country</th>\n",
       "    </tr>\n",
       "  </thead>\n",
       "  <tbody>\n",
       "    <tr>\n",
       "      <th>0</th>\n",
       "      <td>0</td>\n",
       "      <td>f</td>\n",
       "      <td>22</td>\n",
       "      <td>Germany</td>\n",
       "    </tr>\n",
       "    <tr>\n",
       "      <th>1</th>\n",
       "      <td>1</td>\n",
       "      <td>f</td>\n",
       "      <td>-1</td>\n",
       "      <td>Canada</td>\n",
       "    </tr>\n",
       "    <tr>\n",
       "      <th>2</th>\n",
       "      <td>2</td>\n",
       "      <td>None</td>\n",
       "      <td>-1</td>\n",
       "      <td>Germany</td>\n",
       "    </tr>\n",
       "    <tr>\n",
       "      <th>3</th>\n",
       "      <td>3</td>\n",
       "      <td>m</td>\n",
       "      <td>19</td>\n",
       "      <td>Mexico</td>\n",
       "    </tr>\n",
       "    <tr>\n",
       "      <th>4</th>\n",
       "      <td>4</td>\n",
       "      <td>m</td>\n",
       "      <td>28</td>\n",
       "      <td>United States</td>\n",
       "    </tr>\n",
       "    <tr>\n",
       "      <th>...</th>\n",
       "      <td>...</td>\n",
       "      <td>...</td>\n",
       "      <td>...</td>\n",
       "      <td>...</td>\n",
       "    </tr>\n",
       "    <tr>\n",
       "      <th>359342</th>\n",
       "      <td>359342</td>\n",
       "      <td>m</td>\n",
       "      <td>25</td>\n",
       "      <td>Germany</td>\n",
       "    </tr>\n",
       "    <tr>\n",
       "      <th>359343</th>\n",
       "      <td>359343</td>\n",
       "      <td>m</td>\n",
       "      <td>25</td>\n",
       "      <td>Brazil</td>\n",
       "    </tr>\n",
       "    <tr>\n",
       "      <th>359344</th>\n",
       "      <td>359344</td>\n",
       "      <td>m</td>\n",
       "      <td>20</td>\n",
       "      <td>United States</td>\n",
       "    </tr>\n",
       "    <tr>\n",
       "      <th>359345</th>\n",
       "      <td>359345</td>\n",
       "      <td>m</td>\n",
       "      <td>20</td>\n",
       "      <td>Russian Federation</td>\n",
       "    </tr>\n",
       "    <tr>\n",
       "      <th>359346</th>\n",
       "      <td>359346</td>\n",
       "      <td>m</td>\n",
       "      <td>21</td>\n",
       "      <td>Belgium</td>\n",
       "    </tr>\n",
       "  </tbody>\n",
       "</table>\n",
       "<p>359347 rows × 4 columns</p>\n",
       "</div>"
      ],
      "text/plain": [
       "        user_id gender  age             country\n",
       "0             0      f   22             Germany\n",
       "1             1      f   -1              Canada\n",
       "2             2   None   -1             Germany\n",
       "3             3      m   19              Mexico\n",
       "4             4      m   28       United States\n",
       "...         ...    ...  ...                 ...\n",
       "359342   359342      m   25             Germany\n",
       "359343   359343      m   25              Brazil\n",
       "359344   359344      m   20       United States\n",
       "359345   359345      m   20  Russian Federation\n",
       "359346   359346      m   21             Belgium\n",
       "\n",
       "[359347 rows x 4 columns]"
      ]
     },
     "execution_count": 71,
     "metadata": {},
     "output_type": "execute_result"
    }
   ],
   "source": [
    "users_df"
   ]
  },
  {
   "cell_type": "code",
   "execution_count": 72,
   "metadata": {},
   "outputs": [],
   "source": [
    "user_id2gender = {user_id:gender for user_id, gender in zip(users_df[\"user_id\"], users_df[\"gender\"])}\n",
    "pca_mat_df[\"gender\"] = pca_mat_df.apply(lambda x : user_id2gender[x.name], axis=1)"
   ]
  },
  {
   "cell_type": "code",
   "execution_count": 73,
   "metadata": {},
   "outputs": [
    {
     "data": {
      "text/html": [
       "<div>\n",
       "<style scoped>\n",
       "    .dataframe tbody tr th:only-of-type {\n",
       "        vertical-align: middle;\n",
       "    }\n",
       "\n",
       "    .dataframe tbody tr th {\n",
       "        vertical-align: top;\n",
       "    }\n",
       "\n",
       "    .dataframe thead th {\n",
       "        text-align: right;\n",
       "    }\n",
       "</style>\n",
       "<table border=\"1\" class=\"dataframe\">\n",
       "  <thead>\n",
       "    <tr style=\"text-align: right;\">\n",
       "      <th></th>\n",
       "      <th>comp1</th>\n",
       "      <th>comp2</th>\n",
       "      <th>gender</th>\n",
       "    </tr>\n",
       "  </thead>\n",
       "  <tbody>\n",
       "    <tr>\n",
       "      <th>0</th>\n",
       "      <td>0.831985</td>\n",
       "      <td>0.107288</td>\n",
       "      <td>f</td>\n",
       "    </tr>\n",
       "    <tr>\n",
       "      <th>1</th>\n",
       "      <td>-0.926918</td>\n",
       "      <td>0.078855</td>\n",
       "      <td>f</td>\n",
       "    </tr>\n",
       "    <tr>\n",
       "      <th>2</th>\n",
       "      <td>-1.101584</td>\n",
       "      <td>1.585894</td>\n",
       "      <td>None</td>\n",
       "    </tr>\n",
       "    <tr>\n",
       "      <th>3</th>\n",
       "      <td>1.284887</td>\n",
       "      <td>0.851557</td>\n",
       "      <td>m</td>\n",
       "    </tr>\n",
       "    <tr>\n",
       "      <th>4</th>\n",
       "      <td>-1.876118</td>\n",
       "      <td>0.797699</td>\n",
       "      <td>m</td>\n",
       "    </tr>\n",
       "    <tr>\n",
       "      <th>...</th>\n",
       "      <td>...</td>\n",
       "      <td>...</td>\n",
       "      <td>...</td>\n",
       "    </tr>\n",
       "    <tr>\n",
       "      <th>359342</th>\n",
       "      <td>0.048937</td>\n",
       "      <td>-0.823796</td>\n",
       "      <td>m</td>\n",
       "    </tr>\n",
       "    <tr>\n",
       "      <th>359343</th>\n",
       "      <td>-1.219771</td>\n",
       "      <td>-0.294600</td>\n",
       "      <td>m</td>\n",
       "    </tr>\n",
       "    <tr>\n",
       "      <th>359344</th>\n",
       "      <td>0.494300</td>\n",
       "      <td>1.429064</td>\n",
       "      <td>m</td>\n",
       "    </tr>\n",
       "    <tr>\n",
       "      <th>359345</th>\n",
       "      <td>1.168618</td>\n",
       "      <td>0.756548</td>\n",
       "      <td>m</td>\n",
       "    </tr>\n",
       "    <tr>\n",
       "      <th>359346</th>\n",
       "      <td>1.684081</td>\n",
       "      <td>1.160298</td>\n",
       "      <td>m</td>\n",
       "    </tr>\n",
       "  </tbody>\n",
       "</table>\n",
       "<p>342852 rows × 3 columns</p>\n",
       "</div>"
      ],
      "text/plain": [
       "           comp1     comp2 gender\n",
       "0       0.831985  0.107288      f\n",
       "1      -0.926918  0.078855      f\n",
       "2      -1.101584  1.585894   None\n",
       "3       1.284887  0.851557      m\n",
       "4      -1.876118  0.797699      m\n",
       "...          ...       ...    ...\n",
       "359342  0.048937 -0.823796      m\n",
       "359343 -1.219771 -0.294600      m\n",
       "359344  0.494300  1.429064      m\n",
       "359345  1.168618  0.756548      m\n",
       "359346  1.684081  1.160298      m\n",
       "\n",
       "[342852 rows x 3 columns]"
      ]
     },
     "execution_count": 73,
     "metadata": {},
     "output_type": "execute_result"
    }
   ],
   "source": [
    "pca_mat_df"
   ]
  },
  {
   "cell_type": "code",
   "execution_count": 74,
   "metadata": {},
   "outputs": [
    {
     "data": {
      "image/png": "[encoded data removed]",
      "text/plain": [
       "<Figure size 432x432 with 1 Axes>"
      ]
     },
     "metadata": {
      "needs_background": "light"
     },
     "output_type": "display_data"
    }
   ],
   "source": [
    "fig, ax = plt.subplots(figsize=(6, 6))\n",
    "\n",
    "ax.scatter(data=pca_mat_df[pca_mat_df[\"gender\"]==\"m\"].sample(2000), x=\"comp1\", y=\"comp2\", s=6, alpha=0.4, c=\"blue\", label=\"male\")\n",
    "ax.scatter(data=pca_mat_df[pca_mat_df[\"gender\"]==\"f\"].sample(2000), x=\"comp1\", y=\"comp2\", s=6, alpha=0.4, c=\"orange\", label=\"female\")\n",
    "\n",
    "ax.legend()\n",
    "\n",
    "fig.tight_layout()"
   ]
  },
  {
   "cell_type": "markdown",
   "metadata": {},
   "source": [
    "- female이 조금 더 아래로 치우쳐서 있는 것을 볼 수 있습니다."
   ]
  },
  {
   "cell_type": "markdown",
   "metadata": {},
   "source": [
    "#### 나이에 따른 취향\n",
    "- 사용자들의 나이에 따른 취향의 차이를 시각화 해보겠습니다."
   ]
  },
  {
   "cell_type": "code",
   "execution_count": 75,
   "metadata": {},
   "outputs": [],
   "source": [
    "user_id2age = {user_id:age for user_id, age in zip(users_df[\"user_id\"], users_df[\"age\"])}\n",
    "pca_mat_df[\"age\"] = pca_mat_df.apply(lambda x : user_id2age[x.name], axis=1)"
   ]
  },
  {
   "cell_type": "code",
   "execution_count": 76,
   "metadata": {},
   "outputs": [
    {
     "data": {
      "image/png": "[encoded data removed]",
      "text/plain": [
       "<Figure size 432x432 with 1 Axes>"
      ]
     },
     "metadata": {
      "needs_background": "light"
     },
     "output_type": "display_data"
    }
   ],
   "source": [
    "fig, ax = plt.subplots(figsize=(6, 6))\n",
    "\n",
    "ax.scatter(data=pca_mat_df[pca_mat_df[\"age\"]>=60].sample(2000), x=\"comp1\", y=\"comp2\", s=6, alpha=0.4, c=\"blue\", label=\"old\")\n",
    "ax.scatter(data=pca_mat_df[pca_mat_df[\"age\"]<=20].sample(2000), x=\"comp1\", y=\"comp2\", s=6, alpha=0.4, c=\"orange\", label=\"young\")\n",
    "\n",
    "ax.legend()\n",
    "\n",
    "fig.tight_layout()"
   ]
  },
  {
   "cell_type": "markdown",
   "metadata": {},
   "source": [
    "- 서로 다른 분포를 볼 수 있습니다."
   ]
  },
  {
   "cell_type": "markdown",
   "metadata": {},
   "source": [
    "- 성별 혹은 연령별로 유저를 분석하여 유저에 대한 이해도를 높이는 것은 좋은 추천시스템을 만드는데 반드시 필요한 작업입니다. 예를 들어 앞서 언급했던 Cold Start 문제를 해결하기 위해 같은 성별 혹은 연령대의 유저군에 속한 유저들이 좋아하는 아티스트를 추천할 수도 있을 것입니다. 또는 마케팅을 수행하는데 활용할 수도 있을 것입니다."
   ]
  },
  {
   "cell_type": "markdown",
   "metadata": {},
   "source": [
    "### 3. 사용자의 취향과 유사한 특성을 가진 아티스트 추천"
   ]
  },
  {
   "cell_type": "code",
   "execution_count": 77,
   "metadata": {},
   "outputs": [
    {
     "name": "stdout",
     "output_type": "stream",
     "text": [
      "['angelo badalamenti', 'red hot chili peppers', 'marilyn manson', 'led zeppelin', 'eric clapton', 'metallica', 'iron maiden', 'u2', 't.love', 'slipknot', 'queens of the stone age', \"guns n' roses\", 'iced earth', 'avril lavigne', 'guano apes', 'the offspring', 'alice in chains', 'in flames', 'pantera', 'john williams', 'daniel licht', 'high and mighty color', 'karmacoma', 'down', 'missile girl scoot', 'akira yamaoka', 'the kilimanjaro darkjazz ensemble', 'mondo generator', 'raging speedhorn', 'graeme revell', 'spiritual beggars', 'as i lay dying', 'frida snell', 'fatboy slim', 'pearl jam', 'isis', 'suicidal tendencies', 'black sabbath', 'stone sour', 'the smashing pumpkins', 'sigur rós', 'godsmack', 'pink', 'no doubt', 'nine inch nails']\n",
      "\n",
      "downface                       0.841588\n",
      "crew                           0.832902\n",
      "vokee                          0.824441\n",
      "triquetra                      0.823269\n",
      "tosteer                        0.822168\n",
      "guess why                      0.803374\n",
      "future leaders of the world    0.795838\n",
      "slow motion reign              0.792531\n",
      "chico                          0.791931\n",
      "killjoy                        0.790249\n",
      "dtype: float32\n"
     ]
    }
   ],
   "source": [
    "#락을 좋아하는 사용자\n",
    "user_id = 300\n",
    "\n",
    "print([art_id2name[art_id] for art_id in in_plays.loc[user_id]], end=\"\\n\\n\")\n",
    "print(cos_sim(art_embs_df, user_embs_df.loc[user_id]).sort_values(ascending=False)[:10])"
   ]
  },
  {
   "cell_type": "code",
   "execution_count": 78,
   "metadata": {},
   "outputs": [
    {
     "name": "stdout",
     "output_type": "stream",
     "text": [
      "['the stone roses', 'snow patrol', 'red hot chili peppers', 'nickelback', 'scouting for girls', 'blur', 'michael jackson', 'michael bublé', 'amy winehouse', 'u2', 'the fratellis', 'bob marley', 'busted', 'jay-z', 'prince', 'kanye west', 'jordin sparks', 'foo fighters', '2pac', 'arctic monkeys', '50 cent', 'coldplay', 'lil wayne', 'the jackson 5', 'shaggy', 'queen', 'the game', 'feeder', 'the streets', 'radiohead', 'jay-z and linkin park', 'rihanna', 'linkin park', 'nina simone', 'blink-182', 'basshunter', 'r. kelly', 'oasis', 'the view', 'usher', 'the verve', 'akon', 'rod stewart', 'stereophonics', 'hard-fi']\n",
      "\n",
      "donavon frankenreiter & jack johnson    0.834244\n",
      "marky mark & the funky bunch            0.828939\n",
      "def rhymz                               0.816024\n",
      "dj greg j                               0.803926\n",
      "sek loso                                0.795295\n",
      "mash up                                 0.781428\n",
      "triple m                                0.781175\n",
      "peter kay                               0.775303\n",
      "liverpool f.c.                          0.769086\n",
      "beppie kraft                            0.768803\n",
      "dtype: float32\n"
     ]
    }
   ],
   "source": [
    "#힙합을 좋아하는 사용자\n",
    "user_id = 1200\n",
    "\n",
    "print([art_id2name[art_id] for art_id in in_plays.loc[user_id]], end=\"\\n\\n\")\n",
    "print(cos_sim(art_embs_df, user_embs_df.loc[user_id]).sort_values(ascending=False)[:10])"
   ]
  },
  {
   "cell_type": "code",
   "execution_count": 79,
   "metadata": {},
   "outputs": [
    {
     "name": "stdout",
     "output_type": "stream",
     "text": [
      "['gackt', 'christina aguilera', 'beyoncé', 'michael jackson', '安室奈美恵', '12012', '이효리', '新垣結衣', '久石譲', '鄭秀文', 'olivia ong', 'donawhale', '王力宏', 'enrique iglesias', 'alan', 'late night alumni', 'vanessa paradis', 'big bang', 'uverworld', 'abingdon boys school', 'britney spears', 'jennifer lopez', 'timbaland', 'ciara', 'bon jovi', 'avril lavigne', '中島美嘉', '浜崎あゆみ', 'm-flo', 'evanescence', '宇多田ヒカル', 'olivia', '倖田來未', 'spice girls', 'ashlee simpson', 'mariah carey', 'rihanna', 'linkin park', 'nelly furtado', 'madonna', 'enya', 'the pussycat dolls', 'kelly clarkson', 'michelle branch', 'frank sinatra', 'bee gees', 'justin timberlake', 'lady gaga', 'mink', 'boa', 'ガゼット', 'disney']\n",
      "\n",
      "kavana           0.918612\n",
      "大野智              0.918307\n",
      "guo mei mei      0.914705\n",
      "park jung ah     0.913502\n",
      "櫻井翔              0.910847\n",
      "김조한              0.909523\n",
      "tashannie        0.909446\n",
      "erin hamilton    0.907806\n",
      "angela vía       0.907226\n",
      "alyssa milano    0.904699\n",
      "dtype: float32\n"
     ]
    }
   ],
   "source": [
    "#댄스 음악을 좋아하는 사용자\n",
    "user_id = 209\n",
    "\n",
    "print([art_id2name[art_id] for art_id in in_plays.loc[user_id]], end=\"\\n\\n\")\n",
    "print(cos_sim(art_embs_df, user_embs_df.loc[user_id]).sort_values(ascending=False)[:10])"
   ]
  },
  {
   "cell_type": "markdown",
   "metadata": {},
   "source": [
    "## 유사도 계산 속도 개선하기\n",
    "- 실제로 추천 시스템을 구현할 경우 최소 100ms 안에 서비스를 제공해야 합니다.\n",
    "- 그러나 pandas를 이용해 유사도를 계산하는 것은 대량의 요청에 빠른 속도로 응답하기가 어렵습니다.\n",
    "\n",
    "### annoy library 사용하기\n",
    "- 전체 사용자 또는 아이템에 대해 연산을 수행하는 것이 아니라 유사도가 높을 것으로 예상되는 사용자 또는 아이템들을 추려낸 후 해당 사용자 또는 아이템들만을 가지고 유사도를 계산하므로 훨씬 빠른 연산 속도를 구현할 수 있습니다.\n",
    "- 이처럼 유사도를 빠르게 계산할 수 있도록 해주는 libraries는 다음과 같은 것들이 있습니다.\n",
    "<img src=\"https://github.com/erikbern/ann-benchmarks/raw/master/results/glove-100-angular.png\" width=\"500\">"
   ]
  },
  {
   "cell_type": "code",
   "execution_count": 34,
   "metadata": {},
   "outputs": [],
   "source": [
    "n_facts = 61\n",
    "tree = AnnoyIndex(n_facts, \"dot\")\n",
    "\n",
    "for idx, value in enumerate(art_embs_df.values):\n",
    "    tree.add_item(idx, value)\n",
    "\n",
    "#builds a forest of n_trees trees. More trees gives higher precision when querying.\n",
    "tree.build(n_trees=20)"
   ]
  },
  {
   "cell_type": "code",
   "execution_count": 97,
   "metadata": {},
   "outputs": [
    {
     "name": "stdout",
     "output_type": "stream",
     "text": [
      "['angelo badalamenti', 'red hot chili peppers', 'marilyn manson', 'led zeppelin', 'eric clapton', 'metallica', 'iron maiden', 'u2', 't.love', 'slipknot', 'queens of the stone age', \"guns n' roses\", 'iced earth', 'avril lavigne', 'guano apes', 'the offspring', 'alice in chains', 'in flames', 'pantera', 'john williams', 'daniel licht', 'high and mighty color', 'karmacoma', 'down', 'missile girl scoot', 'akira yamaoka', 'the kilimanjaro darkjazz ensemble', 'mondo generator', 'raging speedhorn', 'graeme revell', 'spiritual beggars', 'as i lay dying', 'frida snell', 'fatboy slim', 'pearl jam', 'isis', 'suicidal tendencies', 'black sabbath', 'stone sour', 'the smashing pumpkins', 'sigur rós', 'godsmack', 'pink', 'no doubt', 'nine inch nails']\n",
      "\n",
      "['bones brigade', 'sycronomica', 'alice in chains', 'system of a down', 'the distillers', 'ke$ha', 'me first and the gimme gimmes', 'otto ohm', 'guano apes', 'nephew']\n"
     ]
    }
   ],
   "source": [
    "#락을 좋아하는 사용자\n",
    "user_id = 300\n",
    "\n",
    "print([art_id2name[art_id] for art_id in in_plays.loc[user_id]], end=\"\\n\\n\")\n",
    "print([art_id2name[art] for art in tree.get_nns_by_vector(user_embs_df.loc[user_id], 10)])"
   ]
  },
  {
   "cell_type": "code",
   "execution_count": 98,
   "metadata": {},
   "outputs": [
    {
     "name": "stdout",
     "output_type": "stream",
     "text": [
      "['the stone roses', 'snow patrol', 'red hot chili peppers', 'nickelback', 'scouting for girls', 'blur', 'michael jackson', 'michael bublé', 'amy winehouse', 'u2', 'the fratellis', 'bob marley', 'busted', 'jay-z', 'prince', 'kanye west', 'jordin sparks', 'foo fighters', '2pac', 'arctic monkeys', '50 cent', 'coldplay', 'lil wayne', 'the jackson 5', 'shaggy', 'queen', 'the game', 'feeder', 'the streets', 'radiohead', 'jay-z and linkin park', 'rihanna', 'linkin park', 'nina simone', 'blink-182', 'basshunter', 'r. kelly', 'oasis', 'the view', 'usher', 'the verve', 'akon', 'rod stewart', 'stereophonics', 'hard-fi']\n",
      "\n",
      "['dr. dre', 'bloc party', 'roupa nova', 'ray eberle', 'red hot chili peppers', 'devonsquare', 'soul merchants', 'hardcore authority', 'angus stone', 'talking cure']\n"
     ]
    }
   ],
   "source": [
    "#힙합을 좋아하는 사용자\n",
    "user_id = 1200\n",
    "\n",
    "print([art_id2name[art_id] for art_id in in_plays.loc[user_id]], end=\"\\n\\n\")\n",
    "print([art_id2name[art] for art in tree.get_nns_by_vector(user_embs_df.loc[user_id], 10)])"
   ]
  },
  {
   "cell_type": "code",
   "execution_count": 99,
   "metadata": {},
   "outputs": [
    {
     "name": "stdout",
     "output_type": "stream",
     "text": [
      "['gackt', 'christina aguilera', 'beyoncé', 'michael jackson', '安室奈美恵', '12012', '이효리', '新垣結衣', '久石譲', '鄭秀文', 'olivia ong', 'donawhale', '王力宏', 'enrique iglesias', 'alan', 'late night alumni', 'vanessa paradis', 'big bang', 'uverworld', 'abingdon boys school', 'britney spears', 'jennifer lopez', 'timbaland', 'ciara', 'bon jovi', 'avril lavigne', '中島美嘉', '浜崎あゆみ', 'm-flo', 'evanescence', '宇多田ヒカル', 'olivia', '倖田來未', 'spice girls', 'ashlee simpson', 'mariah carey', 'rihanna', 'linkin park', 'nelly furtado', 'madonna', 'enya', 'the pussycat dolls', 'kelly clarkson', 'michelle branch', 'frank sinatra', 'bee gees', 'justin timberlake', 'lady gaga', 'mink', 'boa', 'ガゼット', 'disney']\n",
      "\n",
      "['the pacific ocean', 'kampec dolores', 'band of skulls', '木村カエラ', 'zilvinas zvagulis', 'band of horses', 'success will write apocalypse across the sky', 'omara portuondo and chucho valdé', 'casseopaya', 'charlie parr']\n"
     ]
    }
   ],
   "source": [
    "#댄스 음악을 좋아하는 사용자\n",
    "user_id = 209\n",
    "\n",
    "print([art_id2name[art_id] for art_id in in_plays.loc[user_id]], end=\"\\n\\n\")\n",
    "print([art_id2name[art] for art in tree.get_nns_by_vector(user_embs_df.loc[user_id], 10)])"
   ]
  }
 ],
 "metadata": {
  "kernelspec": {
   "display_name": "Python 3",
   "language": "python",
   "name": "python3"
  },
  "language_info": {
   "codemirror_mode": {
    "name": "ipython",
    "version": 3
   },
   "file_extension": ".py",
   "mimetype": "text/x-python",
   "name": "python",
   "nbconvert_exporter": "python",
   "pygments_lexer": "ipython3",
   "version": "3.7.9"
  },
  "toc": {
   "base_numbering": 1,
   "nav_menu": {},
   "number_sections": false,
   "sideBar": true,
   "skip_h1_title": false,
   "title_cell": "Table of Contents",
   "title_sidebar": "Contents",
   "toc_cell": false,
   "toc_position": {},
   "toc_section_display": true,
   "toc_window_display": false
  },
  "varInspector": {
   "cols": {
    "lenName": 16,
    "lenType": 16,
    "lenVar": 40
   },
   "kernels_config": {
    "python": {
     "delete_cmd_postfix": "",
     "delete_cmd_prefix": "del ",
     "library": "var_list.py",
     "varRefreshCmd": "print(var_dic_list())"
    },
    "r": {
     "delete_cmd_postfix": ") ",
     "delete_cmd_prefix": "rm(",
     "library": "var_list.r",
     "varRefreshCmd": "cat(var_dic_list()) "
    }
   },
   "types_to_exclude": [
    "module",
    "function",
    "builtin_function_or_method",
    "instance",
    "_Feature"
   ],
   "window_display": false
  }
 },
 "nbformat": 4,
 "nbformat_minor": 4
}
