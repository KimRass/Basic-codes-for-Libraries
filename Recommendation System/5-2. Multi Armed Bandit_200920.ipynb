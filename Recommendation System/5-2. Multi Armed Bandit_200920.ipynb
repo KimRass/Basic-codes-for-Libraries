{
 "cells": [
  {
   "cell_type": "markdown",
   "metadata": {},
   "source": [
    "# Multi Armed Bandit\n",
    "- 다양한 모델을 동시에 사용하여 아이템을 추천 받았을 때, 어떤 모델이 가장 효과적인 아이템을 추천하는지 확인할 수 있는 방법입니다."
   ]
  },
  {
   "cell_type": "code",
   "execution_count": 70,
   "metadata": {},
   "outputs": [],
   "source": [
    "import numpy as np\n",
    "import pandas as pd\n",
    "from tqdm import tqdm\n",
    "import scipy\n",
    "from google_drive_downloader import GoogleDriveDownloader as gdd\n",
    "import matplotlib.pyplot as plt\n",
    "\n",
    "plt.style.use(\"dark_background\")"
   ]
  },
  {
   "cell_type": "markdown",
   "metadata": {},
   "source": [
    "## 모형에 따라, 고객의 클릭 유무를 알려주는 클래스\n",
    "- 우리에게는 3가지 추천 모형이 있습니다. 세 추천 모형 모두 고객이 관심가질만한 제품을 노출시켜, 클릭을 유도하기 위해 설계되어 있습니다. 즉 높은 클릭율(CTR)일수록 좋은 모형입니다. 하지만 우리는 셋 중 어느 모형이 높은 CTR을 보일지 모릅니다. 이 때 우리는 어떻게 시도하는 것이 좋을까요?"
   ]
  },
  {
   "cell_type": "code",
   "execution_count": 8,
   "metadata": {},
   "outputs": [],
   "source": [
    "gdd.download_file_from_google_drive(file_id=\"1CmnFuDTSAaNxbZDkaBa1OtcVmTTnTsAY\", dest_path=\"./MAB_simulation.csv\")\n",
    "ads_df = pd.read_csv(\"MAB_simulation.csv\")"
   ]
  },
  {
   "cell_type": "code",
   "execution_count": 10,
   "metadata": {},
   "outputs": [
    {
     "data": {
      "text/html": [
       "<div>\n",
       "<style scoped>\n",
       "    .dataframe tbody tr th:only-of-type {\n",
       "        vertical-align: middle;\n",
       "    }\n",
       "\n",
       "    .dataframe tbody tr th {\n",
       "        vertical-align: top;\n",
       "    }\n",
       "\n",
       "    .dataframe thead th {\n",
       "        text-align: right;\n",
       "    }\n",
       "</style>\n",
       "<table border=\"1\" class=\"dataframe\">\n",
       "  <thead>\n",
       "    <tr style=\"text-align: right;\">\n",
       "      <th></th>\n",
       "      <th>TOP_K</th>\n",
       "      <th>CF</th>\n",
       "      <th>BPR</th>\n",
       "    </tr>\n",
       "  </thead>\n",
       "  <tbody>\n",
       "    <tr>\n",
       "      <th>0</th>\n",
       "      <td>0</td>\n",
       "      <td>0</td>\n",
       "      <td>1</td>\n",
       "    </tr>\n",
       "    <tr>\n",
       "      <th>1</th>\n",
       "      <td>0</td>\n",
       "      <td>0</td>\n",
       "      <td>0</td>\n",
       "    </tr>\n",
       "    <tr>\n",
       "      <th>2</th>\n",
       "      <td>0</td>\n",
       "      <td>0</td>\n",
       "      <td>0</td>\n",
       "    </tr>\n",
       "    <tr>\n",
       "      <th>3</th>\n",
       "      <td>0</td>\n",
       "      <td>1</td>\n",
       "      <td>0</td>\n",
       "    </tr>\n",
       "    <tr>\n",
       "      <th>4</th>\n",
       "      <td>0</td>\n",
       "      <td>0</td>\n",
       "      <td>0</td>\n",
       "    </tr>\n",
       "  </tbody>\n",
       "</table>\n",
       "</div>"
      ],
      "text/plain": [
       "   TOP_K  CF  BPR\n",
       "0      0   0    1\n",
       "1      0   0    0\n",
       "2      0   0    0\n",
       "3      0   1    0\n",
       "4      0   0    0"
      ]
     },
     "execution_count": 10,
     "metadata": {},
     "output_type": "execute_result"
    }
   ],
   "source": [
    "ads_df.head()"
   ]
  },
  {
   "cell_type": "code",
   "execution_count": 35,
   "metadata": {},
   "outputs": [],
   "source": [
    "class Simulator:\n",
    "    def __init__(self):\n",
    "        self.idx = 0\n",
    "        self.model_list = [\"TOP_K\", \"CF\", \"BPR\"]\n",
    "        \n",
    "    def recomm_result(self, model_name):\n",
    "        assert model_name in self.model_list, \"There is no such a model.\"\n",
    "        self.idx += 1\n",
    "        return bool(ads_df.loc[self.idx, model_name])"
   ]
  },
  {
   "cell_type": "code",
   "execution_count": 36,
   "metadata": {},
   "outputs": [],
   "source": [
    "simulator = Simulator()"
   ]
  },
  {
   "cell_type": "code",
   "execution_count": 46,
   "metadata": {},
   "outputs": [
    {
     "name": "stdout",
     "output_type": "stream",
     "text": [
      "0th 시도 : True\n",
      "1th 시도 : False\n",
      "2th 시도 : False\n",
      "3th 시도 : False\n",
      "4th 시도 : False\n",
      "5th 시도 : False\n",
      "6th 시도 : False\n",
      "7th 시도 : True\n",
      "8th 시도 : True\n",
      "9th 시도 : False\n"
     ]
    }
   ],
   "source": [
    "for i in range(10):\n",
    "    result = simulator.recomm_result(\"CF\")\n",
    "    print(\"{}th 시도 : {}\".format(i, result))"
   ]
  },
  {
   "cell_type": "code",
   "execution_count": 47,
   "metadata": {},
   "outputs": [
    {
     "data": {
      "text/html": [
       "<div>\n",
       "<style scoped>\n",
       "    .dataframe tbody tr th:only-of-type {\n",
       "        vertical-align: middle;\n",
       "    }\n",
       "\n",
       "    .dataframe tbody tr th {\n",
       "        vertical-align: top;\n",
       "    }\n",
       "\n",
       "    .dataframe thead th {\n",
       "        text-align: right;\n",
       "    }\n",
       "</style>\n",
       "<table border=\"1\" class=\"dataframe\">\n",
       "  <thead>\n",
       "    <tr style=\"text-align: right;\">\n",
       "      <th></th>\n",
       "      <th>TOP_K</th>\n",
       "      <th>CF</th>\n",
       "      <th>BPR</th>\n",
       "    </tr>\n",
       "  </thead>\n",
       "  <tbody>\n",
       "    <tr>\n",
       "      <th>0</th>\n",
       "      <td>0</td>\n",
       "      <td>0</td>\n",
       "      <td>1</td>\n",
       "    </tr>\n",
       "    <tr>\n",
       "      <th>1</th>\n",
       "      <td>0</td>\n",
       "      <td>0</td>\n",
       "      <td>0</td>\n",
       "    </tr>\n",
       "    <tr>\n",
       "      <th>2</th>\n",
       "      <td>0</td>\n",
       "      <td>0</td>\n",
       "      <td>0</td>\n",
       "    </tr>\n",
       "    <tr>\n",
       "      <th>3</th>\n",
       "      <td>0</td>\n",
       "      <td>1</td>\n",
       "      <td>0</td>\n",
       "    </tr>\n",
       "    <tr>\n",
       "      <th>4</th>\n",
       "      <td>0</td>\n",
       "      <td>0</td>\n",
       "      <td>0</td>\n",
       "    </tr>\n",
       "    <tr>\n",
       "      <th>...</th>\n",
       "      <td>...</td>\n",
       "      <td>...</td>\n",
       "      <td>...</td>\n",
       "    </tr>\n",
       "    <tr>\n",
       "      <th>9995</th>\n",
       "      <td>1</td>\n",
       "      <td>1</td>\n",
       "      <td>0</td>\n",
       "    </tr>\n",
       "    <tr>\n",
       "      <th>9996</th>\n",
       "      <td>0</td>\n",
       "      <td>0</td>\n",
       "      <td>0</td>\n",
       "    </tr>\n",
       "    <tr>\n",
       "      <th>9997</th>\n",
       "      <td>0</td>\n",
       "      <td>0</td>\n",
       "      <td>0</td>\n",
       "    </tr>\n",
       "    <tr>\n",
       "      <th>9998</th>\n",
       "      <td>0</td>\n",
       "      <td>1</td>\n",
       "      <td>0</td>\n",
       "    </tr>\n",
       "    <tr>\n",
       "      <th>9999</th>\n",
       "      <td>0</td>\n",
       "      <td>0</td>\n",
       "      <td>0</td>\n",
       "    </tr>\n",
       "  </tbody>\n",
       "</table>\n",
       "<p>10000 rows × 3 columns</p>\n",
       "</div>"
      ],
      "text/plain": [
       "      TOP_K  CF  BPR\n",
       "0         0   0    1\n",
       "1         0   0    0\n",
       "2         0   0    0\n",
       "3         0   1    0\n",
       "4         0   0    0\n",
       "...     ...  ..  ...\n",
       "9995      1   1    0\n",
       "9996      0   0    0\n",
       "9997      0   0    0\n",
       "9998      0   1    0\n",
       "9999      0   0    0\n",
       "\n",
       "[10000 rows x 3 columns]"
      ]
     },
     "execution_count": 47,
     "metadata": {},
     "output_type": "execute_result"
    }
   ],
   "source": [
    "ads_df"
   ]
  },
  {
   "cell_type": "code",
   "execution_count": 48,
   "metadata": {},
   "outputs": [
    {
     "data": {
      "text/plain": [
       "TOP_K    0.0728\n",
       "CF       0.2091\n",
       "BPR      0.2695\n",
       "dtype: float64"
      ]
     },
     "execution_count": 48,
     "metadata": {},
     "output_type": "execute_result"
    }
   ],
   "source": [
    "ads_df.mean(axis=0)"
   ]
  },
  {
   "cell_type": "markdown",
   "metadata": {},
   "source": [
    "## Thompson Sampling 알고리즘\n",
    "\n",
    "### Beta 분포란?\n",
    "베타 분포는  α 와  β 라는 두 모수를 가지며 표본 공간은 0과 1 사이의 실수인 분포입니다.\n",
    "$$\n",
    "f(x;\\ α,\\ β)=\\frac{1}{B(α,\\ β)}x^{(α−1)}(1−x)^{(β−1)}\n",
    "$$\n",
    "- 기댓값 E(x)\n",
    "$$\n",
    "E(x)=\\frac{α}{α+β}\n",
    "$$\n",
    "- 분산 Var(x) : 확률분포의 폭\n",
    "$$\n",
    "Var(x)=\\frac{αβ}{(α+β)^{2}(α+β+1)}\n",
    "$$\n",
    "- 최빈값 Mode(x) : 확률분포가 가장 커지는 위치\n",
    "$$\n",
    "Mode(x)=\\frac{α−1}{α+β−2}\n",
    "$$\n",
    "\n",
    "### Beta 분포를 통해 우리가 알 수 있는 것 -> 확률에 대한 확신 수준\n",
    "10번 중 2번 고객이 클릭했을 때와 100번 중 20번 고객이 클릭했을 때 모두 CTR은 20%입니다. 그런데 10번을 했을 때 측정된 CTR이 믿을만할까요, 100번을 시도했을 때 측정된 CTR이 믿을만할까요? 베타 분포는 확신의 정도를 분포를 통해 보여줍니다.\n",
    "\n",
    "#### case 1) 사용자에게 10번의 추천을 했을 때 2번 클릭한 경우"
   ]
  },
  {
   "cell_type": "code",
   "execution_count": 71,
   "metadata": {},
   "outputs": [
    {
     "name": "stdout",
     "output_type": "stream",
     "text": [
      "ctr : 0.200 | var : 0.014\n"
     ]
    },
    {
     "data": {
      "image/png": "[encoded data removed]",
      "text/plain": [
       "<Figure size 432x288 with 1 Axes>"
      ]
     },
     "metadata": {},
     "output_type": "display_data"
    }
   ],
   "source": [
    "click = 2\n",
    "recomm = 10\n",
    "\n",
    "#alpha, scipy.stats.beta 대신에 a, b를 사용하겠습니다.\n",
    "a = click + 1\n",
    "b = recomm - click + 1\n",
    "\n",
    "ctr = (a-1) / (a+b-2) #mode\n",
    "var = (a*b) / ((a+b)**2*(a+b+1)) #var\n",
    "\n",
    "print(f\"ctr : {ctr:.3f} | var : {var:.3f}\")\n",
    "\n",
    "xs = np.linspace(0, 1, 100)\n",
    "# scipy.stats.beta distribution의 probability density fuction을 정의합니다.\n",
    "ys = scipy.stats.beta.pdf(xs, a, b)\n",
    "\n",
    "fig, ax = plt.subplots()\n",
    "\n",
    "ax.plot(xs,ys)\n",
    "\n",
    "fig.tight_layout()"
   ]
  },
  {
   "cell_type": "markdown",
   "metadata": {},
   "source": [
    "#### case 2) 사용자에게 100번의 추천을 했을 때 20번 클릭한 경우"
   ]
  },
  {
   "cell_type": "code",
   "execution_count": 72,
   "metadata": {},
   "outputs": [
    {
     "name": "stdout",
     "output_type": "stream",
     "text": [
      "ctr : 0.200 | var : 0.002\n"
     ]
    },
    {
     "data": {
      "image/png": "[encoded data removed]",
      "text/plain": [
       "<Figure size 432x288 with 1 Axes>"
      ]
     },
     "metadata": {},
     "output_type": "display_data"
    }
   ],
   "source": [
    "click = 20\n",
    "recomm = 100\n",
    "\n",
    "#alpha, scipy.stats.beta 대신에 a, b를 사용하겠습니다.\n",
    "a = click + 1\n",
    "b = recomm - click + 1\n",
    "\n",
    "ctr = (a-1) / (a+b-2) #mode\n",
    "var = (a*b) / ((a+b)**2*(a+b+1)) #var\n",
    "\n",
    "print(f\"ctr : {ctr:.3f} | var : {var:.3f}\")\n",
    "\n",
    "xs = np.linspace(0, 1, 100)\n",
    "# scipy.stats.beta distribution의 probability density fuction을 정의합니다.\n",
    "ys = scipy.stats.beta.pdf(xs, a, b)\n",
    "\n",
    "fig, ax = plt.subplots()\n",
    "\n",
    "ax.plot(xs,ys)\n",
    "\n",
    "fig.tight_layout()"
   ]
  },
  {
   "cell_type": "markdown",
   "metadata": {},
   "source": [
    "#### case 3) 사용자에게 1000번의 추천을 했을 때 200번 클릭한 경우"
   ]
  },
  {
   "cell_type": "code",
   "execution_count": 73,
   "metadata": {},
   "outputs": [
    {
     "name": "stdout",
     "output_type": "stream",
     "text": [
      "ctr : 0.200 | var : 0.000\n"
     ]
    },
    {
     "data": {
      "image/png": "[encoded data removed]",
      "text/plain": [
       "<Figure size 432x288 with 1 Axes>"
      ]
     },
     "metadata": {},
     "output_type": "display_data"
    }
   ],
   "source": [
    "click = 200\n",
    "recomm = 1000\n",
    "\n",
    "#alpha, scipy.stats.beta 대신에 a, b를 사용하겠습니다.\n",
    "a = click + 1\n",
    "b = recomm - click + 1\n",
    "\n",
    "ctr = (a-1) / (a+b-2) #mode\n",
    "var = (a*b) / ((a+b)**2*(a+b+1)) #var\n",
    "\n",
    "print(f\"ctr : {ctr:.3f} | var : {var:.3f}\")\n",
    "\n",
    "xs = np.linspace(0, 1, 100)\n",
    "# scipy.stats.beta distribution의 probability density fuction을 정의합니다.\n",
    "ys = scipy.stats.beta.pdf(xs, a, b)\n",
    "\n",
    "fig, ax = plt.subplots()\n",
    "\n",
    "ax.plot(xs,ys)\n",
    "\n",
    "fig.tight_layout()"
   ]
  },
  {
   "cell_type": "code",
   "execution_count": null,
   "metadata": {},
   "outputs": [],
   "source": []
  }
 ],
 "metadata": {
  "kernelspec": {
   "display_name": "Python 3",
   "language": "python",
   "name": "python3"
  },
  "language_info": {
   "codemirror_mode": {
    "name": "ipython",
    "version": 3
   },
   "file_extension": ".py",
   "mimetype": "text/x-python",
   "name": "python",
   "nbconvert_exporter": "python",
   "pygments_lexer": "ipython3",
   "version": "3.7.9"
  }
 },
 "nbformat": 4,
 "nbformat_minor": 4
}
