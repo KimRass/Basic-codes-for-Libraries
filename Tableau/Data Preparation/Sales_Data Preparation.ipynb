{
 "cells": [
  {
   "cell_type": "code",
   "execution_count": 7,
   "metadata": {},
   "outputs": [],
   "source": [
    "import pandas as pd\n",
    "import openpyxl"
   ]
  },
  {
   "cell_type": "code",
   "execution_count": 21,
   "metadata": {},
   "outputs": [],
   "source": [
    "# infos = pd.read_excel(\"D:/사업별미수현황총괄표_작업_202107090757 (1).xlsx\")\n",
    "# contracts = pd.read_excel(\"D:/계약일보_작업_202107090757 (1).xlsx\")\n",
    "contracts = openpyxl.load_workbook(\"D:/계약일보_작업_202107120821.xlsx\")\n",
    "ws1 = contracts.active"
   ]
  },
  {
   "cell_type": "code",
   "execution_count": 22,
   "metadata": {},
   "outputs": [],
   "source": [
    "wb = openpyxl.load_workbook(\"D:\\디지털혁신팀\\태블로\\분양일보\\계약일보_테이블.xlsx\")\n",
    "ws2 = wb.active"
   ]
  },
  {
   "cell_type": "code",
   "execution_count": null,
   "metadata": {},
   "outputs": [],
   "source": []
  }
 ],
 "metadata": {
  "kernelspec": {
   "display_name": "Python 3",
   "language": "python",
   "name": "python3"
  },
  "language_info": {
   "codemirror_mode": {
    "name": "ipython",
    "version": 3
   },
   "file_extension": ".py",
   "mimetype": "text/x-python",
   "name": "python",
   "nbconvert_exporter": "python",
   "pygments_lexer": "ipython3",
   "version": "3.7.7"
  }
 },
 "nbformat": 4,
 "nbformat_minor": 4
}
