{
 "cells": [
  {
   "cell_type": "code",
   "execution_count": 2,
   "metadata": {},
   "outputs": [],
   "source": [
    "import pandas as pd\n",
    "import numpy as np\n",
    "import matplotlib as mpl\n",
    "import matplotlib.pyplot as plt\n",
    "import seaborn as sb\n",
    "import re\n",
    "from itertools import combinations\n",
    "import urllib\n",
    "from bs4 import BeautifulSoup as bs\n",
    "import json\n",
    "import datetime\n",
    "from tqdm.notebook import tqdm\n",
    "import pymysql\n",
    "import traceback\n",
    "import psycopg2\n",
    "from psycopg2.extras import RealDictCursor\n",
    "from appstoreconnect import Api\n",
    "import pymssql\n",
    "from dateutil.relativedelta import relativedelta\n",
    "import pickle as pk\n",
    "\n",
    "plt.style.use(\"dark_background\")\n",
    "\n",
    "path = \"C:/Windows/Fonts/malgun.ttf\"\n",
    "font_name = mpl.font_manager.FontProperties(fname=path).get_name()\n",
    "mpl.rc(\"font\", family=font_name)\n",
    "mpl.rc(\"axes\", unicode_minus=False)"
   ]
  },
  {
   "cell_type": "markdown",
   "metadata": {},
   "source": [
    "## mall.csv"
   ]
  },
  {
   "cell_type": "code",
   "execution_count": 6,
   "metadata": {},
   "outputs": [],
   "source": [
    "cols = [\"주문번호\", \"아이디\", \"상품ID\", \"상품명\", \"수량\", \"상품금액\", \"주문일자\", \"모바일주문여부\"]\n",
    "\n",
    "with open(\"mall_password.pkl\", \"rb\") as f:\n",
    "     password = pk.load(f)\n",
    "conn = pymssql.connect(server=\"125.60.68.233\", database=\"eiparkclub\", user=\"myhomie\", password=password, charset=\"utf8\")\n",
    "cur = conn.cursor()\n",
    "\n",
    "sql = f\"SELECT 주문번호, 임직원아이디, _상품ID, 상품명, 수량, 상품금액, 주문일자, _모바일주문여부 FROM vwAdjustDetail;\"\n",
    "# sql = f\"SELECT 임직원아이디 FROM vwAdjustDetail;\"\n",
    "cur.execute(sql)\n",
    "\n",
    "data = pd.DataFrame(cur.fetchall(), columns=cols)\n",
    "# data = pd.DataFrame(cur.fetchall())\n",
    "data = data[data[\"아이디\"].str.contains(\"MBR\")]\n",
    "data = data.reset_index(drop=True)"
   ]
  },
  {
   "cell_type": "code",
   "execution_count": 5,
   "metadata": {
    "scrolled": true
   },
   "outputs": [],
   "source": [
    "# data.to_csv(\"mall.csv\", encoding=\"euc-kr\", index=False)\n",
    "# data.head()"
   ]
  },
  {
   "cell_type": "markdown",
   "metadata": {},
   "source": [
    "# 다운로드(iOS)"
   ]
  },
  {
   "cell_type": "code",
   "execution_count": 118,
   "metadata": {},
   "outputs": [
    {
     "ename": "APIError",
     "evalue": "Invalid vendor number specified. Try again.",
     "output_type": "error",
     "traceback": [
      "\u001b[1;31m---------------------------------------------------------------------------\u001b[0m",
      "\u001b[1;31mAPIError\u001b[0m                                  Traceback (most recent call last)",
      "\u001b[1;32m<ipython-input-118-7fb950b92b7c>\u001b[0m in \u001b[0;36m<module>\u001b[1;34m\u001b[0m\n\u001b[0;32m      2\u001b[0m     \u001b[0mkey_file\u001b[0m \u001b[1;33m=\u001b[0m \u001b[0mf\u001b[0m\u001b[1;33m.\u001b[0m\u001b[0mread\u001b[0m\u001b[1;33m(\u001b[0m\u001b[1;33m)\u001b[0m\u001b[1;33m\u001b[0m\u001b[1;33m\u001b[0m\u001b[0m\n\u001b[0;32m      3\u001b[0m \u001b[0mapi\u001b[0m \u001b[1;33m=\u001b[0m \u001b[0mApi\u001b[0m\u001b[1;33m(\u001b[0m\u001b[0mkey_id\u001b[0m\u001b[1;33m=\u001b[0m\u001b[1;34m\"BB99VD4S7X\"\u001b[0m\u001b[1;33m,\u001b[0m \u001b[0mkey_file\u001b[0m\u001b[1;33m=\u001b[0m\u001b[0mkey_file\u001b[0m\u001b[1;33m,\u001b[0m \u001b[0missuer_id\u001b[0m\u001b[1;33m=\u001b[0m\u001b[1;34m\"252fd97c-ea6e-45b9-a795-693f38f8dbaf\"\u001b[0m\u001b[1;33m)\u001b[0m\u001b[1;33m\u001b[0m\u001b[1;33m\u001b[0m\u001b[0m\n\u001b[1;32m----> 4\u001b[1;33m \u001b[0mapi\u001b[0m\u001b[1;33m.\u001b[0m\u001b[0mdownload_sales_and_trends_reports\u001b[0m\u001b[1;33m(\u001b[0m\u001b[0mfilters\u001b[0m\u001b[1;33m=\u001b[0m\u001b[1;33m{\u001b[0m\u001b[1;34m\"frequency\"\u001b[0m\u001b[1;33m:\u001b[0m \u001b[1;34m\"DAILY\"\u001b[0m\u001b[1;33m,\u001b[0m \u001b[1;34m\"reportSubType\"\u001b[0m\u001b[1;33m:\u001b[0m\u001b[1;34m\"DETAILED\"\u001b[0m\u001b[1;33m,\u001b[0m \u001b[1;34m\"reportType\"\u001b[0m\u001b[1;33m:\u001b[0m\u001b[1;34m\"SALES\"\u001b[0m\u001b[1;33m,\u001b[0m \u001b[1;34m\"vendorNumber\"\u001b[0m\u001b[1;33m:\u001b[0m \u001b[1;34m\"88755846\"\u001b[0m\u001b[1;33m}\u001b[0m\u001b[1;33m)\u001b[0m\u001b[1;33m\u001b[0m\u001b[1;33m\u001b[0m\u001b[0m\n\u001b[0m\u001b[0;32m      5\u001b[0m \u001b[1;31m# , save_to=\"report.csv\")\u001b[0m\u001b[1;33m\u001b[0m\u001b[1;33m\u001b[0m\u001b[1;33m\u001b[0m\u001b[0m\n",
      "\u001b[1;32m~\\Anaconda3\\envs\\tf2.3\\lib\\site-packages\\appstoreconnect\\api.py\u001b[0m in \u001b[0;36mdownload_sales_and_trends_reports\u001b[1;34m(self, filters, save_to)\u001b[0m\n\u001b[0;32m    694\u001b[0m                 \u001b[0murl\u001b[0m \u001b[1;33m=\u001b[0m \u001b[1;34m\"%s%s\"\u001b[0m \u001b[1;33m%\u001b[0m \u001b[1;33m(\u001b[0m\u001b[0mBASE_API\u001b[0m\u001b[1;33m,\u001b[0m \u001b[0mSalesReport\u001b[0m\u001b[1;33m.\u001b[0m\u001b[0mendpoint\u001b[0m\u001b[1;33m)\u001b[0m\u001b[1;33m\u001b[0m\u001b[1;33m\u001b[0m\u001b[0m\n\u001b[0;32m    695\u001b[0m                 \u001b[0murl\u001b[0m \u001b[1;33m=\u001b[0m \u001b[0mself\u001b[0m\u001b[1;33m.\u001b[0m\u001b[0m_build_query_parameters\u001b[0m\u001b[1;33m(\u001b[0m\u001b[0murl\u001b[0m\u001b[1;33m,\u001b[0m \u001b[0mfilters\u001b[0m\u001b[1;33m)\u001b[0m\u001b[1;33m\u001b[0m\u001b[1;33m\u001b[0m\u001b[0m\n\u001b[1;32m--> 696\u001b[1;33m                 \u001b[0mresponse\u001b[0m \u001b[1;33m=\u001b[0m \u001b[0mself\u001b[0m\u001b[1;33m.\u001b[0m\u001b[0m_api_call\u001b[0m\u001b[1;33m(\u001b[0m\u001b[0murl\u001b[0m\u001b[1;33m)\u001b[0m\u001b[1;33m\u001b[0m\u001b[1;33m\u001b[0m\u001b[0m\n\u001b[0m\u001b[0;32m    697\u001b[0m \u001b[1;33m\u001b[0m\u001b[0m\n\u001b[0;32m    698\u001b[0m                 \u001b[1;32mif\u001b[0m \u001b[0msave_to\u001b[0m\u001b[1;33m:\u001b[0m\u001b[1;33m\u001b[0m\u001b[1;33m\u001b[0m\u001b[0m\n",
      "\u001b[1;32m~\\Anaconda3\\envs\\tf2.3\\lib\\site-packages\\appstoreconnect\\api.py\u001b[0m in \u001b[0;36m_api_call\u001b[1;34m(self, url, method, post_data)\u001b[0m\n\u001b[0;32m    295\u001b[0m \t\t\t\traise APIError(\n\u001b[0;32m    296\u001b[0m                                         \u001b[0mpayload\u001b[0m\u001b[1;33m.\u001b[0m\u001b[0mget\u001b[0m\u001b[1;33m(\u001b[0m\u001b[1;34m'errors'\u001b[0m\u001b[1;33m,\u001b[0m \u001b[1;33m[\u001b[0m\u001b[1;33m]\u001b[0m\u001b[1;33m)\u001b[0m\u001b[1;33m[\u001b[0m\u001b[1;36m0\u001b[0m\u001b[1;33m]\u001b[0m\u001b[1;33m.\u001b[0m\u001b[0mget\u001b[0m\u001b[1;33m(\u001b[0m\u001b[1;34m'detail'\u001b[0m\u001b[1;33m,\u001b[0m \u001b[1;34m'Unknown error'\u001b[0m\u001b[1;33m)\u001b[0m\u001b[1;33m,\u001b[0m\u001b[1;33m\u001b[0m\u001b[1;33m\u001b[0m\u001b[0m\n\u001b[1;32m--> 297\u001b[1;33m                                         \u001b[0mpayload\u001b[0m\u001b[1;33m.\u001b[0m\u001b[0mget\u001b[0m\u001b[1;33m(\u001b[0m\u001b[1;34m'errors'\u001b[0m\u001b[1;33m,\u001b[0m \u001b[1;33m[\u001b[0m\u001b[1;33m]\u001b[0m\u001b[1;33m)\u001b[0m\u001b[1;33m[\u001b[0m\u001b[1;36m0\u001b[0m\u001b[1;33m]\u001b[0m\u001b[1;33m.\u001b[0m\u001b[0mget\u001b[0m\u001b[1;33m(\u001b[0m\u001b[1;34m'status'\u001b[0m\u001b[1;33m,\u001b[0m \u001b[1;32mNone\u001b[0m\u001b[1;33m)\u001b[0m\u001b[1;33m\u001b[0m\u001b[1;33m\u001b[0m\u001b[0m\n\u001b[0m\u001b[0;32m    298\u001b[0m \t\t\t\t)\n\u001b[0;32m    299\u001b[0m                         \u001b[1;32mreturn\u001b[0m \u001b[0mpayload\u001b[0m\u001b[1;33m\u001b[0m\u001b[1;33m\u001b[0m\u001b[0m\n",
      "\u001b[1;31mAPIError\u001b[0m: Invalid vendor number specified. Try again."
     ]
    }
   ],
   "source": [
    "with open(\"D:/AuthKey_BB99VD4S7X.p8\", \"r\") as f:\n",
    "    key_file = f.read()\n",
    "api = Api(key_id=\"BB99VD4S7X\", key_file=key_file, issuer_id=\"252fd97c-ea6e-45b9-a795-693f38f8dbaf\")\n",
    "api.download_sales_and_trends_reports(filters={\"frequency\": \"DAILY\", \"reportSubType\":\"DETAILED\", \"reportType\":\"SALES\", \"vendorNumber\": \"88755846\"})\n",
    "# , save_to=\"report.csv\")"
   ]
  },
  {
   "cell_type": "markdown",
   "metadata": {},
   "source": [
    "## 구글 애널리틱스\n",
    "\n",
    "### pageviews.csv"
   ]
  },
  {
   "cell_type": "code",
   "execution_count": 3,
   "metadata": {},
   "outputs": [],
   "source": [
    "# hdcdvp.homie@gmail.com\n",
    "# ghalghkdlxld!\n",
    "# yesterday = (datetime.today() - timedelta(days=1))\n",
    "start = datetime.datetime(2017, 1, 1)\n",
    "end = datetime.datetime(2021, 5, 31)\n",
    "token = \"ya29.a0AfH6SMB0ZXx4iXFHI4akXbVmboQi7xzSglctKuX-nZnBHMmAAkEpADxBqGFv6xy8WSNDQzCnplepFPCjwsvhTFR9KG7jhV_s1ePkf0sGDqbInR-L8VtkBaYyuKk214zY3vRnYB8C-van-4zwmOXInCeI84a-E1U\""
   ]
  },
  {
   "cell_type": "code",
   "execution_count": 3,
   "metadata": {},
   "outputs": [
    {
     "data": {
      "application/vnd.jupyter.widget-view+json": {
       "model_id": "6dae99b416a746cf89fed0bb55118ea4",
       "version_major": 2,
       "version_minor": 0
      },
      "text/plain": [
       "HBox(children=(FloatProgress(value=0.0), HTML(value='')))"
      ]
     },
     "metadata": {},
     "output_type": "display_data"
    },
    {
     "name": "stdout",
     "output_type": "stream",
     "text": [
      "\n"
     ]
    }
   ],
   "source": [
    "views = pd.DataFrame()\n",
    "for i in tqdm(range(100)):\n",
    "    try:\n",
    "        start = end - datetime.timedelta(days=10*(i+1))\n",
    "        end = end - datetime.timedelta(days=10*i)\n",
    "        url = f\"https://www.googleapis.com/analytics/v3/data/ga?ids=ga%3A206525354&start-date={start.strftime('%Y-%m-%d')}&end-date={end.strftime('%Y-%m-%d')}&metrics=ga%3Ausers%2Cga%3Apageviews&dimensions=ga%3ApageTitle%2Cga%3Adate&sort=-ga%3Adate&access_token={token}\"\n",
    "        req = urllib.request.urlopen(url).read().decode(\"utf8\")\n",
    "        js = json.loads(req)\n",
    "        \n",
    "        df = pd.DataFrame(js[\"rows\"], columns=pd.DataFrame(js[\"columnHeaders\"])[\"name\"].str.split(\":\").str[1].tolist())\n",
    "        views = pd.concat([views, df])\n",
    "    except:\n",
    "        break"
   ]
  },
  {
   "cell_type": "code",
   "execution_count": 7,
   "metadata": {},
   "outputs": [],
   "source": [
    "# views.tail()\n",
    "# views.to_excel(f\"pageviews_{end}.xlsx\")"
   ]
  },
  {
   "cell_type": "markdown",
   "metadata": {},
   "source": [
    "### MAU"
   ]
  },
  {
   "cell_type": "code",
   "execution_count": 4,
   "metadata": {},
   "outputs": [],
   "source": [
    "url = f\"https://www.googleapis.com/analytics/v3/data/ga?ids=ga%3A206525354&start-date={start.strftime('%Y-%m-%d')}&end-date={end.strftime('%Y-%m-%d')}&metrics=ga%3Ausers%2Cga%3Apageviews&dimensions=ga%3AyearMonth&access_token={token}\"\n",
    "req = urllib.request.urlopen(url).read().decode(\"utf8\")\n",
    "js = json.loads(req)\n",
    "\n",
    "mau = pd.DataFrame(js[\"rows\"], columns=pd.DataFrame(js[\"columnHeaders\"])[\"name\"].str.split(\":\").str[1].tolist())"
   ]
  },
  {
   "cell_type": "code",
   "execution_count": 8,
   "metadata": {},
   "outputs": [],
   "source": [
    "# mau.tail()\n",
    "# mau.to_csv(f\"mau_2021-05-31.csv\", encoding=\"euc-kr\", index=False)"
   ]
  },
  {
   "cell_type": "markdown",
   "metadata": {},
   "source": [
    "## 개발사 데이터"
   ]
  },
  {
   "cell_type": "markdown",
   "metadata": {},
   "source": [
    "## sys_code"
   ]
  },
  {
   "cell_type": "code",
   "execution_count": 9,
   "metadata": {},
   "outputs": [],
   "source": [
    "with open(\"signup_password.pkl\", \"wb\") as f:\n",
    "\tpk.dump(\"dtRW2aj14KYl7aQl8oZd\", f)"
   ]
  },
  {
   "cell_type": "code",
   "execution_count": 16,
   "metadata": {},
   "outputs": [],
   "source": [
    "with open(\"signup_password.pkl\", \"rb\") as f:\n",
    "     password = pk.load(f)\n",
    "conn = psycopg2.connect(host=\"postgresql-production1.cluster-ro-cxb5zwyq1mu5.ap-northeast-2.rds.amazonaws.com\", dbname=\"hdc\", user=\"postgres\", password=password)\n",
    "cur = conn.cursor(cursor_factory=RealDictCursor)\n",
    "query = f\"SELECT * FROM hdc_sys.sys_code;\"\n",
    "cur.execute(query)\n",
    "result = cur.fetchall()\n",
    "\n",
    "sys_code = pd.DataFrame(result)"
   ]
  },
  {
   "cell_type": "code",
   "execution_count": 18,
   "metadata": {},
   "outputs": [],
   "source": [
    "# sys_code.head()"
   ]
  },
  {
   "cell_type": "markdown",
   "metadata": {},
   "source": [
    "## apt_mst.csv"
   ]
  },
  {
   "cell_type": "code",
   "execution_count": 8,
   "metadata": {},
   "outputs": [],
   "source": [
    "with open(\"signup_password.pkl\", \"rb\") as f:\n",
    "     password = pk.load(f)\n",
    "conn = psycopg2.connect(host=\"postgresql-production1.cluster-ro-cxb5zwyq1mu5.ap-northeast-2.rds.amazonaws.com\", dbname=\"hdc\", user=\"postgres\", password=password)\n",
    "cur = conn.cursor(cursor_factory=RealDictCursor)\n",
    "query = f\"SELECT * FROM hdc_apt.apt_mst;\"\n",
    "cur.execute(query)\n",
    "result = cur.fetchall()\n",
    "\n",
    "apt_mst = pd.DataFrame(result)"
   ]
  },
  {
   "cell_type": "code",
   "execution_count": 19,
   "metadata": {},
   "outputs": [],
   "source": [
    "# apt_mst.to_csv(\"apt_mst_2021-05-31.csv\", encoding=\"euc-kr\",  index=False)\n",
    "# apt_mst.head()"
   ]
  },
  {
   "cell_type": "markdown",
   "metadata": {},
   "source": [
    "## signup.csv"
   ]
  },
  {
   "cell_type": "code",
   "execution_count": 27,
   "metadata": {},
   "outputs": [],
   "source": [
    "with open(\"signup_password.pkl\", \"rb\") as f:\n",
    "     password = pk.load(f)\n",
    "conn = psycopg2.connect(host=\"postgresql-production1.cluster-ro-cxb5zwyq1mu5.ap-northeast-2.rds.amazonaws.com\", dbname=\"hdc\", user=\"postgres\", password=password)\n",
    "cur = conn.cursor(cursor_factory=RealDictCursor)\n",
    "query = f\"SELECT hdc_mbr.mbr_mst.mbr_id, hdc_mbr.mbr_mst.mbr_sys_ty, hdc_mbr.mbr_mst.mbr_sex, hdc_mbr.mbr_mst.mbr_birth, hdc_mbr.mbr_mst.regist_dt, hdc_mbr.mbr_mst.mbr_delete_date, hdc_mbr.mbr_mst.mbr_st,\\\n",
    "hdc_apt.apt_unit_mbr.mbr_id,\\\n",
    "hdc_apt.apt_unit_info.dng_no, hdc_apt.apt_unit_info.ho_no,\\\n",
    "hdc_apt.apt_mst.apt_name \\\n",
    "FROM hdc_mbr.mbr_mst \\\n",
    "LEFT OUTER JOIN hdc_apt.apt_unit_mbr \\\n",
    "LEFT OUTER JOIN hdc_apt.apt_unit_info \\\n",
    "LEFT OUTER JOIN hdc_apt.apt_mst \\\n",
    "ON hdc_apt.apt_unit_info.apt_id = hdc_apt.apt_mst.apt_id \\\n",
    "ON hdc_apt.apt_unit_mbr.unit_id = hdc_apt.apt_unit_info.unit_id \\\n",
    "ON hdc_mbr.mbr_mst.mbr_id = hdc_apt.apt_unit_mbr.mbr_id;\"\n",
    "cur.execute(query)\n",
    "result = cur.fetchall()\n",
    "signup = pd.DataFrame(result)"
   ]
  },
  {
   "cell_type": "code",
   "execution_count": 23,
   "metadata": {},
   "outputs": [],
   "source": [
    "signup = signup[signup[\"apt_name\"].notna()]\n",
    "signup[\"mbr_sys_ty\"] = signup[\"mbr_sys_ty\"].map({\"C000004001\":\"입주예정자\", \"C000004001\":\"입주자(대표)\", \"C000004001\":\"입주자(세대원)\"})\n",
    "signup[\"mbr_sex\"] = signup[\"mbr_sex\"].map({\"0\":\"남자\", \"1\":\"여자\"})\n",
    "signup[\"mbr_st\"] = signup[\"mbr_st\"].map({\"C000002001\":\"정상\", \"C000002005\":\"탈퇴\", \"C000002007\":\"퇴거\", \"C000002008\":\"휴면상태\"})\n",
    "signup = signup.rename({\"mbr_id\":\"아이디\", \"apt_name\":\"아파트 명\", \"dng_no\":\"동\", \"ho_no\":\"호\", \"mbr_sys_ty\":\"회원유형\", \"mbr_st\":\"회원상태\", \"mbr_sex\":\"성별\", \"mbr_birth\":\"생년월일\", \"regist_dt\":\"가입일\", \"mbr_delete_date\":\"탈퇴일\"}, axis=1)\n",
    "signup[\"성별/생년월일\"] = signup[\"성별\"] + \"/\" + signup[\"생년월일\"]\n",
    "signup = signup[[\"아이디\", \"아파트 명\", \"동\", \"호\", \"회원유형\", \"회원상태\", \"성별/생년월일\", \"가입일\", \"탈퇴일\"]]"
   ]
  },
  {
   "cell_type": "code",
   "execution_count": 13,
   "metadata": {},
   "outputs": [],
   "source": [
    "# signup.to_csv(\"D:\\디지털혁신팀\\태블로\\마이호미\\마이호미_FINAL\\signup_2021-05-31.csv\", encoding=\"euc-kr\")\n",
    "# signup.head()"
   ]
  }
 ],
 "metadata": {
  "kernelspec": {
   "display_name": "Python 3",
   "language": "python",
   "name": "python3"
  },
  "language_info": {
   "codemirror_mode": {
    "name": "ipython",
    "version": 3
   },
   "file_extension": ".py",
   "mimetype": "text/x-python",
   "name": "python",
   "nbconvert_exporter": "python",
   "pygments_lexer": "ipython3",
   "version": "3.7.7"
  }
 },
 "nbformat": 4,
 "nbformat_minor": 4
}
