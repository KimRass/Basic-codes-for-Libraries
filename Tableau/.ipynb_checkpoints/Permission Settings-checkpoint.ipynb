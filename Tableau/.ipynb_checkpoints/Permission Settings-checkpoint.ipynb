{
 "cells": [
  {
   "cell_type": "markdown",
   "metadata": {},
   "source": [
    "- Source: https://tableau.github.io/server-client-python/docs/api-ref\n",
    "- \"HDC현대산업개발: \"2a21240d-3f53-4f02-944d-b01647c3dd51\""
   ]
  },
  {
   "cell_type": "code",
   "execution_count": 280,
   "metadata": {},
   "outputs": [],
   "source": [
    "import tableauserverclient as TSC\n",
    "import pandas as pd"
   ]
  },
  {
   "cell_type": "code",
   "execution_count": 284,
   "metadata": {},
   "outputs": [],
   "source": [
    "hr = pd.read_excel(\"D:/디지털혁신팀/태블로/협업플랫폼 사용량/협업플랫폼 사용량_FINAL/HR/직원명단_202106.xlsx\")\n",
    "\n",
    "empls = {str(row[\"사번\"]):(row[\"본부명\"], row[\"조직명\"], row[\"성명\"]) for _, row in hr.iterrows()}"
   ]
  },
  {
   "cell_type": "markdown",
   "metadata": {},
   "source": [
    "## SIgn In"
   ]
  },
  {
   "cell_type": "code",
   "execution_count": 285,
   "metadata": {},
   "outputs": [],
   "source": [
    "tableau_auth = TSC.PersonalAccessTokenAuth(\"admin_TOKEN\", \"ptMT15t7Sku0mRWa6GXShg==:grXsjSUvwPpFTtznK9mERO3Z930tnHlV\")\n",
    "server = TSC.Server(\"http://218.153.56.75/\", use_server_version=True)"
   ]
  },
  {
   "cell_type": "markdown",
   "metadata": {},
   "source": [
    "## Projects"
   ]
  },
  {
   "cell_type": "code",
   "execution_count": 306,
   "metadata": {},
   "outputs": [],
   "source": [
    "# with server.auth.sign_in(tableau_auth):\n",
    "#         all_project_items, pagination_item = server.projects.get()\n",
    "#         print([proj.name for proj in all_project_items])"
   ]
  },
  {
   "cell_type": "markdown",
   "metadata": {},
   "source": [
    "## Workbooks"
   ]
  },
  {
   "cell_type": "code",
   "execution_count": 307,
   "metadata": {},
   "outputs": [],
   "source": [
    "# with server.auth.sign_in(tableau_auth):\n",
    "#     all_wbs, pagination_item = server.workbooks.get()\n",
    "# all_wbs = [(wb.project_name, wb.name) for wb in all_wbs]\n",
    "# all_wbs = pd.DataFrame(all_wbs, columns=[\"prj\", \"wb\"])\n",
    "# all_wbs = all_wbs.sort_values(by=[\"prj\", \"wb\"])"
   ]
  },
  {
   "cell_type": "markdown",
   "metadata": {},
   "source": [
    "## Groups"
   ]
  },
  {
   "cell_type": "code",
   "execution_count": 304,
   "metadata": {},
   "outputs": [],
   "source": [
    "all_groups = list()\n",
    "with server.auth.sign_in(tableau_auth):\n",
    "    groups, pagination_item = server.groups.get()\n",
    "    for group in groups:\n",
    "        pagination_item = server.groups.populate_users(group)\n",
    "        all_groups.extend([(group.name,) + empls[user.name] + (user.site_role,) if user.name in empls.keys() else (group.name, None, None, user.name, user.site_role) for user in group.users])\n",
    "all_groups\n",
    "all_groups = pd.DataFrame(all_groups, columns=[\"group\", \"hq\", \"dep\", \"name\", \"site_role\"])\n",
    "all_groups = all_groups.sort_values(by=[\"group\", \"hq\", \"dep\", \"name\", \"site_role\"])\n",
    "all_groups = all_groups.reset_index(drop=True)"
   ]
  },
  {
   "cell_type": "code",
   "execution_count": 309,
   "metadata": {},
   "outputs": [
    {
     "data": {
      "text/html": [
       "<div>\n",
       "<style scoped>\n",
       "    .dataframe tbody tr th:only-of-type {\n",
       "        vertical-align: middle;\n",
       "    }\n",
       "\n",
       "    .dataframe tbody tr th {\n",
       "        vertical-align: top;\n",
       "    }\n",
       "\n",
       "    .dataframe thead th {\n",
       "        text-align: right;\n",
       "    }\n",
       "</style>\n",
       "<table border=\"1\" class=\"dataframe\">\n",
       "  <thead>\n",
       "    <tr style=\"text-align: right;\">\n",
       "      <th></th>\n",
       "      <th>group</th>\n",
       "      <th>hq</th>\n",
       "      <th>dep</th>\n",
       "      <th>name</th>\n",
       "      <th>site_role</th>\n",
       "    </tr>\n",
       "  </thead>\n",
       "  <tbody>\n",
       "    <tr>\n",
       "      <th>0</th>\n",
       "      <td>\"HR현황\" 접근 가능 그룹</td>\n",
       "      <td>건설본부</td>\n",
       "      <td>건설기획팀</td>\n",
       "      <td>심 창식</td>\n",
       "      <td>Viewer</td>\n",
       "    </tr>\n",
       "    <tr>\n",
       "      <th>1</th>\n",
       "      <td>\"HR현황\" 접근 가능 그룹</td>\n",
       "      <td>미래혁신본부</td>\n",
       "      <td>HR혁신팀</td>\n",
       "      <td>선 영욱</td>\n",
       "      <td>Viewer</td>\n",
       "    </tr>\n",
       "    <tr>\n",
       "      <th>2</th>\n",
       "      <td>\"HR현황\" 접근 가능 그룹</td>\n",
       "      <td>미래혁신본부</td>\n",
       "      <td>디지털플랫폼팀</td>\n",
       "      <td>박 미숙</td>\n",
       "      <td>Viewer</td>\n",
       "    </tr>\n",
       "    <tr>\n",
       "      <th>3</th>\n",
       "      <td>\"HR현황\" 접근 가능 그룹</td>\n",
       "      <td>미래혁신본부</td>\n",
       "      <td>미래전략팀</td>\n",
       "      <td>김 아현</td>\n",
       "      <td>Viewer</td>\n",
       "    </tr>\n",
       "    <tr>\n",
       "      <th>4</th>\n",
       "      <td>\"본부장 회의\" 접근 가능 그룹</td>\n",
       "      <td>개발영업본부</td>\n",
       "      <td>도시개발1팀</td>\n",
       "      <td>임 유빈</td>\n",
       "      <td>Viewer</td>\n",
       "    </tr>\n",
       "  </tbody>\n",
       "</table>\n",
       "</div>"
      ],
      "text/plain": [
       "               group      hq      dep  name site_role\n",
       "0    \"HR현황\" 접근 가능 그룹    건설본부    건설기획팀  심 창식    Viewer\n",
       "1    \"HR현황\" 접근 가능 그룹  미래혁신본부    HR혁신팀  선 영욱    Viewer\n",
       "2    \"HR현황\" 접근 가능 그룹  미래혁신본부  디지털플랫폼팀  박 미숙    Viewer\n",
       "3    \"HR현황\" 접근 가능 그룹  미래혁신본부    미래전략팀  김 아현    Viewer\n",
       "4  \"본부장 회의\" 접근 가능 그룹  개발영업본부   도시개발1팀  임 유빈    Viewer"
      ]
     },
     "execution_count": 309,
     "metadata": {},
     "output_type": "execute_result"
    }
   ],
   "source": [
    "# all_groups.to_csv(\"D:/디지털혁신팀/태블로/all_groups.csv\", index=False, encoding=\"euc-kr\")\n",
    "all_groups.head()"
   ]
  },
  {
   "cell_type": "markdown",
   "metadata": {},
   "source": [
    "## Users"
   ]
  },
  {
   "cell_type": "code",
   "execution_count": 294,
   "metadata": {},
   "outputs": [],
   "source": [
    "# with server.auth.sign_in(tableau_auth):\n",
    "#     all_users, pagination_item = server.users.get()\n",
    "# all_users = [empls[user.name] + (user.site_role,) if user.name in empls.keys() else (None, None, user.name) for user in all_users]\n",
    "# all_users = pd.DataFrame(all_users, columns=[\"hq\", \"dep\", \"name\", \"site_role\"])\n",
    "# all_users = all_users.sort_values(by=[\"hq\", \"dep\", \"name\", \"site_role\"])\n",
    "# all_users = all_users.reset_index(drop=True)"
   ]
  },
  {
   "cell_type": "code",
   "execution_count": 301,
   "metadata": {},
   "outputs": [],
   "source": [
    "# all_users.to_csv(\"D:/디지털혁신팀/태블로/all_users.csv\", index=False, encoding=\"euc-kr\")\n",
    "# all_users"
   ]
  },
  {
   "cell_type": "markdown",
   "metadata": {},
   "source": [
    "### Sign Out"
   ]
  },
  {
   "cell_type": "code",
   "execution_count": 33,
   "metadata": {
    "scrolled": true
   },
   "outputs": [],
   "source": [
    "# server.auth.sign_out()"
   ]
  },
  {
   "cell_type": "code",
   "execution_count": null,
   "metadata": {},
   "outputs": [],
   "source": []
  },
  {
   "cell_type": "code",
   "execution_count": null,
   "metadata": {},
   "outputs": [],
   "source": []
  },
  {
   "cell_type": "code",
   "execution_count": null,
   "metadata": {},
   "outputs": [],
   "source": []
  },
  {
   "cell_type": "code",
   "execution_count": null,
   "metadata": {},
   "outputs": [],
   "source": []
  },
  {
   "cell_type": "code",
   "execution_count": null,
   "metadata": {},
   "outputs": [],
   "source": []
  },
  {
   "cell_type": "code",
   "execution_count": null,
   "metadata": {},
   "outputs": [],
   "source": []
  },
  {
   "cell_type": "code",
   "execution_count": null,
   "metadata": {},
   "outputs": [],
   "source": []
  }
 ],
 "metadata": {
  "kernelspec": {
   "display_name": "Python 3",
   "language": "python",
   "name": "python3"
  },
  "language_info": {
   "codemirror_mode": {
    "name": "ipython",
    "version": 3
   },
   "file_extension": ".py",
   "mimetype": "text/x-python",
   "name": "python",
   "nbconvert_exporter": "python",
   "pygments_lexer": "ipython3",
   "version": "3.7.7"
  }
 },
 "nbformat": 4,
 "nbformat_minor": 4
}
