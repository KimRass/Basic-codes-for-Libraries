{
 "cells": [
  {
   "cell_type": "code",
   "execution_count": 2,
   "metadata": {},
   "outputs": [
    {
     "data": {
      "text/plain": [
       "[3, 2, 1]"
      ]
     },
     "execution_count": 2,
     "metadata": {},
     "output_type": "execute_result"
    }
   ],
   "source": [
    "list(reversed([1, 2, 3]))"
   ]
  },
  {
   "cell_type": "code",
   "execution_count": null,
   "metadata": {},
   "outputs": [],
   "source": [
    "# 거꾸로 E: 5 => 6 - 1\n",
    "# 똑바로 N: 5 => 5\n",
    "# [9 4 9 12 4 13]\n",
    "# ACCCCA 4 6 - 1 - 1\n",
    "# ACCCCC 5\n",
    "# AACCCC 4\n",
    "# AACCAA 3 => min(A이 아닌 원소의 idx 최대값, len(nums) - A 아닌 원소 idx 최소값)\n",
    "# nums.count(0)\n",
    "def solution(name):\n",
    "    nums = [min(ord(char) - ord(\"A\"), ord(\"Z\") - ord(char) + 1) for char in name]\n",
    "    lst = [0 if char==\"A\" else 1 for char in name]\n",
    "    lst[0] = 0\n",
    "    temp = min(len(nums) - list(reversed(lst)).index(1), len(nums) - lst.index(1))\n",
    "    return sum(nums) + temp"
   ]
  }
 ],
 "metadata": {
  "kernelspec": {
   "display_name": "Python 3",
   "language": "python",
   "name": "python3"
  },
  "language_info": {
   "codemirror_mode": {
    "name": "ipython",
    "version": 3
   },
   "file_extension": ".py",
   "mimetype": "text/x-python",
   "name": "python",
   "nbconvert_exporter": "python",
   "pygments_lexer": "ipython3",
   "version": "3.7.7"
  }
 },
 "nbformat": 4,
 "nbformat_minor": 4
}
