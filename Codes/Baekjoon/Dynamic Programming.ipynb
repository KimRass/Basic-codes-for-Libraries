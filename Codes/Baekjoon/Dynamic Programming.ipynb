{
 "cells": [
  {
   "cell_type": "markdown",
   "metadata": {},
   "source": [
    "## Fibonacci Sequence"
   ]
  },
  {
   "cell_type": "code",
   "execution_count": 12,
   "metadata": {},
   "outputs": [],
   "source": [
    "def fibo(n):\n",
    "    dp = [0]*101\n",
    "    dp[1] = 1\n",
    "    dp[2] = 1\n",
    "    for i in range(3, n+1):\n",
    "        dp[i] = dp[i-1] + dp[i-2]\n",
    "    return dp[n]"
   ]
  },
  {
   "cell_type": "markdown",
   "metadata": {},
   "source": [
    "## 개미 전사"
   ]
  },
  {
   "cell_type": "code",
   "execution_count": 41,
   "metadata": {},
   "outputs": [
    {
     "name": "stdout",
     "output_type": "stream",
     "text": [
      "4\n",
      "1 3 1 5\n"
     ]
    }
   ],
   "source": [
    "n = int(input())\n",
    "array = list(map(int, input().split()))"
   ]
  },
  {
   "cell_type": "code",
   "execution_count": 42,
   "metadata": {},
   "outputs": [],
   "source": [
    "def max_k(n, array):\n",
    "    dp_table = [0]*(n + 1)\n",
    "    if n >= 4:\n",
    "        sum_1 = array[0] + max_k(n-2, array[2:])\n",
    "        sum_2 = array[1] + max_k(n-3, array[3:])\n",
    "    elif n == 3:\n",
    "        sum_1 = array[0] + array[2]\n",
    "        sum_2 = array[1]\n",
    "    elif n == 2:\n",
    "        sum_1 = array[0]\n",
    "        sum_2 = array[1]\n",
    "    else:\n",
    "        sum_1 = array[0]\n",
    "        sum_2 = array[0]\n",
    "    dp_table[n] = max(sum_1, sum_2)\n",
    "    return dp_table[n]"
   ]
  },
  {
   "cell_type": "code",
   "execution_count": 44,
   "metadata": {},
   "outputs": [
    {
     "data": {
      "text/plain": [
       "8"
      ]
     },
     "execution_count": 44,
     "metadata": {},
     "output_type": "execute_result"
    }
   ],
   "source": [
    "max_k(n, array)"
   ]
  },
  {
   "cell_type": "code",
   "execution_count": 45,
   "metadata": {},
   "outputs": [],
   "source": [
    "dp = [0]*(n + 1)\n",
    "dp[0] = array[0]\n",
    "dp[1] = max(array[0], array[1])\n",
    "for k in range(2, n):\n",
    "    dp[k] = max(dp[k-2] + array[-1], dp[k-1])"
   ]
  },
  {
   "cell_type": "code",
   "execution_count": 46,
   "metadata": {},
   "outputs": [
    {
     "data": {
      "text/plain": [
       "8"
      ]
     },
     "execution_count": 46,
     "metadata": {},
     "output_type": "execute_result"
    }
   ],
   "source": [
    "dp[n-1]"
   ]
  },
  {
   "cell_type": "markdown",
   "metadata": {},
   "source": [
    "## 1로 만들기"
   ]
  },
  {
   "cell_type": "code",
   "execution_count": 58,
   "metadata": {},
   "outputs": [
    {
     "name": "stdout",
     "output_type": "stream",
     "text": [
      "26\n"
     ]
    }
   ],
   "source": [
    "x = int(input())"
   ]
  },
  {
   "cell_type": "code",
   "execution_count": 63,
   "metadata": {},
   "outputs": [],
   "source": [
    "def min_calc(x):\n",
    "    value_1 = x\n",
    "    value_2 = x\n",
    "    value_3 = x\n",
    "    value_4 = x\n",
    "    if x >= 2:\n",
    "        if x%5 == 0:\n",
    "            value_1 = 1 + min_calc(int(x/5))\n",
    "        if x%3 == 0:\n",
    "            value_2 = 1 + min_calc(int(x/3))\n",
    "        if x%2 == 0:\n",
    "            value_3 = 1 + min_calc(int(x/2))\n",
    "        value_4 = 1 + min_calc(x - 1)\n",
    "        return min([value_1, value_2, value_3, value_4])\n",
    "    else:\n",
    "        return 0"
   ]
  },
  {
   "cell_type": "code",
   "execution_count": 93,
   "metadata": {},
   "outputs": [],
   "source": [
    "d = [0]*(x + 1)\n",
    "for k in range(2, x + 1):\n",
    "    d[k] = d[k - 1] + 1\n",
    "    if k%5 == 0:\n",
    "        d[k] = min(1 + d[k - 1], 1 + d[k//5])\n",
    "    if k%3 == 0:\n",
    "        d[k] = min(1 + d[k - 1], 1 + d[k//3])\n",
    "    if k%2 == 0:\n",
    "        d[k] = min(1 + d[k - 1], 1 + d[k//2])"
   ]
  },
  {
   "cell_type": "code",
   "execution_count": 94,
   "metadata": {},
   "outputs": [
    {
     "data": {
      "text/plain": [
       "3"
      ]
     },
     "execution_count": 94,
     "metadata": {},
     "output_type": "execute_result"
    }
   ],
   "source": [
    "d[x]"
   ]
  },
  {
   "cell_type": "markdown",
   "metadata": {},
   "source": [
    "## 효율적인 화폐 구성"
   ]
  },
  {
   "cell_type": "code",
   "execution_count": 131,
   "metadata": {},
   "outputs": [
    {
     "name": "stdout",
     "output_type": "stream",
     "text": [
      "2 15\n",
      "3\n",
      "5\n"
     ]
    }
   ],
   "source": [
    "n, m = list(map(int, input().split()))\n",
    "values = list()\n",
    "for _ in range(n):\n",
    "    values.append(int(input()))\n",
    "\n",
    "d = [0]*(m + 1)\n",
    "d[1] = 1\n",
    "\n",
    "for k in values:\n",
    "    d[k] = 1\n",
    "for k in range(min(values) + 1, m + 1):\n",
    "    d[k] = min([d[k - x] for x in values]) + 1\n",
    "for k in range(min(values)):\n",
    "    d[k] = -1"
   ]
  },
  {
   "cell_type": "code",
   "execution_count": 132,
   "metadata": {},
   "outputs": [
    {
     "data": {
      "text/plain": [
       "3"
      ]
     },
     "execution_count": 132,
     "metadata": {},
     "output_type": "execute_result"
    }
   ],
   "source": [
    "d[m]"
   ]
  },
  {
   "cell_type": "markdown",
   "metadata": {},
   "source": [
    "## 금광"
   ]
  },
  {
   "cell_type": "code",
   "execution_count": null,
   "metadata": {},
   "outputs": [],
   "source": [
    "2\n",
    "3 4\n",
    "1 3 3 2 2 1 4 1 0 6 4 7\n",
    "4 4\n",
    "1 3 1 5 2 2 4 1 5 0 2 3 0 6 1 2"
   ]
  },
  {
   "cell_type": "code",
   "execution_count": 239,
   "metadata": {},
   "outputs": [
    {
     "name": "stdout",
     "output_type": "stream",
     "text": [
      "2\n",
      "3 4\n",
      "1 3 3 2 2 1 4 1 0 6 4 7\n",
      "4 4\n",
      "1 3 1 5 2 2 4 1 5 0 2 3 0 6 1 2\n",
      "19\n",
      "16\n"
     ]
    }
   ],
   "source": [
    "t = int(input())\n",
    "arrays = list()\n",
    "for _ in range(t):\n",
    "    n, m = list(map(int, input().split()))\n",
    "    arrays.append(list(map(int, input().split())))\n",
    "    \n",
    "for array in arrays:\n",
    "    temp = list()\n",
    "    temp.append([0]*m)\n",
    "    for i in range(0, len(array), m):\n",
    "        temp.append(array[i:i + m])\n",
    "    temp.append([0]*m)\n",
    "    array = temp\n",
    "\n",
    "    d = [[0]*m]*(n+2)\n",
    "    d[0] = [0, 0, 0, 0]\n",
    "    for k in range(1, n+1):\n",
    "        d[k] = [array[k][0]] + [0]*(m-1)\n",
    "    d[n+1] = [0, 0, 0, 0]\n",
    "\n",
    "    for i, j in [[a, b] for b in range(1, m) for a in range(1, n+1)]:\n",
    "        d[i][j] = array[i][j] + max(d[i-1][j-1], d[i][j-1], d[i+1][j-1])\n",
    "    print(max([d[m][-1] for m in range(n)]), sep=\"\\n\")"
   ]
  },
  {
   "cell_type": "code",
   "execution_count": null,
   "metadata": {},
   "outputs": [],
   "source": []
  },
  {
   "cell_type": "code",
   "execution_count": null,
   "metadata": {},
   "outputs": [],
   "source": []
  },
  {
   "cell_type": "code",
   "execution_count": null,
   "metadata": {},
   "outputs": [],
   "source": []
  },
  {
   "cell_type": "code",
   "execution_count": null,
   "metadata": {},
   "outputs": [],
   "source": []
  },
  {
   "cell_type": "code",
   "execution_count": null,
   "metadata": {},
   "outputs": [],
   "source": []
  }
 ],
 "metadata": {
  "kernelspec": {
   "display_name": "Python 3",
   "language": "python",
   "name": "python3"
  },
  "language_info": {
   "codemirror_mode": {
    "name": "ipython",
    "version": 3
   },
   "file_extension": ".py",
   "mimetype": "text/x-python",
   "name": "python",
   "nbconvert_exporter": "python",
   "pygments_lexer": "ipython3",
   "version": "3.7.9"
  }
 },
 "nbformat": 4,
 "nbformat_minor": 4
}
