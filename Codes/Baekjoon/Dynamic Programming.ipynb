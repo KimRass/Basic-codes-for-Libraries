{
 "cells": [
  {
   "cell_type": "markdown",
   "metadata": {},
   "source": [
    "## Fibonacci Sequence"
   ]
  },
  {
   "cell_type": "code",
   "execution_count": 12,
   "metadata": {},
   "outputs": [],
   "source": [
    "def fibo(n):\n",
    "    dp = [0]*101\n",
    "    dp[1] = 1\n",
    "    dp[2] = 1\n",
    "    for i in range(3, n+1):\n",
    "        dp[i] = dp[i-1] + dp[i-2]\n",
    "    return dp[n]"
   ]
  },
  {
   "cell_type": "markdown",
   "metadata": {},
   "source": [
    "## 개미 전사"
   ]
  },
  {
   "cell_type": "code",
   "execution_count": 3,
   "metadata": {},
   "outputs": [
    {
     "name": "stdout",
     "output_type": "stream",
     "text": [
      "4\n",
      "1 3 1 5\n"
     ]
    }
   ],
   "source": [
    "n = int(input())\n",
    "array = list(map(int, input().split()))"
   ]
  },
  {
   "cell_type": "code",
   "execution_count": 13,
   "metadata": {},
   "outputs": [
    {
     "data": {
      "text/plain": [
       "[1, 2, 3, 4, 11, 1, 11, 1, 11, 1]"
      ]
     },
     "execution_count": 13,
     "metadata": {},
     "output_type": "execute_result"
    }
   ],
   "source": [
    "a = [5, 6, 1, 7, 5, 2, 9, 13, 7]\n",
    "[1, 2, 3, 4, 11, 1, 11, 1, 11, 1]"
   ]
  },
  {
   "cell_type": "code",
   "execution_count": 38,
   "metadata": {},
   "outputs": [],
   "source": [
    "def max_k(n, array):\n",
    "    dp_table = [0]*(n + 1)\n",
    "    if n >= 4:\n",
    "        sum_1 = array[0] + max_k(n-2, array[2:])\n",
    "        sum_2 = array[1] + max_k(n-3, array[3:])\n",
    "    elif n == 3:\n",
    "        sum_1 = array[0] + array[2]\n",
    "        sum_2 = array[1]\n",
    "    elif n == 2:\n",
    "        sum_1 = array[0]\n",
    "        sum_2 = array[1]\n",
    "    else:\n",
    "        sum_1 = array[0]\n",
    "        sum_2 = array[0]\n",
    "    if sum_1 >= sum_2:\n",
    "        dp_table[n] = sum_1\n",
    "    else:\n",
    "        dp_table[n] = sum_2\n",
    "    return dp_table[n]"
   ]
  },
  {
   "cell_type": "code",
   "execution_count": 41,
   "metadata": {},
   "outputs": [
    {
     "data": {
      "text/plain": [
       "29"
      ]
     },
     "execution_count": 41,
     "metadata": {},
     "output_type": "execute_result"
    }
   ],
   "source": [
    "max_k(len(a), a)"
   ]
  },
  {
   "cell_type": "markdown",
   "metadata": {},
   "source": [
    "## 1로 만들기"
   ]
  },
  {
   "cell_type": "code",
   "execution_count": null,
   "metadata": {},
   "outputs": [],
   "source": [
    "26 25 5 1"
   ]
  },
  {
   "cell_type": "code",
   "execution_count": 74,
   "metadata": {},
   "outputs": [],
   "source": [
    "def min_calc(n):\n",
    "    value_1 = n\n",
    "    value_2 = n\n",
    "    value_3 = n\n",
    "    value_4 = n\n",
    "    if n >= 2:\n",
    "        if n%5 == 0:\n",
    "            value_1 = 1 + min_calc(int(n/5))\n",
    "        if n%3 == 0:\n",
    "            value_2 = 1 + min_calc(int(n/3))\n",
    "        if n%2 == 0:\n",
    "            value_3 = 1 + min_calc(int(n/2))\n",
    "        value_4 = 1 + min_calc(n - 1)\n",
    "#         print(value_1, value_2, value_3, value_4)\n",
    "        return min([value_1, value_2, value_3, value_4])\n",
    "    else:\n",
    "        return 0"
   ]
  },
  {
   "cell_type": "markdown",
   "metadata": {},
   "source": [
    "## 효율적인 화폐 구성"
   ]
  },
  {
   "cell_type": "code",
   "execution_count": 80,
   "metadata": {},
   "outputs": [
    {
     "name": "stdout",
     "output_type": "stream",
     "text": [
      "2 15\n",
      "2\n",
      "3\n"
     ]
    }
   ],
   "source": [
    "n, m = list(map(int, input().split()))\n",
    "values = list()\n",
    "for _ in range(n):\n",
    "    values.append(int(input()))"
   ]
  },
  {
   "cell_type": "code",
   "execution_count": 83,
   "metadata": {},
   "outputs": [
    {
     "data": {
      "text/plain": [
       "[2, 3]"
      ]
     },
     "execution_count": 83,
     "metadata": {},
     "output_type": "execute_result"
    }
   ],
   "source": [
    "values"
   ]
  },
  {
   "cell_type": "code",
   "execution_count": 91,
   "metadata": {},
   "outputs": [],
   "source": [
    "def min_num(values, m):\n",
    "    values = sorted(values, reverse=True)\n",
    "    if m in values:\n",
    "        return 1\n",
    "    if m%max(values[1:]) == 0:\n",
    "    else:\n",
    "        return min_num(values, m - max(values[1:])) - 1\n",
    "    return 1 + min_num(values, m - max(values))"
   ]
  },
  {
   "cell_type": "code",
   "execution_count": null,
   "metadata": {},
   "outputs": [],
   "source": [
    "1 + min_num(values, 15 - 3)\n",
    "1 + (1 + min_num(values, 15 - 3 - 3))"
   ]
  },
  {
   "cell_type": "code",
   "execution_count": 92,
   "metadata": {},
   "outputs": [
    {
     "data": {
      "text/plain": [
       "-7"
      ]
     },
     "execution_count": 92,
     "metadata": {},
     "output_type": "execute_result"
    }
   ],
   "source": [
    "min_num([2, 5], 18)"
   ]
  },
  {
   "cell_type": "code",
   "execution_count": null,
   "metadata": {},
   "outputs": [],
   "source": [
    "18\n",
    "18 - 5 = 13\n",
    "13 - 5 = 8\n",
    "8 - 5 = 3\n",
    "3 + 5 = 8"
   ]
  }
 ],
 "metadata": {
  "kernelspec": {
   "display_name": "Python 3",
   "language": "python",
   "name": "python3"
  },
  "language_info": {
   "codemirror_mode": {
    "name": "ipython",
    "version": 3
   },
   "file_extension": ".py",
   "mimetype": "text/x-python",
   "name": "python",
   "nbconvert_exporter": "python",
   "pygments_lexer": "ipython3",
   "version": "3.7.7"
  }
 },
 "nbformat": 4,
 "nbformat_minor": 4
}
