{
 "cells": [
  {
   "cell_type": "code",
   "execution_count": null,
   "metadata": {},
   "outputs": [],
   "source": [
    "def solution(n, lost, reserve):\n",
    "    n -= len(lost)\n",
    "    for num in lost:\n",
    "        # done = False\n",
    "        if num - 1 in reserve:\n",
    "            reserve.remove(num - 1)\n",
    "            # done = True\n",
    "            n += 1\n",
    "        elif num + 1 in reserve:\n",
    "            reserve.remove(num + 1)\n",
    "            n += 1\n",
    "        else:\n",
    "            continue           \n",
    "    return n"
   ]
  }
 ],
 "metadata": {
  "kernelspec": {
   "display_name": "Python 3",
   "language": "python",
   "name": "python3"
  },
  "language_info": {
   "codemirror_mode": {
    "name": "ipython",
    "version": 3
   },
   "file_extension": ".py",
   "mimetype": "text/x-python",
   "name": "python",
   "nbconvert_exporter": "python",
   "pygments_lexer": "ipython3",
   "version": "3.8.5"
  }
 },
 "nbformat": 4,
 "nbformat_minor": 4
}
