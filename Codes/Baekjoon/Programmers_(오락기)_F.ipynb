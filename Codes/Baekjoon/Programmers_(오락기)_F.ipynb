{
 "cells": [
  {
   "cell_type": "code",
   "execution_count": null,
   "metadata": {},
   "outputs": [],
   "source": [
    "def solution(name):\n",
    "    nums = [min(ord(char) - ord(\"A\"), ord(\"Z\") - ord(char) + 1) for char in name]\n",
    "    if nums[-1] == 0 or nums[1] == 0:\n",
    "        return sum(nums) + len(nums) - 2\n",
    "    else:\n",
    "        return sum(nums) + len(nums) - 1"
   ]
  }
 ],
 "metadata": {
  "kernelspec": {
   "display_name": "Python 3",
   "language": "python",
   "name": "python3"
  },
  "language_info": {
   "codemirror_mode": {
    "name": "ipython",
    "version": 3
   },
   "file_extension": ".py",
   "mimetype": "text/x-python",
   "name": "python",
   "nbconvert_exporter": "python",
   "pygments_lexer": "ipython3",
   "version": "3.8.5"
  }
 },
 "nbformat": 4,
 "nbformat_minor": 4
}
