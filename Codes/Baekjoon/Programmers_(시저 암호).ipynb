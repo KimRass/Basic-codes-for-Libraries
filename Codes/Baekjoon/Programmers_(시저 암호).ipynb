{
 "cells": [
  {
   "cell_type": "code",
   "execution_count": 2,
   "metadata": {},
   "outputs": [
    {
     "data": {
      "text/plain": [
       "0"
      ]
     },
     "execution_count": 2,
     "metadata": {},
     "output_type": "execute_result"
    }
   ],
   "source": [
    "def solution(s, n):\n",
    "    lowers = \"abcdefghijklmnopqrstuvwxyz\"*3\n",
    "    uppers = \"ABCDEFGHIJKLMNOPQRSTUVWXYZ\"*3\n",
    "    string = \"\"\n",
    "    for char in s:\n",
    "        if char != \" \":\n",
    "            if char == char.lower():\n",
    "                char = lowers[lowers.find(char) + n]\n",
    "            else:\n",
    "                char = uppers[uppers.find(char) + n]\n",
    "        else:\n",
    "            char = \" \"\n",
    "        string += char\n",
    "    return string"
   ]
  },
  {
   "cell_type": "code",
   "execution_count": 37,
   "metadata": {},
   "outputs": [],
   "source": [
    "def solution(s, n):\n",
    "    string = \"\"\n",
    "    for char in s:\n",
    "        if char.isalpha():\n",
    "            char = chr((ord(char) - ord(\"a\") + n)%26 + ord(\"a\"))\n",
    "#         elif char.islower():\n",
    "#             char = lowers[lowers.find(char) + n]\n",
    "        else:\n",
    "            pass\n",
    "        string += char\n",
    "    return string"
   ]
  },
  {
   "cell_type": "code",
   "execution_count": null,
   "metadata": {},
   "outputs": [],
   "source": [
    "solution()"
   ]
  }
 ],
 "metadata": {
  "kernelspec": {
   "display_name": "Python 3",
   "language": "python",
   "name": "python3"
  },
  "language_info": {
   "codemirror_mode": {
    "name": "ipython",
    "version": 3
   },
   "file_extension": ".py",
   "mimetype": "text/x-python",
   "name": "python",
   "nbconvert_exporter": "python",
   "pygments_lexer": "ipython3",
   "version": "3.8.5"
  }
 },
 "nbformat": 4,
 "nbformat_minor": 4
}
