{
 "cells": [
  {
   "cell_type": "code",
   "execution_count": 19,
   "metadata": {},
   "outputs": [],
   "source": [
    "# lost    [0 1 0 1 0] [0 1 0 1 0] [0 0 1]\n",
    "# reserve [1 0 1 0 1] [0 0 1 0 0] [1 0 0]\n",
    "# return  3 + 2       3 + 1       2 + 0\n",
    "from collections import deque\n",
    "\n",
    "def solution(n, lost, reserve):\n",
    "    length = len(lost)\n",
    "    lost = deque([1 if _ + 1 in lost else 0 for _ in range(n)])\n",
    "    reserve = deque([1 if _ + 1 in reserve else 0 for _ in range(n)])\n",
    "    cnt = 0\n",
    "    for idx in range(n):\n",
    "        print(idx)\n",
    "        if reserve[idx] == 1:\n",
    "            if lost[idx - 1] == 1 and idx != 0:\n",
    "                lost[idx - 1] = 0\n",
    "                cnt += 1\n",
    "            elif lost[idx] == 1:\n",
    "                lost[idx - 1] = 0\n",
    "                lost[idx] = 0\n",
    "                cnt += 1\n",
    "            elif idx <= n - 2 and lost[idx + 1]:\n",
    "                lost[idx - 1] = 0\n",
    "                lost[idx] = 0\n",
    "                lost[idx + 1] = 0\n",
    "                cnt += 1\n",
    "            else:\n",
    "                pass\n",
    "    return n - length + cnt"
   ]
  },
  {
   "cell_type": "code",
   "execution_count": 20,
   "metadata": {},
   "outputs": [
    {
     "name": "stdout",
     "output_type": "stream",
     "text": [
      "0\n",
      "1\n",
      "2\n",
      "3\n",
      "4\n"
     ]
    },
    {
     "data": {
      "text/plain": [
       "5"
      ]
     },
     "execution_count": 20,
     "metadata": {},
     "output_type": "execute_result"
    }
   ],
   "source": [
    "solution(5, [2, 4], [1, 3, 5])"
   ]
  },
  {
   "cell_type": "code",
   "execution_count": null,
   "metadata": {},
   "outputs": [],
   "source": []
  }
 ],
 "metadata": {
  "kernelspec": {
   "display_name": "Python 3",
   "language": "python",
   "name": "python3"
  },
  "language_info": {
   "codemirror_mode": {
    "name": "ipython",
    "version": 3
   },
   "file_extension": ".py",
   "mimetype": "text/x-python",
   "name": "python",
   "nbconvert_exporter": "python",
   "pygments_lexer": "ipython3",
   "version": "3.8.5"
  }
 },
 "nbformat": 4,
 "nbformat_minor": 4
}
