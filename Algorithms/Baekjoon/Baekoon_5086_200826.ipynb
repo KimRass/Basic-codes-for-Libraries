{
 "cells": [
  {
   "cell_type": "code",
   "execution_count": 37,
   "metadata": {},
   "outputs": [
    {
     "name": "stdout",
     "output_type": "stream",
     "text": [
      "8 16\n",
      "32 4\n",
      "17 5\n",
      "0 0\n",
      "factor\n",
      "multiple\n",
      "neither\n"
     ]
    }
   ],
   "source": [
    "a = []\n",
    "b = []\n",
    "while True:\n",
    "    i, j = map(int, input().split())\n",
    "    a.append(i)\n",
    "    b.append(j)\n",
    "    if i == 0:\n",
    "        break\n",
    "\n",
    "for m, n in zip(a, b):\n",
    "    if m * n == 0:\n",
    "        pass\n",
    "    elif (m % n == m) & (n % m == 0):\n",
    "        print(\"factor\")\n",
    "    elif (n % m == n) & (m % n == 0):\n",
    "        print(\"multiple\")\n",
    "    else:\n",
    "        print(\"neither\")"
   ]
  },
  {
   "cell_type": "code",
   "execution_count": null,
   "metadata": {},
   "outputs": [],
   "source": []
  }
 ],
 "metadata": {
  "kernelspec": {
   "display_name": "Python 3",
   "language": "python",
   "name": "python3"
  },
  "language_info": {
   "codemirror_mode": {
    "name": "ipython",
    "version": 3
   },
   "file_extension": ".py",
   "mimetype": "text/x-python",
   "name": "python",
   "nbconvert_exporter": "python",
   "pygments_lexer": "ipython3",
   "version": "3.7.7"
  }
 },
 "nbformat": 4,
 "nbformat_minor": 4
}
