{
 "cells": [
  {
   "cell_type": "code",
   "execution_count": 26,
   "metadata": {},
   "outputs": [
    {
     "name": "stdout",
     "output_type": "stream",
     "text": [
      "5\n",
      "55 185\n",
      "58 183\n",
      "88 186\n",
      "60 175\n",
      "46 155\n",
      "2 2 1 2 5 "
     ]
    }
   ],
   "source": [
    "N = int(input())\n",
    "xs = list()\n",
    "ys = list()\n",
    "for _ in range(N):\n",
    "    x, y = input().split()\n",
    "    xs.append(int(x))\n",
    "    ys.append(int(y))\n",
    "for i in range(N):\n",
    "    x_i = xs[i]\n",
    "    y_i = ys[i]\n",
    "    cnt = 1\n",
    "    for j in range(N):\n",
    "        if j != i:\n",
    "            x_j = xs[j]\n",
    "            y_j = ys[j]\n",
    "            if x_i < x_j and y_i < y_j:\n",
    "                cnt += 1\n",
    "    print(cnt, end=\" \")"
   ]
  }
 ],
 "metadata": {
  "kernelspec": {
   "display_name": "Python 3",
   "language": "python",
   "name": "python3"
  },
  "language_info": {
   "codemirror_mode": {
    "name": "ipython",
    "version": 3
   },
   "file_extension": ".py",
   "mimetype": "text/x-python",
   "name": "python",
   "nbconvert_exporter": "python",
   "pygments_lexer": "ipython3",
   "version": "3.7.7"
  }
 },
 "nbformat": 4,
 "nbformat_minor": 4
}
