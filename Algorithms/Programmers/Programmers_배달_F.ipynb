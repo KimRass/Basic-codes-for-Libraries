{
 "cells": [
  {
   "cell_type": "code",
   "execution_count": null,
   "metadata": {},
   "outputs": [],
   "source": [
    "from collections import deque\n",
    "\n",
    "def solution(N, road, K):\n",
    "    road2time = dict()\n",
    "    dep2arr = {i:deque() for i in range(1, N + 1)}\n",
    "    for el in road:\n",
    "        road = tuple([min(el[0], el[1]), max(el[0], el[1])])\n",
    "        time2 = el[2]\n",
    "        time1 = road2time[road] if road in road2time.keys() else 10000\n",
    "        if time2 < time1:\n",
    "            road2time.update({road:time2})\n",
    "        if el[1] not in dep2arr[el[0]]:\n",
    "            dep2arr[el[0]].append(el[1])\n",
    "        if el[0] not in dep2arr[el[1]]:\n",
    "            dep2arr[el[1]].append(el[0])\n",
    "    \n",
    "    # cnt = 0\n",
    "    # for dep in range(2, N + 1):\n",
    "    #     if road2time[(1, dep)] <= K:\n",
    "    #         cnt += 1\n",
    "    stack = [1]\n",
    "    route = list()\n",
    "    # while True:\n",
    "    #     dep = stack[-1]\n",
    "    #     if dep in dep2arr.keys():\n",
    "    #         print(\"dep2arr popleft\")\n",
    "    #         stack.append(dep2arr[dep].popleft())\n",
    "    #     else:\n",
    "    #         print(\"stack pop\")\n",
    "    #         route.append(stack.pop())\n",
    "    print(road2time)\n",
    "    print(dep2arr)\n",
    "    # print(cnt)\n",
    "    return None"
   ]
  }
 ],
 "metadata": {
  "kernelspec": {
   "display_name": "Python 3",
   "language": "python",
   "name": "python3"
  },
  "language_info": {
   "codemirror_mode": {
    "name": "ipython",
    "version": 3
   },
   "file_extension": ".py",
   "mimetype": "text/x-python",
   "name": "python",
   "nbconvert_exporter": "python",
   "pygments_lexer": "ipython3",
   "version": "3.7.7"
  }
 },
 "nbformat": 4,
 "nbformat_minor": 4
}
