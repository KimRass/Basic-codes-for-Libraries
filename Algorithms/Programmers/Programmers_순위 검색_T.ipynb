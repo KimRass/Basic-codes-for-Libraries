{
 "cells": [
  {
   "cell_type": "code",
   "execution_count": null,
   "metadata": {},
   "outputs": [],
   "source": [
    "def solution(info, query):\n",
    "    info = [i.split(\" \") for i in info]\n",
    "    query = [q.replace(\"-\", \"cppjavapythonbackendfrontendjuniorseniorchickenpizza\").split(\" \") for q in query]\n",
    "    same = [[1 if i[0] in q[0] and i[1] in q[2] and i[2] in q[4] and i[3] in q[6] and int(i[4]) >= int(q[7]) else 0 for i in info] for q in query]\n",
    "    return [sum(t) for t in same]"
   ]
  }
 ],
 "metadata": {
  "kernelspec": {
   "display_name": "Python 3",
   "language": "python",
   "name": "python3"
  },
  "language_info": {
   "codemirror_mode": {
    "name": "ipython",
    "version": 3
   },
   "file_extension": ".py",
   "mimetype": "text/x-python",
   "name": "python",
   "nbconvert_exporter": "python",
   "pygments_lexer": "ipython3",
   "version": "3.7.7"
  }
 },
 "nbformat": 4,
 "nbformat_minor": 4
}
