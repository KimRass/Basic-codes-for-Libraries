{
 "cells": [
  {
   "cell_type": "markdown",
   "metadata": {},
   "source": [
    "- Source: https://programmers.co.kr/learn/courses/30/lessons/68936#"
   ]
  },
  {
   "cell_type": "code",
   "execution_count": 4,
   "metadata": {},
   "outputs": [],
   "source": [
    "def solution(arr):\n",
    "    leng = len(arr)\n",
    "    cur_leng = leng*2\n",
    "    ones = sum([sum(i) for i in arr])\n",
    "    zeros = leng**2 - ones\n",
    "    if leng == 1:\n",
    "        return [zeros, ones]\n",
    "    elif leng == 2:\n",
    "        return [zeros//4, ones//4]\n",
    "    else:\n",
    "        while cur_leng != 2:\n",
    "            cur_leng //= 2\n",
    "            for i in range(leng//cur_leng):\n",
    "                for j in range(leng//cur_leng):\n",
    "                    sub_arr = [col for row in arr[cur_leng*i:cur_leng*(i + 1)] for col in row[cur_leng*j:cur_leng*(j + 1)]]\n",
    "                    if sum(sub_arr) == 0:\n",
    "                        zeros -= (len(sub_arr) - 1)\n",
    "                        for p in range(cur_leng*i, cur_leng*(i + 1)):\n",
    "                            for q in range(cur_leng*j, cur_leng*(j + 1)):\n",
    "                                arr[p][q] = 2\n",
    "                    elif sum(sub_arr) == len(sub_arr):\n",
    "                        ones -= (len(sub_arr) - 1)\n",
    "                        for p in range(cur_leng*i, cur_leng*(i + 1)):\n",
    "                            for q in range(cur_leng*j, cur_leng*(j + 1)):\n",
    "                                arr[p][q] = 2\n",
    "    return [zeros, ones]"
   ]
  },
  {
   "cell_type": "code",
   "execution_count": 5,
   "metadata": {},
   "outputs": [
    {
     "data": {
      "text/plain": [
       "[10, 15]"
      ]
     },
     "execution_count": 5,
     "metadata": {},
     "output_type": "execute_result"
    }
   ],
   "source": [
    "arr = [[1,1,1,1,1,1,1,1],[0,1,1,1,1,1,1,1],[0,0,0,0,1,1,1,1],[0,1,0,0,1,1,1,1],[0,0,0,0,0,0,1,1],[0,0,0,0,0,0,0,1],[0,0,0,0,1,0,0,1],[0,0,0,0,1,1,1,1]]\n",
    "\n",
    "solution(arr)"
   ]
  }
 ],
 "metadata": {
  "kernelspec": {
   "display_name": "Python 3",
   "language": "python",
   "name": "python3"
  },
  "language_info": {
   "codemirror_mode": {
    "name": "ipython",
    "version": 3
   },
   "file_extension": ".py",
   "mimetype": "text/x-python",
   "name": "python",
   "nbconvert_exporter": "python",
   "pygments_lexer": "ipython3",
   "version": "3.8.5"
  }
 },
 "nbformat": 4,
 "nbformat_minor": 4
}
