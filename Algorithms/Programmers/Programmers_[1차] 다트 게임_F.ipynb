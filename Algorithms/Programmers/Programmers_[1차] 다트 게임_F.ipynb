{
 "cells": [
  {
   "cell_type": "code",
   "execution_count": 21,
   "metadata": {},
   "outputs": [
    {
     "name": "stdout",
     "output_type": "stream",
     "text": [
      "[1, 2, 3]\n"
     ]
    }
   ],
   "source": [
    "import re\n",
    "\n",
    "def solution(dartResult):\n",
    "    # dartResult = \"1S2D*3T\"\n",
    "    # dartResult = \"1D2S#10S\"\n",
    "    # dartResult = \"1D2S0T\"\n",
    "# dartResult = \"1S*2T*3S\"\n",
    "# dartResult =\n",
    "# dartResult =\n",
    "# dartResult = dartResult.replace(\"10\", \"X\")\n",
    "    res = re.findall(r\"\\d+[SDT][*#]*\", dartResult)\n",
    "    # for score in res:\n",
    "    nums = list()\n",
    "    for score in res:\n",
    "        temp = int(re.sub(r\"[SDT*#]\", \"\", score))\n",
    "        nums.append(temp)\n",
    "    print(nums)\n",
    "        #     return None\n",
    "\n",
    "    if \"D\" in res[0]:\n",
    "        nums[0] = nums[0]**2\n",
    "    #     nums[1] = nums[1]**2\n",
    "    if \"T\" in res[0]:\n",
    "        nums[0] = nums[0]**3\n",
    "    #     nums[1] = nums[1]**3\n",
    "    if \"*\" in res[0]:\n",
    "        nums[0] = nums[0]*2\n",
    "    #     nums[1] = nums[1]*2\n",
    "    if \"#\" in res[0]:\n",
    "        nums[0] = nums[0]*(-1)\n",
    "    #     nums[1] = nums[1]*(-1)\n",
    "\n",
    "    if \"D\" in res[1]:\n",
    "        nums[1] = nums[1]**2\n",
    "        nums[0] = nums[0]**2\n",
    "    if \"T\" in res[1]:\n",
    "        nums[1] = nums[1]**3\n",
    "        nums[0] = nums[0]**3\n",
    "    if \"*\" in res[1]:\n",
    "        nums[1] = nums[1]*2\n",
    "        nums[0] = nums[0]*2\n",
    "    if \"#\" in res[1]:\n",
    "        nums[1] = nums[1]*(-1)\n",
    "        nums[0] = nums[0]*(-1)\n",
    "\n",
    "    if \"D\" in res[2]:\n",
    "        nums[2] = nums[2]**2\n",
    "        nums[1] = nums[1]**2\n",
    "    if \"T\" in res[2]:\n",
    "        nums[2] = nums[2]**3\n",
    "        nums[1] = nums[1]**3\n",
    "    if \"*\" in res[2]:\n",
    "        nums[2] = nums[2]*2\n",
    "        nums[1] = nums[1]*2\n",
    "    if \"#\" in res[2]:\n",
    "        nums[2] = nums[2]*(-1)\n",
    "        nums[1] = nums[1]*(-1)\n",
    "    return sum(nums)"
   ]
  },
  {
   "cell_type": "code",
   "execution_count": 22,
   "metadata": {},
   "outputs": [
    {
     "ename": "IndexError",
     "evalue": "string index out of range",
     "output_type": "error",
     "traceback": [
      "\u001b[1;31m---------------------------------------------------------------------------\u001b[0m",
      "\u001b[1;31mIndexError\u001b[0m                                Traceback (most recent call last)",
      "\u001b[1;32m<ipython-input-22-3973ab9accda>\u001b[0m in \u001b[0;36m<module>\u001b[1;34m\u001b[0m\n\u001b[1;32m----> 1\u001b[1;33m \u001b[1;34m\"ab\"\u001b[0m\u001b[1;33m[\u001b[0m\u001b[1;36m2\u001b[0m\u001b[1;33m]\u001b[0m \u001b[1;33m==\u001b[0m \u001b[1;34m\"\"\u001b[0m\u001b[1;33m\u001b[0m\u001b[1;33m\u001b[0m\u001b[0m\n\u001b[0m",
      "\u001b[1;31mIndexError\u001b[0m: string index out of range"
     ]
    }
   ],
   "source": [
    "\"ab\"[2] == \"\""
   ]
  },
  {
   "cell_type": "code",
   "execution_count": null,
   "metadata": {},
   "outputs": [],
   "source": [
    "\n"
   ]
  }
 ],
 "metadata": {
  "kernelspec": {
   "display_name": "Python 3",
   "language": "python",
   "name": "python3"
  },
  "language_info": {
   "codemirror_mode": {
    "name": "ipython",
    "version": 3
   },
   "file_extension": ".py",
   "mimetype": "text/x-python",
   "name": "python",
   "nbconvert_exporter": "python",
   "pygments_lexer": "ipython3",
   "version": "3.8.5"
  }
 },
 "nbformat": 4,
 "nbformat_minor": 4
}
