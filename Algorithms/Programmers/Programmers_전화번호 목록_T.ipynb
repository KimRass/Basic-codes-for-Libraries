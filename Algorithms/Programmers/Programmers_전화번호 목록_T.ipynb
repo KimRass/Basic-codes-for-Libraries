{
 "cells": [
  {
   "cell_type": "code",
   "execution_count": 17,
   "metadata": {},
   "outputs": [],
   "source": [
    "phone_book1 = [\"119\", \"97674223\", \"1195524421\"]\n",
    "phone_book2 = [\"123\", \"456\", \"789\"]"
   ]
  },
  {
   "cell_type": "markdown",
   "metadata": {},
   "source": [
    "## Use the characteristic of string sorting"
   ]
  },
  {
   "cell_type": "code",
   "execution_count": 1,
   "metadata": {},
   "outputs": [],
   "source": [
    "def solution(phone_book):\n",
    "    phone_book = sorted(phone_book)\n",
    "    answer = True\n",
    "    for i in range(len(phone_book) - 1):\n",
    "        if phone_book[i+1].startswith(phone_book[i]):\n",
    "            answer = False\n",
    "    return answer"
   ]
  },
  {
   "cell_type": "code",
   "execution_count": 3,
   "metadata": {},
   "outputs": [
    {
     "data": {
      "text/plain": [
       "False"
      ]
     },
     "execution_count": 3,
     "metadata": {},
     "output_type": "execute_result"
    }
   ],
   "source": [
    "solution(phone_book)"
   ]
  },
  {
   "cell_type": "markdown",
   "metadata": {},
   "source": [
    "## Use `hash()`\n",
    "- `lst`나 `dic.values()`보다 `dic.keys()`에서 원하는 원소를 찾는 게 더 빠름."
   ]
  },
  {
   "cell_type": "code",
   "execution_count": 29,
   "metadata": {},
   "outputs": [],
   "source": [
    "def solution(phone_book):\n",
    "    answer = True\n",
    "    hashes = dict()\n",
    "    for phone_num in phone_book:\n",
    "        hashes[hash(phone_num)] = 1\n",
    "    for phone_num in phone_book:\n",
    "        temp = \"\"\n",
    "        for num in phone_num[:-1]:\n",
    "            temp += num\n",
    "            if hash(temp) in hashes:\n",
    "                answer = False\n",
    "                break\n",
    "    return answer"
   ]
  },
  {
   "cell_type": "code",
   "execution_count": 30,
   "metadata": {},
   "outputs": [
    {
     "data": {
      "text/plain": [
       "False"
      ]
     },
     "execution_count": 30,
     "metadata": {},
     "output_type": "execute_result"
    }
   ],
   "source": [
    "solution(phone_book1)"
   ]
  }
 ],
 "metadata": {
  "kernelspec": {
   "display_name": "Python 3",
   "language": "python",
   "name": "python3"
  },
  "language_info": {
   "codemirror_mode": {
    "name": "ipython",
    "version": 3
   },
   "file_extension": ".py",
   "mimetype": "text/x-python",
   "name": "python",
   "nbconvert_exporter": "python",
   "pygments_lexer": "ipython3",
   "version": "3.8.5"
  }
 },
 "nbformat": 4,
 "nbformat_minor": 4
}
