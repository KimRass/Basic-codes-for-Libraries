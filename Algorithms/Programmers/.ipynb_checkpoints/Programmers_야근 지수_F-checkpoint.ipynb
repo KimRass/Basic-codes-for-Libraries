{
 "cells": [
  {
   "cell_type": "code",
   "execution_count": 1,
   "metadata": {},
   "outputs": [],
   "source": [
    "def solution(n, works):\n",
    "    works = sorted(works, reverse=True)\n",
    "    while n > 0:\n",
    "        maxim = max(works)\n",
    "        if maxim == 0:\n",
    "            return 0\n",
    "        else:\n",
    "            maxim_idx = works.index(maxim)\n",
    "            works[maxim_idx] = maxim - 1\n",
    "            n -= 1\n",
    "    return sum([i**2 for i in works])"
   ]
  },
  {
   "cell_type": "code",
   "execution_count": null,
   "metadata": {},
   "outputs": [],
   "source": []
  }
 ],
 "metadata": {
  "kernelspec": {
   "display_name": "Python 3",
   "language": "python",
   "name": "python3"
  },
  "language_info": {
   "codemirror_mode": {
    "name": "ipython",
    "version": 3
   },
   "file_extension": ".py",
   "mimetype": "text/x-python",
   "name": "python",
   "nbconvert_exporter": "python",
   "pygments_lexer": "ipython3",
   "version": "3.7.7"
  }
 },
 "nbformat": 4,
 "nbformat_minor": 4
}
