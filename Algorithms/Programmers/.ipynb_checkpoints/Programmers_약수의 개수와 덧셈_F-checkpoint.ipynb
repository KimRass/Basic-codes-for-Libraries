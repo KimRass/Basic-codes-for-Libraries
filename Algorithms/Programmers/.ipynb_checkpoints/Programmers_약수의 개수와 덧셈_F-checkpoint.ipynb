{
 "cells": [
  {
   "cell_type": "code",
   "execution_count": null,
   "metadata": {},
   "outputs": [],
   "source": [
    "import heapq as hq\n",
    "\n",
    "def solution(left, right):\n",
    "    maxim = 1000\n",
    "    nums = [i for i in range(2, maxim + 1)]\n",
    "    \n",
    "    primes = list()\n",
    "    while nums:\n",
    "    # for _ in range(10):\n",
    "        tar = hq.heappop(nums)\n",
    "        num = tar*2\n",
    "        while num <= maxim:\n",
    "            nums.remove(num)\n",
    "            num += num\n",
    "        # print(tar)\n",
    "        primes.append(tar)\n",
    "    \n",
    "    mem = [0 for i in range(1, maxim + 1)]\n",
    "    # for num in [i for i in range(1, maxim + 1)]:\n",
    "    #     if num == 1:\n",
    "    #         mem[num] = 1\n",
    "    #     else:\n",
    "    for prime in primes:\n",
    "        num = prime\n",
    "        mem[num] = 1\n",
    "        while True:\n",
    "            \n",
    "        \n",
    "    return None"
   ]
  }
 ],
 "metadata": {
  "kernelspec": {
   "display_name": "Python 3",
   "language": "python",
   "name": "python3"
  },
  "language_info": {
   "codemirror_mode": {
    "name": "ipython",
    "version": 3
   },
   "file_extension": ".py",
   "mimetype": "text/x-python",
   "name": "python",
   "nbconvert_exporter": "python",
   "pygments_lexer": "ipython3",
   "version": "3.7.7"
  }
 },
 "nbformat": 4,
 "nbformat_minor": 4
}
