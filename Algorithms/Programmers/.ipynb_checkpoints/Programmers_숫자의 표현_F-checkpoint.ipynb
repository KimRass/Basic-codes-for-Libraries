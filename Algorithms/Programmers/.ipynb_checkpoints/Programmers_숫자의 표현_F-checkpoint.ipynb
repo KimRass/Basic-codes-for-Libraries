{
 "cells": [
  {
   "cell_type": "code",
   "execution_count": null,
   "metadata": {},
   "outputs": [],
   "source": [
    "# a, k\n",
    "# a, ... a+k-1\n",
    "\n",
    "# (2a+k-1)/2*k == n\n",
    "# (2a+k-1)*k == 2n\n",
    "# 2n의 약수의 개수:\n",
    "# 30: 1 2 3 5 6 10 15 30\n",
    "# n = 15\n",
    "# k = 2\n",
    "# print(((2*n)//k + 1 - k)//2)\n",
    "\n",
    "def solution(n):\n",
    "    maxim = int((2*n)**(1/2))\n",
    "    cnt = 0\n",
    "    for i in range(1, maxim + 1):\n",
    "        if (2*n)%i == 0:\n",
    "        # if (2*n)%i == 0 and ((2*n)//i + 1 - i)//2 > 0:\n",
    "            cnt += 1\n",
    "    return cnt\n",
    "    # return None"
   ]
  }
 ],
 "metadata": {
  "kernelspec": {
   "display_name": "Python 3",
   "language": "python",
   "name": "python3"
  },
  "language_info": {
   "codemirror_mode": {
    "name": "ipython",
    "version": 3
   },
   "file_extension": ".py",
   "mimetype": "text/x-python",
   "name": "python",
   "nbconvert_exporter": "python",
   "pygments_lexer": "ipython3",
   "version": "3.7.7"
  }
 },
 "nbformat": 4,
 "nbformat_minor": 4
}
