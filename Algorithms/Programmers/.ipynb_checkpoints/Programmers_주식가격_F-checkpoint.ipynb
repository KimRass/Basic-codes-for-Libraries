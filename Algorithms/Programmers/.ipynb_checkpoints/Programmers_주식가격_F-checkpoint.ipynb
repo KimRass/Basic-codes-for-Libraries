{
 "cells": [
  {
   "cell_type": "code",
   "execution_count": null,
   "metadata": {},
   "outputs": [],
   "source": [
    "def solution(prices):\n",
    "    ans = [0 for _ in range(len(prices))]\n",
    "    # stack = list()\n",
    "    # for idx in range(len(prices)):\n",
    "    #     for k in range(idx + 1):\n",
    "    #         print(idx, k, min(prices[k:idx + 1]), prices[k], min(prices[k:idx + 1]) >= prices[k])\n",
    "    #         if min(prices[k:idx + 1]) >= prices[k]:\n",
    "    #             ans[k] += 1\n",
    "    for idx in range(len(prices)):\n",
    "        price = prices[idx]\n",
    "        for idx2 in range(len(prices[idx:])):\n",
    "            price2 = prices[idx2]\n",
    "            if price <= price2:\n",
    "                ans[idx] += 1\n",
    "    ans[0] -= 1\n",
    "    return ans"
   ]
  }
 ],
 "metadata": {
  "kernelspec": {
   "display_name": "Python 3",
   "language": "python",
   "name": "python3"
  },
  "language_info": {
   "codemirror_mode": {
    "name": "ipython",
    "version": 3
   },
   "file_extension": ".py",
   "mimetype": "text/x-python",
   "name": "python",
   "nbconvert_exporter": "python",
   "pygments_lexer": "ipython3",
   "version": "3.7.7"
  }
 },
 "nbformat": 4,
 "nbformat_minor": 4
}
