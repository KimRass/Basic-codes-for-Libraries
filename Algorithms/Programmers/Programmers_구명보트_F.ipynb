{
 "cells": [
  {
   "cell_type": "code",
   "execution_count": null,
   "metadata": {},
   "outputs": [],
   "source": [
    "# from collections import deque\n",
    "\n",
    "def solution(people, limit):\n",
    "    people = sorted(people, reverse=True)\n",
    "    idx = 0\n",
    "    cnt = 0\n",
    "    remainder = limit\n",
    "    ans = 0\n",
    "    while True:\n",
    "        if idx == len(people) or cnt == 2:\n",
    "            idx = 0\n",
    "            remainder = limit\n",
    "            cnt = 0\n",
    "            ans += 1\n",
    "        if len(people) == 0:\n",
    "            break\n",
    "        if people[idx] <= remainder:\n",
    "            remainder -= people[idx]\n",
    "            # people.remove(people[idx])\n",
    "            people = people[:idx] + people[idx + 1:]\n",
    "            cnt += 1\n",
    "            if remainder in people:\n",
    "                idx = people.index(remainder)\n",
    "        else:\n",
    "            idx += 1\n",
    "    return ans"
   ]
  }
 ],
 "metadata": {
  "kernelspec": {
   "display_name": "Python 3",
   "language": "python",
   "name": "python3"
  },
  "language_info": {
   "codemirror_mode": {
    "name": "ipython",
    "version": 3
   },
   "file_extension": ".py",
   "mimetype": "text/x-python",
   "name": "python",
   "nbconvert_exporter": "python",
   "pygments_lexer": "ipython3",
   "version": "3.7.7"
  }
 },
 "nbformat": 4,
 "nbformat_minor": 4
}
