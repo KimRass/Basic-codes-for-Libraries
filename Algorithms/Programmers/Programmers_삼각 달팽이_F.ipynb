{
 "cells": [
  {
   "cell_type": "code",
   "execution_count": null,
   "metadata": {},
   "outputs": [],
   "source": [
    "# 0 1 2 3 4 5\n",
    "# 5 5 5 5 5\n",
    "# 4 3 2 1\n",
    "# 2 3 4\n",
    "# 4 4\n",
    "# 3\n",
    "def solution(n):\n",
    "    ans = [[]]*n\n",
    "    print(ans)\n",
    "    num = 0\n",
    "    idx = -1\n",
    "    for cycle in range(n, 0, -1):\n",
    "        for _ in range(cycle):\n",
    "            if cycle%3 == 0:\n",
    "                idx += 1\n",
    "            elif cycle%3 == 2:\n",
    "                pass    \n",
    "            else:\n",
    "                idx -= 1\n",
    "            # if num <= cycle:\n",
    "            num += 1\n",
    "            # ans[idx] = num\n",
    "            print(cycle, idx, num)\n",
    "    print(ans)\n",
    "    # mem = dict()\n",
    "    # mem[3] = [[1], [2, 9], [3, 10, 8], [4, 5, 6, 7]]\n",
    "    # for k in range(4, n + 1):\n",
    "    #     for i in range(1, k - 1):\n",
    "    #           for j in range(1, i + 1):\n",
    "    #             mem[k][i][j] = mem[k - 1][i][j]\n",
    "    return None"
   ]
  }
 ],
 "metadata": {
  "kernelspec": {
   "display_name": "Python 3",
   "language": "python",
   "name": "python3"
  },
  "language_info": {
   "codemirror_mode": {
    "name": "ipython",
    "version": 3
   },
   "file_extension": ".py",
   "mimetype": "text/x-python",
   "name": "python",
   "nbconvert_exporter": "python",
   "pygments_lexer": "ipython3",
   "version": "3.7.7"
  }
 },
 "nbformat": 4,
 "nbformat_minor": 4
}
