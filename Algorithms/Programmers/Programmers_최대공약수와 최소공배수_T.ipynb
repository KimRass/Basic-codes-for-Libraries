{
 "cells": [
  {
   "cell_type": "code",
   "execution_count": null,
   "metadata": {},
   "outputs": [],
   "source": [
    "def solution(n, m):\n",
    "    def gcd(n, m):\n",
    "        maxim = max(n, m)\n",
    "        minim = min(n, m)\n",
    "        if maxim%minim == 0:\n",
    "            return minim\n",
    "        else:\n",
    "            return gcd(minim, maxim%minim)\n",
    "    g = gcd(n, m)\n",
    "    return [g, n*m//g]"
   ]
  }
 ],
 "metadata": {
  "kernelspec": {
   "display_name": "Python 3",
   "language": "python",
   "name": "python3"
  },
  "language_info": {
   "codemirror_mode": {
    "name": "ipython",
    "version": 3
   },
   "file_extension": ".py",
   "mimetype": "text/x-python",
   "name": "python",
   "nbconvert_exporter": "python",
   "pygments_lexer": "ipython3",
   "version": "3.7.7"
  }
 },
 "nbformat": 4,
 "nbformat_minor": 4
}
