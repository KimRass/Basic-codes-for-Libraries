{
 "cells": [
  {
   "cell_type": "code",
   "execution_count": null,
   "metadata": {},
   "outputs": [],
   "source": [
    "def solution(array, commands):\n",
    "    return list(map(lambda x:sorted(array[x[0]-1:x[1]])[x[2]-1], commands))"
   ]
  },
  {
   "cell_type": "code",
   "execution_count": null,
   "metadata": {},
   "outputs": [],
   "source": [
    "def solution(array, commands):\n",
    "    return [sorted(array[i-1:j])[k-1] for i, j, k in commands]"
   ]
  },
  {
   "cell_type": "code",
   "execution_count": null,
   "metadata": {},
   "outputs": [],
   "source": [
    "def solution(array, commands):\n",
    "    answer = []\n",
    "    for nums in commands:\n",
    "        i = nums[0]\n",
    "        j = nums[1]\n",
    "        k = nums[2]\n",
    "        pick = array[nums[0]-1:nums[1]]\n",
    "        pick = sorted(pick)\n",
    "        answer.append(pick[nums[2]-1])\n",
    "    return answer"
   ]
  }
 ],
 "metadata": {
  "kernelspec": {
   "display_name": "Python 3",
   "language": "python",
   "name": "python3"
  },
  "language_info": {
   "codemirror_mode": {
    "name": "ipython",
    "version": 3
   },
   "file_extension": ".py",
   "mimetype": "text/x-python",
   "name": "python",
   "nbconvert_exporter": "python",
   "pygments_lexer": "ipython3",
   "version": "3.7.7"
  }
 },
 "nbformat": 4,
 "nbformat_minor": 4
}
