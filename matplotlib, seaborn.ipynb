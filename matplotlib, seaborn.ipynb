{
 "cells": [
  {
   "cell_type": "markdown",
   "metadata": {},
   "source": [
    "# matplotlib"
   ]
  },
  {
   "cell_type": "code",
   "execution_count": 1,
   "metadata": {},
   "outputs": [],
   "source": [
    "import matplotlib as mpl"
   ]
  },
  {
   "cell_type": "markdown",
   "metadata": {},
   "source": [
    "## mpl.font_manager.FontProperties().get_name()"
   ]
  },
  {
   "cell_type": "code",
   "execution_count": 2,
   "metadata": {},
   "outputs": [
    {
     "ename": "AttributeError",
     "evalue": "module 'matplotlib' has no attribute 'font_manager'",
     "output_type": "error",
     "traceback": [
      "\u001b[1;31m---------------------------------------------------------------------------\u001b[0m",
      "\u001b[1;31mAttributeError\u001b[0m                            Traceback (most recent call last)",
      "\u001b[1;32m<ipython-input-2-3f0f9f371887>\u001b[0m in \u001b[0;36m<module>\u001b[1;34m\u001b[0m\n\u001b[0;32m      1\u001b[0m \u001b[0mpath\u001b[0m \u001b[1;33m=\u001b[0m \u001b[1;34m\"C:/Windows/Fonts/malgun.ttf\"\u001b[0m\u001b[1;33m\u001b[0m\u001b[1;33m\u001b[0m\u001b[0m\n\u001b[1;32m----> 2\u001b[1;33m \u001b[0mfont_name\u001b[0m \u001b[1;33m=\u001b[0m \u001b[0mmpl\u001b[0m\u001b[1;33m.\u001b[0m\u001b[0mfont_manager\u001b[0m\u001b[1;33m.\u001b[0m\u001b[0mFontProperties\u001b[0m\u001b[1;33m(\u001b[0m\u001b[0mfname\u001b[0m\u001b[1;33m=\u001b[0m\u001b[0mpath\u001b[0m\u001b[1;33m)\u001b[0m\u001b[1;33m.\u001b[0m\u001b[0mget_name\u001b[0m\u001b[1;33m(\u001b[0m\u001b[1;33m)\u001b[0m\u001b[1;33m\u001b[0m\u001b[1;33m\u001b[0m\u001b[0m\n\u001b[0m",
      "\u001b[1;31mAttributeError\u001b[0m: module 'matplotlib' has no attribute 'font_manager'"
     ]
    }
   ],
   "source": [
    "path = \"C:/Windows/Fonts/malgun.ttf\"\n",
    "font_name = mpl.font_manager.FontProperties(fname=path).get_name()"
   ]
  },
  {
   "cell_type": "markdown",
   "metadata": {},
   "source": [
    "## mpl.rc()"
   ]
  },
  {
   "cell_type": "code",
   "execution_count": null,
   "metadata": {},
   "outputs": [],
   "source": [
    "mpl.rc(\"font\", family=font_name)\n",
    "mpl.rc(\"axes\", unicode_minus=False)"
   ]
  },
  {
   "cell_type": "markdown",
   "metadata": {},
   "source": [
    "## matplotlib.pyplot"
   ]
  },
  {
   "cell_type": "code",
   "execution_count": 3,
   "metadata": {},
   "outputs": [],
   "source": [
    "import matplotlib.pyplot as plt"
   ]
  },
  {
   "cell_type": "markdown",
   "metadata": {},
   "source": [
    "### plt.subplots()"
   ]
  },
  {
   "cell_type": "code",
   "execution_count": 4,
   "metadata": {},
   "outputs": [
    {
     "ename": "SyntaxError",
     "evalue": "unexpected EOF while parsing (<ipython-input-4-bc69ba0ae8bb>, line 1)",
     "output_type": "error",
     "traceback": [
      "\u001b[1;36m  File \u001b[1;32m\"<ipython-input-4-bc69ba0ae8bb>\"\u001b[1;36m, line \u001b[1;32m1\u001b[0m\n\u001b[1;33m    fig, (ax1, ax2) = plt.subplots(2, 1, figsize=(16, 12)\u001b[0m\n\u001b[1;37m                                                         ^\u001b[0m\n\u001b[1;31mSyntaxError\u001b[0m\u001b[1;31m:\u001b[0m unexpected EOF while parsing\n"
     ]
    }
   ],
   "source": [
    "fig, (ax1, ax2) = plt.subplots(2, 1, figsize=(16, 12)"
   ]
  },
  {
   "cell_type": "markdown",
   "metadata": {},
   "source": [
    "### plt.setp()"
   ]
  },
  {
   "cell_type": "code",
   "execution_count": null,
   "metadata": {},
   "outputs": [],
   "source": [
    "plt.setp(obj=ax1, yticks=ml_mean_gr_ax1[\"le\"], yticklabels=ml_mean_gr_ax1.index)"
   ]
  },
  {
   "cell_type": "markdown",
   "metadata": {},
   "source": [
    "### fig.colorbar()"
   ]
  },
  {
   "cell_type": "code",
   "execution_count": null,
   "metadata": {},
   "outputs": [],
   "source": [
    "cbar = fig.colorbar(ax=ax, mappable=scatter)\n",
    "\n",
    "### plt.style.use()\n",
    "\n",
    "plt.style.use(\"dark_background\")\n",
    "\n",
    "### plt.imshow()\n",
    "\n",
    "plt.imshow(image.numpy().reshape(3,3), cmap=\"Greys\")\n",
    "\n",
    "### fig.savefig()\n",
    "\n",
    "fig.savefig(\"D:/☆디지털혁신팀/☆실거래가 분석/☆그래프/means_plot_200803.png\", bbox_inches=\"tight\")\n",
    "\n",
    "### fig.tight_layout()\n",
    "\n",
    "### cbar.set_label()\n",
    "\n",
    "cbar.set_label(label=\"전용면적(m²)\", size=15)\n",
    "\n",
    "### ax.set()\n",
    "\n",
    "ax.set(title=\"Example\", xlabel=\"xAxis\", ylabel=\"yAxis\", xlim=[0, 1], ylim=[-0.5, 2.5], xticks=data.index, yticks=[1, 1.05, 1.1, 1.15, 1.2, 1.25, 1.3])\n",
    "\n",
    "### ax.set_title()\n",
    "\n",
    "ax.set_title(\"Example\", size=20)\n",
    "\n",
    "### ax.set_xlabel(), ax.set_ylabel()\n",
    "\n",
    "ax.set_xlabel(\"xAxis\", size=15)\n",
    "\n",
    "### ax.set_xlim(), ax.set_ylim()\n",
    "\n",
    "ax.set_xlim([1, 4])\n",
    "\n",
    "### ax.axis()\n",
    "\n",
    "ax.axis([2, 3, 4, 10])\n",
    "\n",
    "### ax.yaxis.set_tick_position()\n",
    "\n",
    "ax2.yaxis.set_ticks_position(\"right\")\n",
    "\n",
    "### ax.set_xticks(), ax.set_yticks()\n",
    "\n",
    "ax.set_xticks([1, 2])\n",
    "\n",
    "### ax.tick_params()\n",
    "\n",
    "ax.tick_params(axis=\"x\", labelsize=20, labelcolor=\"red\", labelrotation=45, grid_linewidth=3)\n",
    "\n",
    "### ax.legend()\n",
    "\n",
    "ax.legend(fontsize=14, loc=\"best\")\n",
    "\n",
    "### ax.grid()\n",
    "\n",
    "ax.grid(axis=\"x\", color=\"White\", alpha=0.3, linestyle=\"--\", linewidth=2)\n",
    "\n",
    "### ax.plot()\n",
    "### ax.scatter()\n",
    "\n",
    "ax.scatter(x=gby[\"0.5km 내 교육기관 개수\"], y=gby[\"실거래가\"], s=70, c=gby[\"전용면적(m²)\"], cmap=\"RdYlBu\", alpha=0.7, edgecolors=\"black\", linewidth=0.5)\n",
    "\n",
    "### ax.barh()\n",
    "\n",
    "ax = plt.barh(y=ipark[\"index\"], width=ipark[\"가경4단지 84.8743A\"], height=0.2, alpha=0.5, color=\"red\", label=\"가경4단지 84.8743A\", edgecolor=\"black\", linewidth=1)\n",
    "\n",
    "### ax.hist()\n",
    "\n",
    "ax.hist(cnt_genre[\"genre\"])\n",
    "\n",
    "### ax.axhline()\n",
    "\n",
    "ax.axhline(y=mean, color=\"r\", linestyle=\":\", linewidth=2)\n",
    "\n",
    "### ax.text()\n",
    "\n",
    "ax1.text(y=row[\"le\"]-0.2, x=row[\"abs_error\"], s=round(row[\"abs_error\"], 1), va=\"center\", fontsize=12)\n",
    "\n",
    "### plot(kind=\"pie\")\n",
    "\n",
    "cnt_genre.sort_values(\"movie_id\", ascending=False)[\"movie_id\"].plot(ax=ax, kind=\"pie\", startangle=90, legend=True)\n",
    "\n",
    "\n",
    "# seaborn\n",
    "\n",
    "import seaborn as sb\n",
    "\n",
    "### sb.scatterplot()\n",
    "\n",
    "ax = sb.scatterplot(data=df, x=\"ppa\", y=\"error\", hue=\"id\", hue_norm=(20000, 20040), palette=\"RdYlGn\", s=70, alpha=0.5)\n",
    "\n",
    "### sb.lineplot()\n",
    "\n",
    "ax = sb.lineplot(x=data.index, y=data[\"ppa_ratio\"], linewidth=3, color=\"red\", label=\"흥덕구+서원구 아파트 평균\")\n",
    "ax=sb.lineplot(x=data.index, y=data[\"84A\"], linewidth=2, color=\"green\", label=\"가경아이파크 4단지 84A\")\n",
    "ax=sb.lineplot(x=data.index, y=data[\"84B\"], linewidth=2, color=\"blue\", label=\"가경아이파크 4단지 84B\")\n",
    "\n",
    "### sb.barplot()\n",
    "\n",
    "sb.barplot(ax=ax, x=area_df[\"ft_cut\"], y=area_df[0], color=\"brown\", edgecolor=\"black\", orient=\"v\")\n",
    "\n",
    "### sb.replot()\n",
    "\n",
    "ax = sbrelplot(x=\"total_bill\", y=\"tip\", col=\"time\", hue=\"day\", style=\"day\", kind=\"scatter\", data=tips)\n",
    "\n",
    "### sb.kedplot()\n",
    "\n",
    "ax = sb.kdeplot(np.array(data[\"ppa_root\"]))\n",
    "\n",
    "### sb.stripplot()\n",
    "\n",
    "ax = sb.stripplot(x=xx, y=yy, data=results_order, jitter=0.4, edgecolor=\"gray\", size=4)\n",
    "\n",
    "### sb.pairtplot()\n",
    "\n",
    "ax = sb.pairplot(data_for_corr)\n",
    "\n",
    "### sb.heatmap()\n",
    "* 출처 : [http://seaborn.pydata.org/generated/seaborn.heatmap.html](http://seaborn.pydata.org/generated/seaborn.heatmap.html) \n",
    "\n",
    "corr = data.corr(method=\"spearman\")\n",
    "cmap = sb.diverging_palette(220, 10, as_cmap=True)\n",
    "ax = sb.heatmap(corr, annot=True, annot_kws={\"size\": 10}, fmt=\".2f\", linewidths=0.2, cmap=cmap, center=0, vmin=-1, vmax=1)"
   ]
  }
 ],
 "metadata": {
  "kernelspec": {
   "display_name": "Python 3",
   "language": "python",
   "name": "python3"
  },
  "language_info": {
   "codemirror_mode": {
    "name": "ipython",
    "version": 3
   },
   "file_extension": ".py",
   "mimetype": "text/x-python",
   "name": "python",
   "nbconvert_exporter": "python",
   "pygments_lexer": "ipython3",
   "version": "3.7.7"
  }
 },
 "nbformat": 4,
 "nbformat_minor": 4
}
